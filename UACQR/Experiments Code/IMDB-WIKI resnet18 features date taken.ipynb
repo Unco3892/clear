{
 "cells": [
  {
   "cell_type": "markdown",
   "id": "71f45586-2660-4f4d-87aa-8561e90f6557",
   "metadata": {},
   "source": [
    "Data downloaded from https://data.vision.ee.ethz.ch/cvl/rrothe/imdb-wiki/. Specifically, the Wiki, faces-only data."
   ]
  },
  {
   "cell_type": "code",
   "execution_count": 1,
   "id": "d17f2823-3bbd-4d18-afec-d6c35d2c233d",
   "metadata": {},
   "outputs": [],
   "source": [
    "import pandas as pd"
   ]
  },
  {
   "cell_type": "code",
   "execution_count": 2,
   "id": "8d9dba9e-88e4-44a0-89ba-a5f387a9180c",
   "metadata": {},
   "outputs": [],
   "source": [
    "import numpy as np"
   ]
  },
  {
   "cell_type": "code",
   "execution_count": 3,
   "id": "bb24f426-9efc-4ead-aafe-cf9b934e6de8",
   "metadata": {},
   "outputs": [],
   "source": [
    "from datetime import datetime"
   ]
  },
  {
   "cell_type": "code",
   "execution_count": 4,
   "id": "dae31825-69a0-46a2-abef-f06a21a5859a",
   "metadata": {},
   "outputs": [],
   "source": [
    "from datetime import timedelta"
   ]
  },
  {
   "cell_type": "code",
   "execution_count": 5,
   "id": "0150e756-75ed-4603-8613-24ee759ea99e",
   "metadata": {},
   "outputs": [],
   "source": [
    "import scipy.io\n",
    "mat = scipy.io.loadmat('wiki.mat')"
   ]
  },
  {
   "cell_type": "code",
   "execution_count": 6,
   "id": "29cad7df-a6b4-4f9e-9539-c19a13bd4f50",
   "metadata": {},
   "outputs": [
    {
     "data": {
      "text/plain": [
       "array([(array([[723671, 703186, 711677, ..., 720620, 723893, 713846]], dtype=int32), array([[2009, 1964, 2008, ..., 2013, 2011, 2008]], dtype=uint16), array([[array(['17/10000217_1981-05-05_2009.jpg'], dtype='<U31'),\n",
       "               array(['48/10000548_1925-04-04_1964.jpg'], dtype='<U31'),\n",
       "               array(['12/100012_1948-07-03_2008.jpg'], dtype='<U29'), ...,\n",
       "               array(['09/9998109_1972-12-27_2013.jpg'], dtype='<U30'),\n",
       "               array(['00/9999400_1981-12-13_2011.jpg'], dtype='<U30'),\n",
       "               array(['80/999980_1954-06-11_2008.jpg'], dtype='<U29')]],\n",
       "             dtype=object), array([[1., 1., 1., ..., 1., 1., 0.]]), array([[array(['Sami Jauhojärvi'], dtype='<U15'),\n",
       "               array(['Dettmar Cramer'], dtype='<U14'),\n",
       "               array(['Marc Okrand'], dtype='<U11'), ...,\n",
       "               array(['Michael Wiesinger'], dtype='<U17'),\n",
       "               array(['Johann Grugger'], dtype='<U14'),\n",
       "               array(['Greta Van Susteren'], dtype='<U18')]], dtype=object), array([[array([[111.29109473, 111.29109473, 252.66993082, 252.66993082]]),\n",
       "               array([[252.4833023 , 126.68165115, 354.53192596, 228.73027481]]),\n",
       "               array([[113.52, 169.84, 366.08, 422.4 ]]), ...,\n",
       "               array([[169.88839786,  74.31669472, 235.2534231 , 139.68171997]]),\n",
       "               array([[1, 1, 1, 1]], dtype=uint8),\n",
       "               array([[ 92.72633235,  62.0435549 , 230.12083087, 199.43805342]])]],\n",
       "             dtype=object), array([[4.30096239, 2.6456395 , 4.32932883, ..., 3.49430317,       -inf,\n",
       "               5.48691655]]), array([[       nan, 1.94924791,        nan, ...,        nan,        nan,\n",
       "                      nan]]))                                                                                                                                                                                           ],\n",
       "      dtype=[('dob', 'O'), ('photo_taken', 'O'), ('full_path', 'O'), ('gender', 'O'), ('name', 'O'), ('face_location', 'O'), ('face_score', 'O'), ('second_face_score', 'O')])"
      ]
     },
     "execution_count": 6,
     "metadata": {},
     "output_type": "execute_result"
    }
   ],
   "source": [
    "mat['wiki'][0]"
   ]
  },
  {
   "cell_type": "code",
   "execution_count": 7,
   "id": "f99188fd-3fb6-4af4-8183-1620d995fad6",
   "metadata": {},
   "outputs": [],
   "source": [
    "# Preprocessing code from Walk with fastai (Zachary Mueller): https://walkwithfastai.com/Scalar_Regression\n",
    "def prepare_dataframe(mat):\n",
    "    \"Builds wiki_crop DataFrame based on https://sefiks.com/2019/02/13/apparent-age-and-gender-prediction-in-keras/\"\n",
    "    instances = mat['wiki'][0][0][0].shape[1]\n",
    "    columns = ['dob', 'photo_taken', 'path', 'gender', 'name', 'face_location', 'face_score', 'second_face_score']\n",
    "    df = pd.DataFrame(index=range(0, instances), columns=columns)\n",
    "    for i in mat:\n",
    "        if i == 'wiki':\n",
    "            curr_arr = mat[i][0][0]\n",
    "            for j, val in enumerate(curr_arr):\n",
    "                df[columns[j]] = pd.DataFrame(val[0])\n",
    "\n",
    "    ### Python datatime conversion\n",
    "    df['date_of_birth'] = df['dob'].apply(datenum_to_datetime)\n",
    "    df['age'] = df['photo_taken'] - df['date_of_birth']\n",
    "\n",
    "    ## Data cleaning\n",
    "    df = df[df['face_score'] != -np.inf] # picture doesn't include faces\n",
    "    df = df[df['second_face_score'].isna()] # more than one face\n",
    "    df = df[df['face_score'] > 3] # has a score\n",
    "    df = df[df['age'] < 100] # older than 100 (mostly paintings)\n",
    "    df = df[df['age'] > 0] # unborn people\n",
    "    df = df[['path', 'photo_taken' ,'age']]\n",
    "    df['photo_taken'] = df['photo_taken'] - df['photo_taken'].min()\n",
    "    df['path'] = df['path'].apply(lambda x: x[0])\n",
    "    return df\n",
    "\n",
    "def datenum_to_datetime(datenum):\n",
    "    days = datenum % 1\n",
    "    hours = days % 1 * 24\n",
    "    minutes = hours % 1 * 60\n",
    "    seconds = minutes % 1 * 60\n",
    "    exact_date = datetime.fromordinal(int(datenum)) \\\n",
    "    + timedelta(days=int(days)) + timedelta(hours=int(hours)) \\\n",
    "    + timedelta(minutes=int(minutes)) + timedelta(seconds=round(seconds)) \\\n",
    "    - timedelta(days=366)\n",
    "    return exact_date.year"
   ]
  },
  {
   "cell_type": "code",
   "execution_count": 8,
   "id": "feed7b60-e68e-41b2-8326-2108220aadd7",
   "metadata": {
    "scrolled": true
   },
   "outputs": [],
   "source": [
    "df = prepare_dataframe(mat)"
   ]
  },
  {
   "cell_type": "code",
   "execution_count": 9,
   "id": "b97a6339-19fd-4a29-a81d-997113067cd5",
   "metadata": {},
   "outputs": [
    {
     "data": {
      "text/html": [
       "<div>\n",
       "<style scoped>\n",
       "    .dataframe tbody tr th:only-of-type {\n",
       "        vertical-align: middle;\n",
       "    }\n",
       "\n",
       "    .dataframe tbody tr th {\n",
       "        vertical-align: top;\n",
       "    }\n",
       "\n",
       "    .dataframe thead th {\n",
       "        text-align: right;\n",
       "    }\n",
       "</style>\n",
       "<table border=\"1\" class=\"dataframe\">\n",
       "  <thead>\n",
       "    <tr style=\"text-align: right;\">\n",
       "      <th></th>\n",
       "      <th>path</th>\n",
       "      <th>photo_taken</th>\n",
       "      <th>age</th>\n",
       "    </tr>\n",
       "  </thead>\n",
       "  <tbody>\n",
       "    <tr>\n",
       "      <th>0</th>\n",
       "      <td>17/10000217_1981-05-05_2009.jpg</td>\n",
       "      <td>69</td>\n",
       "      <td>28</td>\n",
       "    </tr>\n",
       "    <tr>\n",
       "      <th>2</th>\n",
       "      <td>12/100012_1948-07-03_2008.jpg</td>\n",
       "      <td>68</td>\n",
       "      <td>60</td>\n",
       "    </tr>\n",
       "    <tr>\n",
       "      <th>4</th>\n",
       "      <td>16/10002116_1971-05-31_2012.jpg</td>\n",
       "      <td>72</td>\n",
       "      <td>41</td>\n",
       "    </tr>\n",
       "    <tr>\n",
       "      <th>5</th>\n",
       "      <td>02/10002702_1960-11-09_2012.jpg</td>\n",
       "      <td>72</td>\n",
       "      <td>52</td>\n",
       "    </tr>\n",
       "    <tr>\n",
       "      <th>6</th>\n",
       "      <td>41/10003541_1937-09-27_1971.jpg</td>\n",
       "      <td>31</td>\n",
       "      <td>34</td>\n",
       "    </tr>\n",
       "    <tr>\n",
       "      <th>...</th>\n",
       "      <td>...</td>\n",
       "      <td>...</td>\n",
       "      <td>...</td>\n",
       "    </tr>\n",
       "    <tr>\n",
       "      <th>62321</th>\n",
       "      <td>38/9996938_1937-02-15_1968.jpg</td>\n",
       "      <td>28</td>\n",
       "      <td>31</td>\n",
       "    </tr>\n",
       "    <tr>\n",
       "      <th>62322</th>\n",
       "      <td>46/9996946_1943-11-01_1968.jpg</td>\n",
       "      <td>28</td>\n",
       "      <td>25</td>\n",
       "    </tr>\n",
       "    <tr>\n",
       "      <th>62323</th>\n",
       "      <td>49/9996949_1937-04-17_1963.jpg</td>\n",
       "      <td>23</td>\n",
       "      <td>26</td>\n",
       "    </tr>\n",
       "    <tr>\n",
       "      <th>62325</th>\n",
       "      <td>09/9998109_1972-12-27_2013.jpg</td>\n",
       "      <td>73</td>\n",
       "      <td>41</td>\n",
       "    </tr>\n",
       "    <tr>\n",
       "      <th>62327</th>\n",
       "      <td>80/999980_1954-06-11_2008.jpg</td>\n",
       "      <td>68</td>\n",
       "      <td>54</td>\n",
       "    </tr>\n",
       "  </tbody>\n",
       "</table>\n",
       "<p>22573 rows × 3 columns</p>\n",
       "</div>"
      ],
      "text/plain": [
       "                                  path  photo_taken  age\n",
       "0      17/10000217_1981-05-05_2009.jpg           69   28\n",
       "2        12/100012_1948-07-03_2008.jpg           68   60\n",
       "4      16/10002116_1971-05-31_2012.jpg           72   41\n",
       "5      02/10002702_1960-11-09_2012.jpg           72   52\n",
       "6      41/10003541_1937-09-27_1971.jpg           31   34\n",
       "...                                ...          ...  ...\n",
       "62321   38/9996938_1937-02-15_1968.jpg           28   31\n",
       "62322   46/9996946_1943-11-01_1968.jpg           28   25\n",
       "62323   49/9996949_1937-04-17_1963.jpg           23   26\n",
       "62325   09/9998109_1972-12-27_2013.jpg           73   41\n",
       "62327    80/999980_1954-06-11_2008.jpg           68   54\n",
       "\n",
       "[22573 rows x 3 columns]"
      ]
     },
     "execution_count": 9,
     "metadata": {},
     "output_type": "execute_result"
    }
   ],
   "source": [
    "df"
   ]
  },
  {
   "cell_type": "code",
   "execution_count": 10,
   "id": "e184f607-d915-446b-9e9f-04ed7589322e",
   "metadata": {},
   "outputs": [
    {
     "data": {
      "text/plain": [
       "72    0.110397\n",
       "73    0.107429\n",
       "74    0.105037\n",
       "71    0.096354\n",
       "70    0.080007\n",
       "        ...   \n",
       "55    0.001418\n",
       "51    0.001418\n",
       "54    0.001373\n",
       "45    0.001329\n",
       "52    0.001240\n",
       "Name: photo_taken, Length: 76, dtype: float64"
      ]
     },
     "execution_count": 10,
     "metadata": {},
     "output_type": "execute_result"
    }
   ],
   "source": [
    "df['photo_taken'].value_counts(normalize=True, ascending=False)"
   ]
  },
  {
   "cell_type": "code",
   "execution_count": 11,
   "id": "72b1efaa-d7ef-43d0-a164-edaf3a07aa82",
   "metadata": {},
   "outputs": [
    {
     "data": {
      "text/plain": [
       "<Axes: title={'center': 'Histogram of Year Taken (Years elapsed since 1940)'}, ylabel='Frequency'>"
      ]
     },
     "execution_count": 11,
     "metadata": {},
     "output_type": "execute_result"
    },
    {
     "data": {
      "image/png": "[encoded data removed]",
      "text/plain": [
       "<Figure size 432x288 with 1 Axes>"
      ]
     },
     "metadata": {
      "needs_background": "light"
     },
     "output_type": "display_data"
    }
   ],
   "source": [
    "df['photo_taken'].plot.hist(density=True, title='Histogram of Year Taken (Years elapsed since 1940)')"
   ]
  },
  {
   "cell_type": "code",
   "execution_count": 12,
   "id": "3ac938f2-75d7-4f5b-a00f-4c9ced569fac",
   "metadata": {},
   "outputs": [
    {
     "data": {
      "text/plain": [
       "72    0.110397\n",
       "73    0.107429\n",
       "74    0.105037\n",
       "71    0.096354\n",
       "70    0.080007\n",
       "69    0.075799\n",
       "68    0.062243\n",
       "75    0.051655\n",
       "67    0.048642\n",
       "66    0.026536\n",
       "Name: photo_taken, dtype: float64"
      ]
     },
     "execution_count": 12,
     "metadata": {},
     "output_type": "execute_result"
    }
   ],
   "source": [
    "df['photo_taken'].value_counts(normalize=True).iloc[:10]"
   ]
  },
  {
   "cell_type": "code",
   "execution_count": 15,
   "id": "58ef3931-f306-4d47-8478-895deddeac35",
   "metadata": {},
   "outputs": [
    {
     "data": {
      "text/plain": [
       "<Axes: ylabel='Frequency'>"
      ]
     },
     "execution_count": 15,
     "metadata": {},
     "output_type": "execute_result"
    },
    {
     "data": {
      "image/png": "[encoded data removed]",
      "text/plain": [
       "<Figure size 432x288 with 1 Axes>"
      ]
     },
     "metadata": {
      "needs_background": "light"
     },
     "output_type": "display_data"
    }
   ],
   "source": [
    "df.loc[df.photo_taken<65, 'photo_taken'].plot.hist()"
   ]
  },
  {
   "cell_type": "code",
   "execution_count": 50,
   "id": "7457660f-420e-4e5e-8c66-64f9b7900dbc",
   "metadata": {},
   "outputs": [
    {
     "data": {
      "text/plain": [
       "6        31\n",
       "10       10\n",
       "11       29\n",
       "27       46\n",
       "28       29\n",
       "         ..\n",
       "62317    31\n",
       "62318    22\n",
       "62321    28\n",
       "62322    28\n",
       "62323    23\n",
       "Name: photo_taken, Length: 4965, dtype: uint16"
      ]
     },
     "execution_count": 50,
     "metadata": {},
     "output_type": "execute_result"
    }
   ],
   "source": [
    "df.loc[df.photo_taken<65, 'photo_taken']"
   ]
  },
  {
   "cell_type": "code",
   "execution_count": 52,
   "id": "3e701e49-0c67-4586-b943-ce7758779ce7",
   "metadata": {},
   "outputs": [
    {
     "data": {
      "text/plain": [
       "0        69\n",
       "2        68\n",
       "4        72\n",
       "5        72\n",
       "6        31\n",
       "         ..\n",
       "62321    28\n",
       "62322    28\n",
       "62323    23\n",
       "62325    73\n",
       "62327    68\n",
       "Name: photo_taken, Length: 22573, dtype: uint16"
      ]
     },
     "execution_count": 52,
     "metadata": {},
     "output_type": "execute_result"
    }
   ],
   "source": [
    "df['photo_taken']"
   ]
  },
  {
   "cell_type": "code",
   "execution_count": null,
   "id": "40a648b8-7107-4842-8d2e-10adba51de6c",
   "metadata": {},
   "outputs": [],
   "source": []
  },
  {
   "cell_type": "code",
   "execution_count": 35,
   "id": "318d0062-367f-42c0-9d5f-13b65bf053d2",
   "metadata": {},
   "outputs": [
    {
     "data": {
      "text/plain": [
       "<Axes: ylabel='Frequency'>"
      ]
     },
     "execution_count": 35,
     "metadata": {},
     "output_type": "execute_result"
    },
    {
     "data": {
      "image/png": "[encoded data removed]",
      "text/plain": [
       "<Figure size 432x288 with 1 Axes>"
      ]
     },
     "metadata": {
      "needs_background": "light"
     },
     "output_type": "display_data"
    }
   ],
   "source": [
    "df['age'].plot.hist(density=True)"
   ]
  },
  {
   "cell_type": "code",
   "execution_count": null,
   "id": "bafe6c99-a1b9-47d5-9b95-5ac2ca512e90",
   "metadata": {},
   "outputs": [],
   "source": []
  },
  {
   "cell_type": "code",
   "execution_count": 28,
   "id": "4239fdd7-ccf6-44dd-acb4-b1401a045e49",
   "metadata": {},
   "outputs": [
    {
     "data": {
      "text/plain": [
       "<Axes: ylabel='Frequency'>"
      ]
     },
     "execution_count": 28,
     "metadata": {},
     "output_type": "execute_result"
    },
    {
     "data": {
      "image/png": "[encoded data removed]",
      "text/plain": [
       "<Figure size 432x288 with 1 Axes>"
      ]
     },
     "metadata": {
      "needs_background": "light"
     },
     "output_type": "display_data"
    }
   ],
   "source": [
    "df['photo_taken'].plot.hist(cumulative=True, density=True)"
   ]
  },
  {
   "cell_type": "code",
   "execution_count": 26,
   "id": "03316fd8-1a33-4bb8-ad04-cab627d01066",
   "metadata": {},
   "outputs": [
    {
     "data": {
      "text/plain": [
       "61.0"
      ]
     },
     "execution_count": 26,
     "metadata": {},
     "output_type": "execute_result"
    }
   ],
   "source": [
    "df['photo_taken'].quantile(0.2)"
   ]
  },
  {
   "cell_type": "code",
   "execution_count": 10,
   "id": "014b3cfc-c463-423a-a7e2-d7160f93cb20",
   "metadata": {},
   "outputs": [],
   "source": [
    "base_path = '/share/data/willett-group/climate/data/wiki_crop/'"
   ]
  },
  {
   "cell_type": "code",
   "execution_count": 11,
   "id": "37ebd35e-cb1e-411a-bedf-fb7e9b883d66",
   "metadata": {},
   "outputs": [],
   "source": [
    "import pandas as pd\n",
    "import torch\n",
    "from torch.utils.data import Dataset, DataLoader\n",
    "from torchvision import transforms\n",
    "from PIL import Image\n",
    "import torch.nn as nn\n",
    "import torch.optim as optim\n",
    "\n",
    "\n",
    "# Custom Dataset\n",
    "class CustomImageDataset(Dataset):\n",
    "    def __init__(self, dataframe, transform=None, base_path = '/share/data/willett-group/climate/data/'):\n",
    "        self.dataframe = dataframe\n",
    "        self.transform = transform\n",
    "\n",
    "    def __len__(self):\n",
    "        return len(self.dataframe)\n",
    "\n",
    "    def __getitem__(self, idx):\n",
    "        img_path = self.dataframe.iloc[idx]['path']\n",
    "        image = Image.open(base_path+img_path)\n",
    "        response = torch.tensor(self.dataframe.iloc[idx]['photo_taken'], dtype=torch.float)\n",
    "\n",
    "        if self.transform:\n",
    "            image = self.transform(image)\n",
    "\n",
    "        return image, response\n",
    "# Custom transform function\n",
    "def convert_grayscale_to_rgb(image):\n",
    "    if image.mode != 'RGB':\n",
    "        return image.convert('RGB')\n",
    "    return image\n",
    "\n",
    "# Transforms\n",
    "transform = transforms.Compose([\n",
    "    transforms.Lambda(convert_grayscale_to_rgb),\n",
    "    transforms.Resize((224, 224)),\n",
    "    transforms.ToTensor(),\n",
    "    transforms.Normalize(mean=[0.485, 0.456, 0.406], std=[0.229, 0.224, 0.225]),\n",
    "])\n",
    "\n",
    "# Dataset and DataLoader\n",
    "dataset = CustomImageDataset(df, transform=transform)\n",
    "dataloader = DataLoader(dataset, batch_size=4, shuffle=True)"
   ]
  },
  {
   "cell_type": "code",
   "execution_count": 12,
   "id": "aa6560bb-ee36-4baf-9a81-6f881e52618a",
   "metadata": {},
   "outputs": [
    {
     "data": {
      "image/png": "[encoded data removed]",
      "text/plain": [
       "<Figure size 432x288 with 1 Axes>"
      ]
     },
     "metadata": {
      "needs_background": "light"
     },
     "output_type": "display_data"
    }
   ],
   "source": [
    "import matplotlib.pyplot as plt\n",
    "import torchvision\n",
    "import numpy as np\n",
    "\n",
    "# Modified imshow function with label positions\n",
    "def imshow(img, labels, mean=[0.485, 0.456, 0.406], std=[0.229, 0.224, 0.225], num_images_per_row=4):\n",
    "    img = img.numpy().transpose((1, 2, 0))\n",
    "    img = std * img + mean  # denormalize\n",
    "    img = np.clip(img, 0, 1)\n",
    "    plt.imshow(img)\n",
    "\n",
    "    # Get the height and width of the image grid\n",
    "    grid_height, grid_width, _ = img.shape\n",
    "\n",
    "    # Height of each image\n",
    "    img_height = grid_height // (len(labels) // num_images_per_row)\n",
    "\n",
    "    # Display labels\n",
    "    for idx, label in enumerate(labels):\n",
    "        x = (idx % num_images_per_row) * img_height\n",
    "        y = (idx // num_images_per_row) * img_height\n",
    "        plt.text(x + 5, y + 15, label, color='white', backgroundcolor='black')\n",
    "\n",
    "    plt.show()\n",
    "\n",
    "# Get a batch of training data\n",
    "dataiter = iter(dataloader)\n",
    "images, labels = next(dataiter)\n",
    "\n",
    "# Make a grid from batch\n",
    "out = torchvision.utils.make_grid(images)\n",
    "\n",
    "# Convert labels to a list of strings if necessary\n",
    "labels = [str(label.item()) for label in labels]\n",
    "\n",
    "imshow(out, labels, num_images_per_row=4)\n"
   ]
  },
  {
   "cell_type": "code",
   "execution_count": 13,
   "id": "0f8aa21f-d76b-4148-b2de-70cc57db0994",
   "metadata": {},
   "outputs": [],
   "source": [
    "# Dataset and DataLoader\n",
    "dataset = CustomImageDataset(df, transform=transform)\n",
    "dataloader = DataLoader(dataset, batch_size=256, shuffle=False)"
   ]
  },
  {
   "cell_type": "code",
   "execution_count": 14,
   "id": "13e7d570-491f-4941-a0e0-5f97014e02e5",
   "metadata": {},
   "outputs": [
    {
     "name": "stdout",
     "output_type": "stream",
     "text": [
      "CPU times: user 2.26 s, sys: 1.57 s, total: 3.82 s\n",
      "Wall time: 4.12 s\n"
     ]
    },
    {
     "data": {
      "text/plain": [
       "Sequential(\n",
       "  (0): Conv2d(3, 64, kernel_size=(7, 7), stride=(2, 2), padding=(3, 3), bias=False)\n",
       "  (1): BatchNorm2d(64, eps=1e-05, momentum=0.1, affine=True, track_running_stats=True)\n",
       "  (2): ReLU(inplace=True)\n",
       "  (3): MaxPool2d(kernel_size=3, stride=2, padding=1, dilation=1, ceil_mode=False)\n",
       "  (4): Sequential(\n",
       "    (0): BasicBlock(\n",
       "      (conv1): Conv2d(64, 64, kernel_size=(3, 3), stride=(1, 1), padding=(1, 1), bias=False)\n",
       "      (bn1): BatchNorm2d(64, eps=1e-05, momentum=0.1, affine=True, track_running_stats=True)\n",
       "      (relu): ReLU(inplace=True)\n",
       "      (conv2): Conv2d(64, 64, kernel_size=(3, 3), stride=(1, 1), padding=(1, 1), bias=False)\n",
       "      (bn2): BatchNorm2d(64, eps=1e-05, momentum=0.1, affine=True, track_running_stats=True)\n",
       "    )\n",
       "    (1): BasicBlock(\n",
       "      (conv1): Conv2d(64, 64, kernel_size=(3, 3), stride=(1, 1), padding=(1, 1), bias=False)\n",
       "      (bn1): BatchNorm2d(64, eps=1e-05, momentum=0.1, affine=True, track_running_stats=True)\n",
       "      (relu): ReLU(inplace=True)\n",
       "      (conv2): Conv2d(64, 64, kernel_size=(3, 3), stride=(1, 1), padding=(1, 1), bias=False)\n",
       "      (bn2): BatchNorm2d(64, eps=1e-05, momentum=0.1, affine=True, track_running_stats=True)\n",
       "    )\n",
       "  )\n",
       "  (5): Sequential(\n",
       "    (0): BasicBlock(\n",
       "      (conv1): Conv2d(64, 128, kernel_size=(3, 3), stride=(2, 2), padding=(1, 1), bias=False)\n",
       "      (bn1): BatchNorm2d(128, eps=1e-05, momentum=0.1, affine=True, track_running_stats=True)\n",
       "      (relu): ReLU(inplace=True)\n",
       "      (conv2): Conv2d(128, 128, kernel_size=(3, 3), stride=(1, 1), padding=(1, 1), bias=False)\n",
       "      (bn2): BatchNorm2d(128, eps=1e-05, momentum=0.1, affine=True, track_running_stats=True)\n",
       "      (downsample): Sequential(\n",
       "        (0): Conv2d(64, 128, kernel_size=(1, 1), stride=(2, 2), bias=False)\n",
       "        (1): BatchNorm2d(128, eps=1e-05, momentum=0.1, affine=True, track_running_stats=True)\n",
       "      )\n",
       "    )\n",
       "    (1): BasicBlock(\n",
       "      (conv1): Conv2d(128, 128, kernel_size=(3, 3), stride=(1, 1), padding=(1, 1), bias=False)\n",
       "      (bn1): BatchNorm2d(128, eps=1e-05, momentum=0.1, affine=True, track_running_stats=True)\n",
       "      (relu): ReLU(inplace=True)\n",
       "      (conv2): Conv2d(128, 128, kernel_size=(3, 3), stride=(1, 1), padding=(1, 1), bias=False)\n",
       "      (bn2): BatchNorm2d(128, eps=1e-05, momentum=0.1, affine=True, track_running_stats=True)\n",
       "    )\n",
       "  )\n",
       "  (6): Sequential(\n",
       "    (0): BasicBlock(\n",
       "      (conv1): Conv2d(128, 256, kernel_size=(3, 3), stride=(2, 2), padding=(1, 1), bias=False)\n",
       "      (bn1): BatchNorm2d(256, eps=1e-05, momentum=0.1, affine=True, track_running_stats=True)\n",
       "      (relu): ReLU(inplace=True)\n",
       "      (conv2): Conv2d(256, 256, kernel_size=(3, 3), stride=(1, 1), padding=(1, 1), bias=False)\n",
       "      (bn2): BatchNorm2d(256, eps=1e-05, momentum=0.1, affine=True, track_running_stats=True)\n",
       "      (downsample): Sequential(\n",
       "        (0): Conv2d(128, 256, kernel_size=(1, 1), stride=(2, 2), bias=False)\n",
       "        (1): BatchNorm2d(256, eps=1e-05, momentum=0.1, affine=True, track_running_stats=True)\n",
       "      )\n",
       "    )\n",
       "    (1): BasicBlock(\n",
       "      (conv1): Conv2d(256, 256, kernel_size=(3, 3), stride=(1, 1), padding=(1, 1), bias=False)\n",
       "      (bn1): BatchNorm2d(256, eps=1e-05, momentum=0.1, affine=True, track_running_stats=True)\n",
       "      (relu): ReLU(inplace=True)\n",
       "      (conv2): Conv2d(256, 256, kernel_size=(3, 3), stride=(1, 1), padding=(1, 1), bias=False)\n",
       "      (bn2): BatchNorm2d(256, eps=1e-05, momentum=0.1, affine=True, track_running_stats=True)\n",
       "    )\n",
       "  )\n",
       "  (7): Sequential(\n",
       "    (0): BasicBlock(\n",
       "      (conv1): Conv2d(256, 512, kernel_size=(3, 3), stride=(2, 2), padding=(1, 1), bias=False)\n",
       "      (bn1): BatchNorm2d(512, eps=1e-05, momentum=0.1, affine=True, track_running_stats=True)\n",
       "      (relu): ReLU(inplace=True)\n",
       "      (conv2): Conv2d(512, 512, kernel_size=(3, 3), stride=(1, 1), padding=(1, 1), bias=False)\n",
       "      (bn2): BatchNorm2d(512, eps=1e-05, momentum=0.1, affine=True, track_running_stats=True)\n",
       "      (downsample): Sequential(\n",
       "        (0): Conv2d(256, 512, kernel_size=(1, 1), stride=(2, 2), bias=False)\n",
       "        (1): BatchNorm2d(512, eps=1e-05, momentum=0.1, affine=True, track_running_stats=True)\n",
       "      )\n",
       "    )\n",
       "    (1): BasicBlock(\n",
       "      (conv1): Conv2d(512, 512, kernel_size=(3, 3), stride=(1, 1), padding=(1, 1), bias=False)\n",
       "      (bn1): BatchNorm2d(512, eps=1e-05, momentum=0.1, affine=True, track_running_stats=True)\n",
       "      (relu): ReLU(inplace=True)\n",
       "      (conv2): Conv2d(512, 512, kernel_size=(3, 3), stride=(1, 1), padding=(1, 1), bias=False)\n",
       "      (bn2): BatchNorm2d(512, eps=1e-05, momentum=0.1, affine=True, track_running_stats=True)\n",
       "    )\n",
       "  )\n",
       "  (8): AdaptiveAvgPool2d(output_size=(1, 1))\n",
       ")"
      ]
     },
     "execution_count": 14,
     "metadata": {},
     "output_type": "execute_result"
    }
   ],
   "source": [
    "%%time\n",
    "import torch\n",
    "import torch.nn as nn\n",
    "import torchvision.models as models\n",
    "\n",
    "# Load pre-trained ResNet-18\n",
    "model = models.resnet18(pretrained=True)\n",
    "\n",
    "model_features = torch.nn.Sequential(*(list(model.children())[:-1]))\n",
    "\n",
    "for param in model_features.parameters():\n",
    "    param.requires_grad = False\n",
    "\n",
    "model_features.to('cuda')"
   ]
  },
  {
   "cell_type": "code",
   "execution_count": 15,
   "id": "7f94b042-f167-4043-a69e-cfa53ee4fcaa",
   "metadata": {},
   "outputs": [
    {
     "data": {
      "text/plain": [
       "512"
      ]
     },
     "execution_count": 15,
     "metadata": {},
     "output_type": "execute_result"
    }
   ],
   "source": [
    "model.fc.in_features"
   ]
  },
  {
   "cell_type": "code",
   "execution_count": 16,
   "id": "0ca5caf4-e307-4ec2-850e-a1cb6099a660",
   "metadata": {},
   "outputs": [
    {
     "name": "stdout",
     "output_type": "stream",
     "text": [
      "CPU times: user 560 ms, sys: 304 ms, total: 864 ms\n",
      "Wall time: 865 ms\n"
     ]
    },
    {
     "data": {
      "text/plain": [
       "(4, 512)"
      ]
     },
     "execution_count": 16,
     "metadata": {},
     "output_type": "execute_result"
    }
   ],
   "source": [
    "%%time\n",
    "model_features(images.to('cuda')).squeeze().cpu().numpy().shape"
   ]
  },
  {
   "cell_type": "code",
   "execution_count": 17,
   "id": "2e2be19a-635f-4be8-a58f-da6525ba4d81",
   "metadata": {},
   "outputs": [],
   "source": [
    "X = np.zeros((df.shape[0], model.fc.in_features))\n",
    "y = np.zeros((df.shape[0]))"
   ]
  },
  {
   "cell_type": "code",
   "execution_count": 18,
   "id": "d6171aa0-8590-44e6-9bba-5931f76f6fb6",
   "metadata": {},
   "outputs": [
    {
     "data": {
      "text/plain": [
       "(22573, 512)"
      ]
     },
     "execution_count": 18,
     "metadata": {},
     "output_type": "execute_result"
    }
   ],
   "source": [
    "X.shape"
   ]
  },
  {
   "cell_type": "code",
   "execution_count": 19,
   "id": "15b30c61-5e55-4cf0-bb5b-96c0e0cc45d4",
   "metadata": {},
   "outputs": [
    {
     "data": {
      "text/plain": [
       "(22573,)"
      ]
     },
     "execution_count": 19,
     "metadata": {},
     "output_type": "execute_result"
    }
   ],
   "source": [
    "y.shape"
   ]
  },
  {
   "cell_type": "code",
   "execution_count": 20,
   "id": "b9451549-3eaf-4a46-bb3c-156ff7e8b193",
   "metadata": {},
   "outputs": [],
   "source": [
    "from tqdm import tqdm"
   ]
  },
  {
   "cell_type": "code",
   "execution_count": 21,
   "id": "31358de8-b0a1-4b23-a55b-603a77b3f71d",
   "metadata": {},
   "outputs": [
    {
     "name": "stderr",
     "output_type": "stream",
     "text": [
      "100%|██████████| 89/89 [02:01<00:00,  1.36s/it]\n"
     ]
    }
   ],
   "source": [
    "i = 0\n",
    "for images, labels in tqdm(dataloader):\n",
    "    num_entries = images.shape[0]\n",
    "\n",
    "    X[i:(i+num_entries)] = model_features(images.to('cuda')).squeeze().cpu().numpy()\n",
    "\n",
    "    y[i:(i+num_entries)] = labels.numpy()\n",
    "\n",
    "    i = i + num_entries"
   ]
  },
  {
   "cell_type": "code",
   "execution_count": 22,
   "id": "0298151a-d84d-4e15-bc72-940d14d618ec",
   "metadata": {},
   "outputs": [
    {
     "data": {
      "text/plain": [
       "array([69., 68., 72., ..., 23., 73., 68.])"
      ]
     },
     "execution_count": 22,
     "metadata": {},
     "output_type": "execute_result"
    }
   ],
   "source": [
    "y"
   ]
  },
  {
   "cell_type": "code",
   "execution_count": 23,
   "id": "3553e549-84d1-4ddd-8c64-a6962bbe5e70",
   "metadata": {},
   "outputs": [],
   "source": [
    "np.save('IMDB_WIKI_RESNET18_y_date.npy', y)"
   ]
  },
  {
   "cell_type": "code",
   "execution_count": 24,
   "id": "43297565-cc9d-4d30-a2a1-18ba0c6e2406",
   "metadata": {},
   "outputs": [],
   "source": [
    "np.save('IMDB_WIKI_RESNET18_X.npy', X)"
   ]
  },
  {
   "cell_type": "code",
   "execution_count": 26,
   "id": "52e7dede-0924-4808-96e7-47027435b79f",
   "metadata": {},
   "outputs": [
    {
     "data": {
      "text/plain": [
       "(22573, 512)"
      ]
     },
     "execution_count": 26,
     "metadata": {},
     "output_type": "execute_result"
    }
   ],
   "source": [
    "X.shape"
   ]
  },
  {
   "cell_type": "code",
   "execution_count": 42,
   "id": "c0c63ec0-2669-48be-9787-94a611da6ddf",
   "metadata": {},
   "outputs": [
    {
     "data": {
      "text/html": [
       "<div>\n",
       "<style scoped>\n",
       "    .dataframe tbody tr th:only-of-type {\n",
       "        vertical-align: middle;\n",
       "    }\n",
       "\n",
       "    .dataframe tbody tr th {\n",
       "        vertical-align: top;\n",
       "    }\n",
       "\n",
       "    .dataframe thead th {\n",
       "        text-align: right;\n",
       "    }\n",
       "</style>\n",
       "<table border=\"1\" class=\"dataframe\">\n",
       "  <thead>\n",
       "    <tr style=\"text-align: right;\">\n",
       "      <th></th>\n",
       "      <th>path</th>\n",
       "      <th>age</th>\n",
       "    </tr>\n",
       "  </thead>\n",
       "  <tbody>\n",
       "    <tr>\n",
       "      <th>0</th>\n",
       "      <td>17/10000217_1981-05-05_2009.jpg</td>\n",
       "      <td>28</td>\n",
       "    </tr>\n",
       "    <tr>\n",
       "      <th>2</th>\n",
       "      <td>12/100012_1948-07-03_2008.jpg</td>\n",
       "      <td>60</td>\n",
       "    </tr>\n",
       "    <tr>\n",
       "      <th>4</th>\n",
       "      <td>16/10002116_1971-05-31_2012.jpg</td>\n",
       "      <td>41</td>\n",
       "    </tr>\n",
       "    <tr>\n",
       "      <th>5</th>\n",
       "      <td>02/10002702_1960-11-09_2012.jpg</td>\n",
       "      <td>52</td>\n",
       "    </tr>\n",
       "    <tr>\n",
       "      <th>6</th>\n",
       "      <td>41/10003541_1937-09-27_1971.jpg</td>\n",
       "      <td>34</td>\n",
       "    </tr>\n",
       "    <tr>\n",
       "      <th>...</th>\n",
       "      <td>...</td>\n",
       "      <td>...</td>\n",
       "    </tr>\n",
       "    <tr>\n",
       "      <th>62321</th>\n",
       "      <td>38/9996938_1937-02-15_1968.jpg</td>\n",
       "      <td>31</td>\n",
       "    </tr>\n",
       "    <tr>\n",
       "      <th>62322</th>\n",
       "      <td>46/9996946_1943-11-01_1968.jpg</td>\n",
       "      <td>25</td>\n",
       "    </tr>\n",
       "    <tr>\n",
       "      <th>62323</th>\n",
       "      <td>49/9996949_1937-04-17_1963.jpg</td>\n",
       "      <td>26</td>\n",
       "    </tr>\n",
       "    <tr>\n",
       "      <th>62325</th>\n",
       "      <td>09/9998109_1972-12-27_2013.jpg</td>\n",
       "      <td>41</td>\n",
       "    </tr>\n",
       "    <tr>\n",
       "      <th>62327</th>\n",
       "      <td>80/999980_1954-06-11_2008.jpg</td>\n",
       "      <td>54</td>\n",
       "    </tr>\n",
       "  </tbody>\n",
       "</table>\n",
       "<p>22573 rows × 2 columns</p>\n",
       "</div>"
      ],
      "text/plain": [
       "                                  path  age\n",
       "0      17/10000217_1981-05-05_2009.jpg   28\n",
       "2        12/100012_1948-07-03_2008.jpg   60\n",
       "4      16/10002116_1971-05-31_2012.jpg   41\n",
       "5      02/10002702_1960-11-09_2012.jpg   52\n",
       "6      41/10003541_1937-09-27_1971.jpg   34\n",
       "...                                ...  ...\n",
       "62321   38/9996938_1937-02-15_1968.jpg   31\n",
       "62322   46/9996946_1943-11-01_1968.jpg   25\n",
       "62323   49/9996949_1937-04-17_1963.jpg   26\n",
       "62325   09/9998109_1972-12-27_2013.jpg   41\n",
       "62327    80/999980_1954-06-11_2008.jpg   54\n",
       "\n",
       "[22573 rows x 2 columns]"
      ]
     },
     "execution_count": 42,
     "metadata": {},
     "output_type": "execute_result"
    }
   ],
   "source": [
    "df"
   ]
  },
  {
   "cell_type": "code",
   "execution_count": 26,
   "id": "95418dca-a76d-4ba2-a30f-cddbe6fdf9d7",
   "metadata": {},
   "outputs": [
    {
     "data": {
      "text/plain": [
       "device(type='cpu')"
      ]
     },
     "execution_count": 26,
     "metadata": {},
     "output_type": "execute_result"
    }
   ],
   "source": [
    "images.device"
   ]
  },
  {
   "cell_type": "code",
   "execution_count": 130,
   "id": "2caa0879-2f59-4e0e-b823-0ed5423e8384",
   "metadata": {},
   "outputs": [
    {
     "name": "stdout",
     "output_type": "stream",
     "text": [
      "CPU times: user 1.7 s, sys: 196 ms, total: 1.89 s\n",
      "Wall time: 3.43 s\n"
     ]
    }
   ],
   "source": [
    "%%time\n",
    "# Get a batch of training data\n",
    "dataiter = iter(dataloader)\n",
    "images, labels = next(dataiter)"
   ]
  },
  {
   "cell_type": "code",
   "execution_count": 116,
   "id": "7419ee9f-e34b-44e6-8d62-a1784f239d79",
   "metadata": {},
   "outputs": [
    {
     "data": {
      "text/plain": [
       "device(type='cpu')"
      ]
     },
     "execution_count": 116,
     "metadata": {},
     "output_type": "execute_result"
    }
   ],
   "source": [
    "images.device"
   ]
  },
  {
   "cell_type": "code",
   "execution_count": 118,
   "id": "47570871-a75d-4717-acba-008203f96806",
   "metadata": {},
   "outputs": [
    {
     "data": {
      "text/plain": [
       "Sequential(\n",
       "  (0): Conv2d(3, 64, kernel_size=(7, 7), stride=(2, 2), padding=(3, 3), bias=False)\n",
       "  (1): BatchNorm2d(64, eps=1e-05, momentum=0.1, affine=True, track_running_stats=True)\n",
       "  (2): ReLU(inplace=True)\n",
       "  (3): MaxPool2d(kernel_size=3, stride=2, padding=1, dilation=1, ceil_mode=False)\n",
       "  (4): Sequential(\n",
       "    (0): BasicBlock(\n",
       "      (conv1): Conv2d(64, 64, kernel_size=(3, 3), stride=(1, 1), padding=(1, 1), bias=False)\n",
       "      (bn1): BatchNorm2d(64, eps=1e-05, momentum=0.1, affine=True, track_running_stats=True)\n",
       "      (relu): ReLU(inplace=True)\n",
       "      (conv2): Conv2d(64, 64, kernel_size=(3, 3), stride=(1, 1), padding=(1, 1), bias=False)\n",
       "      (bn2): BatchNorm2d(64, eps=1e-05, momentum=0.1, affine=True, track_running_stats=True)\n",
       "    )\n",
       "    (1): BasicBlock(\n",
       "      (conv1): Conv2d(64, 64, kernel_size=(3, 3), stride=(1, 1), padding=(1, 1), bias=False)\n",
       "      (bn1): BatchNorm2d(64, eps=1e-05, momentum=0.1, affine=True, track_running_stats=True)\n",
       "      (relu): ReLU(inplace=True)\n",
       "      (conv2): Conv2d(64, 64, kernel_size=(3, 3), stride=(1, 1), padding=(1, 1), bias=False)\n",
       "      (bn2): BatchNorm2d(64, eps=1e-05, momentum=0.1, affine=True, track_running_stats=True)\n",
       "    )\n",
       "  )\n",
       "  (5): Sequential(\n",
       "    (0): BasicBlock(\n",
       "      (conv1): Conv2d(64, 128, kernel_size=(3, 3), stride=(2, 2), padding=(1, 1), bias=False)\n",
       "      (bn1): BatchNorm2d(128, eps=1e-05, momentum=0.1, affine=True, track_running_stats=True)\n",
       "      (relu): ReLU(inplace=True)\n",
       "      (conv2): Conv2d(128, 128, kernel_size=(3, 3), stride=(1, 1), padding=(1, 1), bias=False)\n",
       "      (bn2): BatchNorm2d(128, eps=1e-05, momentum=0.1, affine=True, track_running_stats=True)\n",
       "      (downsample): Sequential(\n",
       "        (0): Conv2d(64, 128, kernel_size=(1, 1), stride=(2, 2), bias=False)\n",
       "        (1): BatchNorm2d(128, eps=1e-05, momentum=0.1, affine=True, track_running_stats=True)\n",
       "      )\n",
       "    )\n",
       "    (1): BasicBlock(\n",
       "      (conv1): Conv2d(128, 128, kernel_size=(3, 3), stride=(1, 1), padding=(1, 1), bias=False)\n",
       "      (bn1): BatchNorm2d(128, eps=1e-05, momentum=0.1, affine=True, track_running_stats=True)\n",
       "      (relu): ReLU(inplace=True)\n",
       "      (conv2): Conv2d(128, 128, kernel_size=(3, 3), stride=(1, 1), padding=(1, 1), bias=False)\n",
       "      (bn2): BatchNorm2d(128, eps=1e-05, momentum=0.1, affine=True, track_running_stats=True)\n",
       "    )\n",
       "  )\n",
       "  (6): Sequential(\n",
       "    (0): BasicBlock(\n",
       "      (conv1): Conv2d(128, 256, kernel_size=(3, 3), stride=(2, 2), padding=(1, 1), bias=False)\n",
       "      (bn1): BatchNorm2d(256, eps=1e-05, momentum=0.1, affine=True, track_running_stats=True)\n",
       "      (relu): ReLU(inplace=True)\n",
       "      (conv2): Conv2d(256, 256, kernel_size=(3, 3), stride=(1, 1), padding=(1, 1), bias=False)\n",
       "      (bn2): BatchNorm2d(256, eps=1e-05, momentum=0.1, affine=True, track_running_stats=True)\n",
       "      (downsample): Sequential(\n",
       "        (0): Conv2d(128, 256, kernel_size=(1, 1), stride=(2, 2), bias=False)\n",
       "        (1): BatchNorm2d(256, eps=1e-05, momentum=0.1, affine=True, track_running_stats=True)\n",
       "      )\n",
       "    )\n",
       "    (1): BasicBlock(\n",
       "      (conv1): Conv2d(256, 256, kernel_size=(3, 3), stride=(1, 1), padding=(1, 1), bias=False)\n",
       "      (bn1): BatchNorm2d(256, eps=1e-05, momentum=0.1, affine=True, track_running_stats=True)\n",
       "      (relu): ReLU(inplace=True)\n",
       "      (conv2): Conv2d(256, 256, kernel_size=(3, 3), stride=(1, 1), padding=(1, 1), bias=False)\n",
       "      (bn2): BatchNorm2d(256, eps=1e-05, momentum=0.1, affine=True, track_running_stats=True)\n",
       "    )\n",
       "  )\n",
       "  (7): Sequential(\n",
       "    (0): BasicBlock(\n",
       "      (conv1): Conv2d(256, 512, kernel_size=(3, 3), stride=(2, 2), padding=(1, 1), bias=False)\n",
       "      (bn1): BatchNorm2d(512, eps=1e-05, momentum=0.1, affine=True, track_running_stats=True)\n",
       "      (relu): ReLU(inplace=True)\n",
       "      (conv2): Conv2d(512, 512, kernel_size=(3, 3), stride=(1, 1), padding=(1, 1), bias=False)\n",
       "      (bn2): BatchNorm2d(512, eps=1e-05, momentum=0.1, affine=True, track_running_stats=True)\n",
       "      (downsample): Sequential(\n",
       "        (0): Conv2d(256, 512, kernel_size=(1, 1), stride=(2, 2), bias=False)\n",
       "        (1): BatchNorm2d(512, eps=1e-05, momentum=0.1, affine=True, track_running_stats=True)\n",
       "      )\n",
       "    )\n",
       "    (1): BasicBlock(\n",
       "      (conv1): Conv2d(512, 512, kernel_size=(3, 3), stride=(1, 1), padding=(1, 1), bias=False)\n",
       "      (bn1): BatchNorm2d(512, eps=1e-05, momentum=0.1, affine=True, track_running_stats=True)\n",
       "      (relu): ReLU(inplace=True)\n",
       "      (conv2): Conv2d(512, 512, kernel_size=(3, 3), stride=(1, 1), padding=(1, 1), bias=False)\n",
       "      (bn2): BatchNorm2d(512, eps=1e-05, momentum=0.1, affine=True, track_running_stats=True)\n",
       "    )\n",
       "  )\n",
       "  (8): AdaptiveAvgPool2d(output_size=(1, 1))\n",
       ")"
      ]
     },
     "execution_count": 118,
     "metadata": {},
     "output_type": "execute_result"
    }
   ],
   "source": [
    "model_features.to('cuda')"
   ]
  },
  {
   "cell_type": "code",
   "execution_count": 119,
   "id": "9829cbb0-d7da-4a0f-96d9-d035b8512309",
   "metadata": {},
   "outputs": [],
   "source": [
    "for param in model_features.parameters():\n",
    "    param.requires_grad = False"
   ]
  },
  {
   "cell_type": "code",
   "execution_count": 121,
   "id": "70f9288c-335e-43c8-b4be-a5d5b20fc649",
   "metadata": {},
   "outputs": [
    {
     "data": {
      "text/plain": [
       "tensor([[[[-1.5357, -1.5699, -1.6384,  ..., -1.4500, -1.4500, -1.3644],\n",
       "          [-1.5870, -1.6213, -1.6555,  ..., -1.4500, -1.4329, -1.3644],\n",
       "          [-1.5699, -1.5699, -1.6042,  ..., -1.4500, -1.4158, -1.3644],\n",
       "          ...,\n",
       "          [-1.7412, -1.7240, -1.7583,  ..., -1.5528, -1.1932, -1.2274],\n",
       "          [-1.8268, -1.8268, -1.8439,  ..., -1.3130, -1.2959, -1.5357],\n",
       "          [-1.8097, -1.8782, -1.8782,  ..., -1.2617, -1.5870, -1.8268]],\n",
       "\n",
       "         [[-1.1078, -1.1253, -1.1954,  ..., -1.3179, -1.3179, -1.2479],\n",
       "          [-1.1954, -1.1779, -1.2304,  ..., -1.3179, -1.3004, -1.2479],\n",
       "          [-1.2129, -1.1954, -1.2129,  ..., -1.3179, -1.2829, -1.2304],\n",
       "          ...,\n",
       "          [-1.4405, -1.4230, -1.4580,  ..., -1.4230, -1.0903, -1.1429],\n",
       "          [-1.5280, -1.5280, -1.5455,  ..., -1.1779, -1.1954, -1.4580],\n",
       "          [-1.5105, -1.5805, -1.5805,  ..., -1.1253, -1.4930, -1.7731]],\n",
       "\n",
       "         [[-0.7238, -0.7413, -0.8110,  ..., -0.8807, -0.8807, -0.8110],\n",
       "          [-0.7936, -0.7936, -0.8458,  ..., -0.8807, -0.8633, -0.8110],\n",
       "          [-0.7936, -0.7761, -0.8110,  ..., -0.8807, -0.8458, -0.7936],\n",
       "          ...,\n",
       "          [-1.2816, -1.2641, -1.2467,  ..., -1.3339, -1.0550, -1.1421],\n",
       "          [-1.3687, -1.3513, -1.3339,  ..., -1.1247, -1.1770, -1.4559],\n",
       "          [-1.3513, -1.4036, -1.3687,  ..., -1.0724, -1.4559, -1.7347]]],\n",
       "\n",
       "\n",
       "        [[[-1.0904, -1.1932, -1.2274,  ...,  0.6049,  0.1768,  0.1426],\n",
       "          [-1.0390, -1.1589, -1.3130,  ...,  0.3823,  0.1254,  0.0227],\n",
       "          [-1.0048, -1.1932, -1.3130,  ...,  0.2111,  0.0398,  0.0912],\n",
       "          ...,\n",
       "          [-1.3644, -1.5357, -1.8439,  ..., -1.2274, -1.0904, -1.0219],\n",
       "          [-1.4329, -1.5528, -1.8439,  ..., -1.2103, -1.2103, -1.1247],\n",
       "          [-1.5014, -1.6898, -1.8097,  ..., -1.2445, -1.1760, -1.1589]],\n",
       "\n",
       "         [[-1.0553, -1.1604, -1.1954,  ...,  0.2752, -0.2150, -0.3375],\n",
       "          [-1.0028, -1.1253, -1.2829,  ...,  0.1352, -0.1800, -0.4076],\n",
       "          [-0.9678, -1.1604, -1.2829,  ...,  0.0301, -0.2325, -0.3725],\n",
       "          ...,\n",
       "          [-1.2829, -1.4580, -1.7731,  ..., -1.1954, -1.0553, -0.9853],\n",
       "          [-1.3529, -1.4755, -1.7731,  ..., -1.1779, -1.1779, -1.0903],\n",
       "          [-1.4230, -1.6155, -1.7381,  ..., -1.2129, -1.1429, -1.1253]],\n",
       "\n",
       "         [[-0.8458, -0.9504, -0.9853,  ...,  0.1825, -0.3055, -0.3927],\n",
       "          [-0.7936, -0.9156, -1.0724,  ...,  0.0256, -0.3230, -0.5321],\n",
       "          [-0.7587, -0.9504, -1.0724,  ..., -0.1312, -0.4101, -0.5321],\n",
       "          ...,\n",
       "          [-1.0898, -1.2641, -1.5779,  ..., -1.0201, -0.8807, -0.8110],\n",
       "          [-1.1596, -1.2816, -1.5779,  ..., -1.0027, -1.0027, -0.9156],\n",
       "          [-1.2293, -1.4210, -1.5430,  ..., -1.0376, -0.9678, -0.9504]]],\n",
       "\n",
       "\n",
       "        [[[ 1.6153,  1.5982,  1.5810,  ...,  1.4440,  1.4440,  1.4440],\n",
       "          [ 1.6324,  1.6153,  1.5982,  ...,  1.4440,  1.4440,  1.4612],\n",
       "          [ 1.6324,  1.6153,  1.5982,  ...,  1.4440,  1.4440,  1.4612],\n",
       "          ...,\n",
       "          [ 1.6838,  1.6838,  1.6838,  ..., -0.0458, -0.0629, -0.0801],\n",
       "          [ 1.6667,  1.6838,  1.6838,  ..., -0.0116, -0.0287, -0.0629],\n",
       "          [ 1.6495,  1.6667,  1.6667,  ..., -0.0116, -0.0458, -0.0801]],\n",
       "\n",
       "         [[ 1.7808,  1.7633,  1.7458,  ...,  1.6057,  1.6057,  1.6057],\n",
       "          [ 1.7983,  1.7808,  1.7633,  ...,  1.6057,  1.6057,  1.6232],\n",
       "          [ 1.7983,  1.7808,  1.7633,  ...,  1.6057,  1.6057,  1.6232],\n",
       "          ...,\n",
       "          [ 1.8508,  1.8508,  1.8508,  ...,  0.0826,  0.0651,  0.0476],\n",
       "          [ 1.8333,  1.8508,  1.8508,  ...,  0.1176,  0.1001,  0.0651],\n",
       "          [ 1.8158,  1.8333,  1.8333,  ...,  0.1176,  0.0826,  0.0476]],\n",
       "\n",
       "         [[ 1.9951,  1.9777,  1.9603,  ...,  1.8208,  1.8208,  1.8208],\n",
       "          [ 2.0125,  1.9951,  1.9777,  ...,  1.8208,  1.8208,  1.8383],\n",
       "          [ 2.0125,  1.9951,  1.9777,  ...,  1.8208,  1.8208,  1.8383],\n",
       "          ...,\n",
       "          [ 2.0648,  2.0648,  2.0648,  ...,  0.3045,  0.2871,  0.2696],\n",
       "          [ 2.0474,  2.0648,  2.0648,  ...,  0.3393,  0.3219,  0.2871],\n",
       "          [ 2.0300,  2.0474,  2.0474,  ...,  0.3393,  0.3045,  0.2696]]],\n",
       "\n",
       "\n",
       "        ...,\n",
       "\n",
       "\n",
       "        [[[-1.6213, -1.6213, -1.6213,  ..., -1.7754, -1.7412, -1.7412],\n",
       "          [-1.6213, -1.6213, -1.6213,  ..., -1.7754, -1.7925, -1.7925],\n",
       "          [-1.6213, -1.6213, -1.6213,  ..., -1.7754, -1.7583, -1.7583],\n",
       "          ...,\n",
       "          [-1.2959, -1.2959, -1.2959,  ..., -1.7583, -1.8097, -1.7925],\n",
       "          [-1.3644, -1.3644, -1.3644,  ..., -1.8097, -1.7412, -1.7412],\n",
       "          [-1.3644, -1.3644, -1.3644,  ..., -1.8097, -1.7412, -1.7412]],\n",
       "\n",
       "         [[-1.4930, -1.4930, -1.4930,  ..., -1.8081, -1.8431, -1.8431],\n",
       "          [-1.5280, -1.5280, -1.5280,  ..., -1.8256, -1.8957, -1.8957],\n",
       "          [-1.5455, -1.5455, -1.5455,  ..., -1.8081, -1.8606, -1.8606],\n",
       "          ...,\n",
       "          [-1.1078, -1.1078, -1.1078,  ..., -1.7381, -1.7556, -1.7381],\n",
       "          [-1.1253, -1.1253, -1.1253,  ..., -1.7731, -1.7381, -1.7381],\n",
       "          [-1.1253, -1.1253, -1.1253,  ..., -1.7731, -1.7381, -1.7381]],\n",
       "\n",
       "         [[-1.0027, -1.0027, -1.0027,  ..., -1.4559, -1.5081, -1.5081],\n",
       "          [-1.0550, -1.0550, -1.0550,  ..., -1.4733, -1.5604, -1.5604],\n",
       "          [-1.0724, -1.0724, -1.0724,  ..., -1.4559, -1.5256, -1.5256],\n",
       "          ...,\n",
       "          [-0.8284, -0.8284, -0.8284,  ..., -1.4036, -1.4733, -1.4559],\n",
       "          [-0.8458, -0.8458, -0.8458,  ..., -1.4559, -1.4036, -1.4036],\n",
       "          [-0.8458, -0.8458, -0.8458,  ..., -1.4559, -1.4036, -1.4036]]],\n",
       "\n",
       "\n",
       "        [[[-1.6042, -1.6042, -1.6042,  ..., -1.9124, -1.9124, -1.9124],\n",
       "          [-1.6384, -1.6384, -1.6384,  ..., -1.8953, -1.8953, -1.8953],\n",
       "          [-1.6213, -1.6213, -1.6213,  ..., -1.9124, -1.9124, -1.9124],\n",
       "          ...,\n",
       "          [ 1.5810,  1.6838,  1.7865,  ...,  1.8722,  1.8722,  1.8722],\n",
       "          [ 1.6667,  1.7352,  1.7865,  ...,  1.8722,  1.8722,  1.8722],\n",
       "          [ 1.7523,  1.7694,  1.8037,  ...,  1.9235,  1.9235,  1.9235]],\n",
       "\n",
       "         [[-1.1779, -1.1779, -1.1779,  ..., -1.7031, -1.7031, -1.7031],\n",
       "          [-1.2129, -1.2129, -1.2129,  ..., -1.6856, -1.6856, -1.6856],\n",
       "          [-1.1954, -1.1954, -1.1954,  ..., -1.7381, -1.7381, -1.7381],\n",
       "          ...,\n",
       "          [ 1.7458,  1.8508,  1.9559,  ...,  2.0609,  2.0609,  2.0609],\n",
       "          [ 1.8333,  1.9034,  1.9559,  ...,  2.0609,  2.0609,  2.0609],\n",
       "          [ 1.9209,  1.9384,  1.9559,  ...,  2.1134,  2.1134,  2.1134]],\n",
       "\n",
       "         [[-0.7064, -0.7064, -0.7064,  ..., -1.3687, -1.3687, -1.3687],\n",
       "          [-0.7413, -0.7413, -0.7413,  ..., -1.3513, -1.3513, -1.3513],\n",
       "          [-0.7238, -0.7238, -0.7238,  ..., -1.4210, -1.4210, -1.4210],\n",
       "          ...,\n",
       "          [ 1.9254,  2.0648,  2.2043,  ...,  2.3088,  2.3088,  2.3088],\n",
       "          [ 2.0125,  2.0997,  2.2043,  ...,  2.3088,  2.3088,  2.3088],\n",
       "          [ 2.0997,  2.1346,  2.2217,  ...,  2.3611,  2.3611,  2.3611]]],\n",
       "\n",
       "\n",
       "        [[[ 0.2111,  0.2282,  0.2624,  ...,  0.6906,  0.6906,  0.6906],\n",
       "          [ 0.1939,  0.2111,  0.2453,  ...,  0.7591,  0.7591,  0.7591],\n",
       "          [ 0.1597,  0.1939,  0.2282,  ...,  0.8447,  0.8447,  0.8447],\n",
       "          ...,\n",
       "          [ 0.1254,  0.1083,  0.1083,  ...,  0.7933,  0.7762,  0.7591],\n",
       "          [ 0.1254,  0.1083,  0.1083,  ...,  0.7933,  0.7762,  0.7762],\n",
       "          [ 0.1254,  0.1083,  0.1083,  ...,  0.7933,  0.7933,  0.7933]],\n",
       "\n",
       "         [[ 0.5378,  0.5553,  0.5728,  ...,  1.0980,  1.0980,  1.0980],\n",
       "          [ 0.5203,  0.5378,  0.5553,  ...,  1.1506,  1.1506,  1.1506],\n",
       "          [ 0.5028,  0.5203,  0.5378,  ...,  1.2206,  1.2206,  1.2206],\n",
       "          ...,\n",
       "          [ 0.6779,  0.6604,  0.6604,  ...,  1.2381,  1.2381,  1.2556],\n",
       "          [ 0.6779,  0.6604,  0.6604,  ...,  1.2381,  1.2381,  1.2556],\n",
       "          [ 0.6779,  0.6604,  0.6604,  ...,  1.2381,  1.2381,  1.2381]],\n",
       "\n",
       "         [[ 0.2348,  0.2871,  0.3393,  ...,  1.4374,  1.4374,  1.4374],\n",
       "          [ 0.2173,  0.2696,  0.3219,  ...,  1.4897,  1.4897,  1.4897],\n",
       "          [ 0.1999,  0.2348,  0.3045,  ...,  1.5768,  1.5768,  1.5768],\n",
       "          ...,\n",
       "          [-0.0092, -0.0267, -0.0267,  ...,  1.9428,  1.9428,  1.9428],\n",
       "          [-0.0092, -0.0267, -0.0267,  ...,  1.9428,  1.9428,  1.9428],\n",
       "          [-0.0092, -0.0267, -0.0267,  ...,  1.9428,  1.9428,  1.9428]]]],\n",
       "       device='cuda:0')"
      ]
     },
     "execution_count": 121,
     "metadata": {},
     "output_type": "execute_result"
    }
   ],
   "source": [
    "images.to('cuda')"
   ]
  },
  {
   "cell_type": "code",
   "execution_count": 123,
   "id": "8bbbdd89-7776-4fc7-9aaa-091a9506d16b",
   "metadata": {},
   "outputs": [
    {
     "ename": "AttributeError",
     "evalue": "'Sequential' object has no attribute 'device'",
     "output_type": "error",
     "traceback": [
      "\u001b[0;31m---------------------------------------------------------------------------\u001b[0m",
      "\u001b[0;31mAttributeError\u001b[0m                            Traceback (most recent call last)",
      "\u001b[0;32m<ipython-input-123-5288562875ee>\u001b[0m in \u001b[0;36m<module>\u001b[0;34m\u001b[0m\n\u001b[0;32m----> 1\u001b[0;31m \u001b[0mmodel_features\u001b[0m\u001b[0;34m.\u001b[0m\u001b[0mdevice\u001b[0m\u001b[0;34m\u001b[0m\u001b[0;34m\u001b[0m\u001b[0m\n\u001b[0m",
      "\u001b[0;32m~/miniconda/lib/python3.8/site-packages/torch/nn/modules/module.py\u001b[0m in \u001b[0;36m__getattr__\u001b[0;34m(self, name)\u001b[0m\n\u001b[1;32m   1183\u001b[0m             \u001b[0;32mif\u001b[0m \u001b[0mname\u001b[0m \u001b[0;32min\u001b[0m \u001b[0mmodules\u001b[0m\u001b[0;34m:\u001b[0m\u001b[0;34m\u001b[0m\u001b[0;34m\u001b[0m\u001b[0m\n\u001b[1;32m   1184\u001b[0m                 \u001b[0;32mreturn\u001b[0m \u001b[0mmodules\u001b[0m\u001b[0;34m[\u001b[0m\u001b[0mname\u001b[0m\u001b[0;34m]\u001b[0m\u001b[0;34m\u001b[0m\u001b[0;34m\u001b[0m\u001b[0m\n\u001b[0;32m-> 1185\u001b[0;31m         raise AttributeError(\"'{}' object has no attribute '{}'\".format(\n\u001b[0m\u001b[1;32m   1186\u001b[0m             type(self).__name__, name))\n\u001b[1;32m   1187\u001b[0m \u001b[0;34m\u001b[0m\u001b[0m\n",
      "\u001b[0;31mAttributeError\u001b[0m: 'Sequential' object has no attribute 'device'"
     ]
    }
   ],
   "source": [
    "model_features.device"
   ]
  },
  {
   "cell_type": "code",
   "execution_count": 122,
   "id": "2348d410-b0af-4b7b-9f8a-7b52bbe6fd56",
   "metadata": {},
   "outputs": [
    {
     "data": {
      "text/plain": [
       "device(type='cpu')"
      ]
     },
     "execution_count": 122,
     "metadata": {},
     "output_type": "execute_result"
    }
   ],
   "source": [
    "images.device"
   ]
  },
  {
   "cell_type": "code",
   "execution_count": 131,
   "id": "9eac100a-239f-4697-a65b-3a33c3a2914f",
   "metadata": {},
   "outputs": [
    {
     "name": "stdout",
     "output_type": "stream",
     "text": [
      "CPU times: user 62.2 ms, sys: 10.7 ms, total: 72.9 ms\n",
      "Wall time: 69.3 ms\n"
     ]
    },
    {
     "data": {
      "text/plain": [
       "torch.Size([256, 512])"
      ]
     },
     "execution_count": 131,
     "metadata": {},
     "output_type": "execute_result"
    }
   ],
   "source": [
    "%%time\n",
    "model_features(images.to('cuda')).squeeze().shape"
   ]
  },
  {
   "cell_type": "code",
   "execution_count": 132,
   "id": "ca621fb6-486b-4c9c-ae8f-27296c576aab",
   "metadata": {},
   "outputs": [
    {
     "data": {
      "text/html": [
       "<div>\n",
       "<style scoped>\n",
       "    .dataframe tbody tr th:only-of-type {\n",
       "        vertical-align: middle;\n",
       "    }\n",
       "\n",
       "    .dataframe tbody tr th {\n",
       "        vertical-align: top;\n",
       "    }\n",
       "\n",
       "    .dataframe thead th {\n",
       "        text-align: right;\n",
       "    }\n",
       "</style>\n",
       "<table border=\"1\" class=\"dataframe\">\n",
       "  <thead>\n",
       "    <tr style=\"text-align: right;\">\n",
       "      <th></th>\n",
       "      <th>path</th>\n",
       "      <th>age</th>\n",
       "    </tr>\n",
       "  </thead>\n",
       "  <tbody>\n",
       "    <tr>\n",
       "      <th>0</th>\n",
       "      <td>17/10000217_1981-05-05_2009.jpg</td>\n",
       "      <td>28</td>\n",
       "    </tr>\n",
       "    <tr>\n",
       "      <th>2</th>\n",
       "      <td>12/100012_1948-07-03_2008.jpg</td>\n",
       "      <td>60</td>\n",
       "    </tr>\n",
       "    <tr>\n",
       "      <th>4</th>\n",
       "      <td>16/10002116_1971-05-31_2012.jpg</td>\n",
       "      <td>41</td>\n",
       "    </tr>\n",
       "    <tr>\n",
       "      <th>5</th>\n",
       "      <td>02/10002702_1960-11-09_2012.jpg</td>\n",
       "      <td>52</td>\n",
       "    </tr>\n",
       "    <tr>\n",
       "      <th>6</th>\n",
       "      <td>41/10003541_1937-09-27_1971.jpg</td>\n",
       "      <td>34</td>\n",
       "    </tr>\n",
       "    <tr>\n",
       "      <th>...</th>\n",
       "      <td>...</td>\n",
       "      <td>...</td>\n",
       "    </tr>\n",
       "    <tr>\n",
       "      <th>62321</th>\n",
       "      <td>38/9996938_1937-02-15_1968.jpg</td>\n",
       "      <td>31</td>\n",
       "    </tr>\n",
       "    <tr>\n",
       "      <th>62322</th>\n",
       "      <td>46/9996946_1943-11-01_1968.jpg</td>\n",
       "      <td>25</td>\n",
       "    </tr>\n",
       "    <tr>\n",
       "      <th>62323</th>\n",
       "      <td>49/9996949_1937-04-17_1963.jpg</td>\n",
       "      <td>26</td>\n",
       "    </tr>\n",
       "    <tr>\n",
       "      <th>62325</th>\n",
       "      <td>09/9998109_1972-12-27_2013.jpg</td>\n",
       "      <td>41</td>\n",
       "    </tr>\n",
       "    <tr>\n",
       "      <th>62327</th>\n",
       "      <td>80/999980_1954-06-11_2008.jpg</td>\n",
       "      <td>54</td>\n",
       "    </tr>\n",
       "  </tbody>\n",
       "</table>\n",
       "<p>22573 rows × 2 columns</p>\n",
       "</div>"
      ],
      "text/plain": [
       "                                  path  age\n",
       "0      17/10000217_1981-05-05_2009.jpg   28\n",
       "2        12/100012_1948-07-03_2008.jpg   60\n",
       "4      16/10002116_1971-05-31_2012.jpg   41\n",
       "5      02/10002702_1960-11-09_2012.jpg   52\n",
       "6      41/10003541_1937-09-27_1971.jpg   34\n",
       "...                                ...  ...\n",
       "62321   38/9996938_1937-02-15_1968.jpg   31\n",
       "62322   46/9996946_1943-11-01_1968.jpg   25\n",
       "62323   49/9996949_1937-04-17_1963.jpg   26\n",
       "62325   09/9998109_1972-12-27_2013.jpg   41\n",
       "62327    80/999980_1954-06-11_2008.jpg   54\n",
       "\n",
       "[22573 rows x 2 columns]"
      ]
     },
     "execution_count": 132,
     "metadata": {},
     "output_type": "execute_result"
    }
   ],
   "source": [
    "df"
   ]
  },
  {
   "cell_type": "code",
   "execution_count": null,
   "id": "b4bd171d-c392-4cb4-9be8-4e05dca1ecd3",
   "metadata": {},
   "outputs": [],
   "source": []
  }
 ],
 "metadata": {
  "kernelspec": {
   "display_name": "Python 3",
   "language": "python",
   "name": "python3"
  },
  "language_info": {
   "codemirror_mode": {
    "name": "ipython",
    "version": 3
   },
   "file_extension": ".py",
   "mimetype": "text/x-python",
   "name": "python",
   "nbconvert_exporter": "python",
   "pygments_lexer": "ipython3",
   "version": "3.8.5"
  }
 },
 "nbformat": 4,
 "nbformat_minor": 5
}
