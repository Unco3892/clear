{
 "cells": [
  {
   "cell_type": "markdown",
   "id": "01098068-ae97-468b-99bb-d2edaa1cd760",
   "metadata": {},
   "source": [
    "Data downloaded from https://github.com/MahmudulAlam/Complete-Blood-Cell-Count-Dataset"
   ]
  },
  {
   "cell_type": "code",
   "execution_count": 1,
   "id": "d17f2823-3bbd-4d18-afec-d6c35d2c233d",
   "metadata": {},
   "outputs": [],
   "source": [
    "import pandas as pd"
   ]
  },
  {
   "cell_type": "code",
   "execution_count": 2,
   "id": "8d9dba9e-88e4-44a0-89ba-a5f387a9180c",
   "metadata": {},
   "outputs": [],
   "source": [
    "import numpy as np"
   ]
  },
  {
   "cell_type": "code",
   "execution_count": 3,
   "id": "bb24f426-9efc-4ead-aafe-cf9b934e6de8",
   "metadata": {},
   "outputs": [],
   "source": [
    "from datetime import datetime"
   ]
  },
  {
   "cell_type": "code",
   "execution_count": 4,
   "id": "dae31825-69a0-46a2-abef-f06a21a5859a",
   "metadata": {},
   "outputs": [],
   "source": [
    "from datetime import timedelta"
   ]
  },
  {
   "cell_type": "code",
   "execution_count": 5,
   "id": "e8e4caf0-e042-48b4-9015-f37dd74c5bfd",
   "metadata": {},
   "outputs": [],
   "source": [
    "import os\n",
    "import xml.etree.ElementTree as ET\n",
    "\n",
    "def load_xml_files_to_dict(directory_path):\n",
    "    xml_files_dict = {}\n",
    "    for filename in os.listdir(directory_path):\n",
    "        if filename.endswith('.xml'):  # Filter for XML files\n",
    "            file_path = os.path.join(directory_path, filename)\n",
    "            tree = ET.parse(file_path)\n",
    "            root = tree.getroot()\n",
    "            # If you prefer the entire ElementTree, use `tree` instead of `root` in the dictionary\n",
    "            xml_files_dict[filename] = root  # Use filename as key and XML root as value\n",
    "    return xml_files_dict"
   ]
  },
  {
   "cell_type": "code",
   "execution_count": 6,
   "id": "a602c5ca-00e2-46ca-8798-525af490db26",
   "metadata": {},
   "outputs": [
    {
     "data": {
      "text/plain": [
       "<Element 'annotation' at 0x7fb7477e9360>"
      ]
     },
     "execution_count": 6,
     "metadata": {},
     "output_type": "execute_result"
    }
   ],
   "source": [
    "load_xml_files_to_dict('/share/data/willett-group/climate/data/Complete-Blood-Cell-Count-Dataset-master/Training/Annotations/')['BloodImage_00001.xml']"
   ]
  },
  {
   "cell_type": "code",
   "execution_count": 7,
   "id": "07ac7310-1ecd-47ad-8966-5689420de1e4",
   "metadata": {},
   "outputs": [],
   "source": [
    "import os\n",
    "import xml.etree.ElementTree as ET\n",
    "\n",
    "def load_xml_files_and_count_objects(directory_path, tag_name='object'):\n",
    "    xml_files_dict = {}\n",
    "    for filename in os.listdir(directory_path):\n",
    "        if filename.endswith('.xml'):  # Filter for XML files\n",
    "            file_path = os.path.join(directory_path, filename)\n",
    "            tree = ET.parse(file_path)\n",
    "            root = tree.getroot()\n",
    "            # Count the number of specified elements\n",
    "            count = len(root.findall('.//' + tag_name))  # Use './/' to search for the tag globally within the tree\n",
    "            xml_files_dict[filename] = count  # Use filename as key and count as value\n",
    "    return xml_files_dict"
   ]
  },
  {
   "cell_type": "code",
   "execution_count": 8,
   "id": "b4e64ba8-dd99-4e5a-9fde-f88140e490a6",
   "metadata": {},
   "outputs": [],
   "source": [
    "# Replace 'your_folder_path' and 'your_tag_name' with the path to your folder and the tag you're interested in\n",
    "directory_path = '/share/data/willett-group/climate/data/Complete-Blood-Cell-Count-Dataset-master/Training/Annotations/'\n",
    "tag_name = 'object'  # Replace 'your_tag_name' with the tag you want to count, e.g., 'object'\n",
    "xml_files_dict = load_xml_files_and_count_objects(directory_path, tag_name)\n",
    "\n",
    "# Now `xml_files_dict` contains your files' names as keys and counts of the specified tag as values\n",
    "\n",
    "train_df = pd.DataFrame(data={'path':xml_files_dict.keys(), 'total-count':xml_files_dict.values()})\n",
    "\n",
    "train_df['path'] = 'Training/Images/'+train_df['path'].str.replace(\".xml\", \".jpg\", regex=False)"
   ]
  },
  {
   "cell_type": "code",
   "execution_count": 9,
   "id": "30456b62-39dc-4a42-a339-2ae0107fb6ad",
   "metadata": {},
   "outputs": [],
   "source": [
    "# Replace 'your_folder_path' and 'your_tag_name' with the path to your folder and the tag you're interested in\n",
    "directory_path = '/share/data/willett-group/climate/data/Complete-Blood-Cell-Count-Dataset-master/Testing/Annotations/'\n",
    "tag_name = 'object'  # Replace 'your_tag_name' with the tag you want to count, e.g., 'object'\n",
    "xml_files_dict = load_xml_files_and_count_objects(directory_path, tag_name)\n",
    "\n",
    "# Now `xml_files_dict` contains your files' names as keys and counts of the specified tag as values\n",
    "\n",
    "test_df = pd.DataFrame(data={'path':xml_files_dict.keys(), 'total-count':xml_files_dict.values()})\n",
    "test_df['path'] = 'Testing/Images/'+test_df['path'].str.replace(\".xml\", \".jpg\", regex=False)"
   ]
  },
  {
   "cell_type": "code",
   "execution_count": 10,
   "id": "8684ea1b-c0a8-4773-ae62-f05be7df8218",
   "metadata": {},
   "outputs": [],
   "source": [
    "df = pd.concat([train_df, test_df])"
   ]
  },
  {
   "cell_type": "code",
   "execution_count": 11,
   "id": "0c265654-48ab-41ea-aa80-4528ceba6277",
   "metadata": {},
   "outputs": [
    {
     "data": {
      "text/html": [
       "<div>\n",
       "<style scoped>\n",
       "    .dataframe tbody tr th:only-of-type {\n",
       "        vertical-align: middle;\n",
       "    }\n",
       "\n",
       "    .dataframe tbody tr th {\n",
       "        vertical-align: top;\n",
       "    }\n",
       "\n",
       "    .dataframe thead th {\n",
       "        text-align: right;\n",
       "    }\n",
       "</style>\n",
       "<table border=\"1\" class=\"dataframe\">\n",
       "  <thead>\n",
       "    <tr style=\"text-align: right;\">\n",
       "      <th></th>\n",
       "      <th>path</th>\n",
       "      <th>total-count</th>\n",
       "    </tr>\n",
       "  </thead>\n",
       "  <tbody>\n",
       "    <tr>\n",
       "      <th>0</th>\n",
       "      <td>Training/Images/BloodImage_00001.jpg</td>\n",
       "      <td>19</td>\n",
       "    </tr>\n",
       "    <tr>\n",
       "      <th>1</th>\n",
       "      <td>Training/Images/BloodImage_00159.jpg</td>\n",
       "      <td>9</td>\n",
       "    </tr>\n",
       "    <tr>\n",
       "      <th>2</th>\n",
       "      <td>Training/Images/BloodImage_00232.jpg</td>\n",
       "      <td>10</td>\n",
       "    </tr>\n",
       "    <tr>\n",
       "      <th>3</th>\n",
       "      <td>Training/Images/BloodImage_00125.jpg</td>\n",
       "      <td>15</td>\n",
       "    </tr>\n",
       "    <tr>\n",
       "      <th>4</th>\n",
       "      <td>Training/Images/BloodImage_00235.jpg</td>\n",
       "      <td>4</td>\n",
       "    </tr>\n",
       "    <tr>\n",
       "      <th>...</th>\n",
       "      <td>...</td>\n",
       "      <td>...</td>\n",
       "    </tr>\n",
       "    <tr>\n",
       "      <th>55</th>\n",
       "      <td>Testing/Images/BloodImage_00378.jpg</td>\n",
       "      <td>16</td>\n",
       "    </tr>\n",
       "    <tr>\n",
       "      <th>56</th>\n",
       "      <td>Testing/Images/BloodImage_00344.jpg</td>\n",
       "      <td>14</td>\n",
       "    </tr>\n",
       "    <tr>\n",
       "      <th>57</th>\n",
       "      <td>Testing/Images/BloodImage_00395.jpg</td>\n",
       "      <td>17</td>\n",
       "    </tr>\n",
       "    <tr>\n",
       "      <th>58</th>\n",
       "      <td>Testing/Images/BloodImage_00343.jpg</td>\n",
       "      <td>12</td>\n",
       "    </tr>\n",
       "    <tr>\n",
       "      <th>59</th>\n",
       "      <td>Testing/Images/BloodImage_00392.jpg</td>\n",
       "      <td>15</td>\n",
       "    </tr>\n",
       "  </tbody>\n",
       "</table>\n",
       "<p>360 rows × 2 columns</p>\n",
       "</div>"
      ],
      "text/plain": [
       "                                    path  total-count\n",
       "0   Training/Images/BloodImage_00001.jpg           19\n",
       "1   Training/Images/BloodImage_00159.jpg            9\n",
       "2   Training/Images/BloodImage_00232.jpg           10\n",
       "3   Training/Images/BloodImage_00125.jpg           15\n",
       "4   Training/Images/BloodImage_00235.jpg            4\n",
       "..                                   ...          ...\n",
       "55   Testing/Images/BloodImage_00378.jpg           16\n",
       "56   Testing/Images/BloodImage_00344.jpg           14\n",
       "57   Testing/Images/BloodImage_00395.jpg           17\n",
       "58   Testing/Images/BloodImage_00343.jpg           12\n",
       "59   Testing/Images/BloodImage_00392.jpg           15\n",
       "\n",
       "[360 rows x 2 columns]"
      ]
     },
     "execution_count": 11,
     "metadata": {},
     "output_type": "execute_result"
    }
   ],
   "source": [
    "df"
   ]
  },
  {
   "cell_type": "code",
   "execution_count": 12,
   "id": "2fbb470e-cedf-4960-a088-719c82699d16",
   "metadata": {},
   "outputs": [
    {
     "data": {
      "text/plain": [
       "<Axes: ylabel='Frequency'>"
      ]
     },
     "execution_count": 12,
     "metadata": {},
     "output_type": "execute_result"
    },
    {
     "data": {
      "image/png": "[encoded data removed]",
      "text/plain": [
       "<Figure size 432x288 with 1 Axes>"
      ]
     },
     "metadata": {
      "needs_background": "light"
     },
     "output_type": "display_data"
    }
   ],
   "source": [
    "df[\"total-count\"].plot.hist(density=False)"
   ]
  },
  {
   "cell_type": "code",
   "execution_count": null,
   "id": "c5d9392c-2e78-4b34-bc76-413cd83ff10d",
   "metadata": {},
   "outputs": [],
   "source": []
  },
  {
   "cell_type": "code",
   "execution_count": null,
   "id": "fafa333a-cc90-4aae-81d8-1ea068cb6b16",
   "metadata": {},
   "outputs": [],
   "source": []
  },
  {
   "cell_type": "code",
   "execution_count": null,
   "id": "c830eba6-6097-4d12-9a15-f483c2a51179",
   "metadata": {},
   "outputs": [],
   "source": []
  },
  {
   "cell_type": "code",
   "execution_count": 13,
   "id": "014b3cfc-c463-423a-a7e2-d7160f93cb20",
   "metadata": {},
   "outputs": [],
   "source": [
    "base_path = '/share/data/willett-group/climate/data/Complete-Blood-Cell-Count-Dataset-master/'"
   ]
  },
  {
   "cell_type": "code",
   "execution_count": 14,
   "id": "37ebd35e-cb1e-411a-bedf-fb7e9b883d66",
   "metadata": {},
   "outputs": [],
   "source": [
    "import pandas as pd\n",
    "import torch\n",
    "from torch.utils.data import Dataset, DataLoader\n",
    "from torchvision import transforms\n",
    "from PIL import Image\n",
    "import torch.nn as nn\n",
    "import torch.optim as optim\n",
    "\n",
    "np.random.seed(42)\n",
    "torch.manual_seed(42)\n",
    "\n",
    "# Custom Dataset\n",
    "class CustomImageDataset(Dataset):\n",
    "    def __init__(self, dataframe, transform=None, base_path = '/share/data/willett-group/climate/data/Complete-Blood-Cell-Count-Dataset-master/'):\n",
    "        self.dataframe = dataframe\n",
    "        self.transform = transform\n",
    "\n",
    "    def __len__(self):\n",
    "        return len(self.dataframe)\n",
    "\n",
    "    def __getitem__(self, idx):\n",
    "        img_path = self.dataframe.iloc[idx]['path']\n",
    "        image = Image.open(base_path+img_path)\n",
    "        response = torch.tensor(self.dataframe.iloc[idx]['total-count'], dtype=torch.float)\n",
    "\n",
    "        if self.transform:\n",
    "            image = self.transform(image)\n",
    "\n",
    "        return image, response\n",
    "# Custom transform function\n",
    "def convert_grayscale_to_rgb(image):\n",
    "    if image.mode != 'RGB':\n",
    "        return image.convert('RGB')\n",
    "    return image\n",
    "\n",
    "# Transforms\n",
    "transform = transforms.Compose([\n",
    "    transforms.Lambda(convert_grayscale_to_rgb),\n",
    "    transforms.Resize((224, 224)),\n",
    "    transforms.ToTensor(),\n",
    "    transforms.Normalize(mean=[0.485, 0.456, 0.406], std=[0.229, 0.224, 0.225]),\n",
    "])\n",
    "\n",
    "# Dataset and DataLoader\n",
    "dataset = CustomImageDataset(df, transform=transform, base_path=base_path)\n",
    "dataloader = DataLoader(dataset, batch_size=4, shuffle=True)"
   ]
  },
  {
   "cell_type": "code",
   "execution_count": 15,
   "id": "aa6560bb-ee36-4baf-9a81-6f881e52618a",
   "metadata": {},
   "outputs": [
    {
     "data": {
      "image/png": "[encoded data removed]",
      "text/plain": [
       "<Figure size 432x288 with 1 Axes>"
      ]
     },
     "metadata": {
      "needs_background": "light"
     },
     "output_type": "display_data"
    }
   ],
   "source": [
    "import matplotlib.pyplot as plt\n",
    "import torchvision\n",
    "import numpy as np\n",
    "\n",
    "# Modified imshow function with label positions\n",
    "def imshow(img, labels, mean=[0.485, 0.456, 0.406], std=[0.229, 0.224, 0.225], num_images_per_row=4):\n",
    "    img = img.numpy().transpose((1, 2, 0))\n",
    "    img = std * img + mean  # denormalize\n",
    "    img = np.clip(img, 0, 1)\n",
    "    plt.imshow(img)\n",
    "\n",
    "    # Get the height and width of the image grid\n",
    "    grid_height, grid_width, _ = img.shape\n",
    "\n",
    "    # Height of each image\n",
    "    img_height = grid_height // (len(labels) // num_images_per_row)\n",
    "\n",
    "    # Display labels\n",
    "    for idx, label in enumerate(labels):\n",
    "        x = (idx % num_images_per_row) * img_height\n",
    "        y = (idx // num_images_per_row) * img_height\n",
    "        plt.text(x + 5, y + 15, label, color='white', backgroundcolor='black')\n",
    "\n",
    "    plt.show()\n",
    "\n",
    "# Get a batch of training data\n",
    "dataiter = iter(dataloader)\n",
    "images, labels = next(dataiter)\n",
    "\n",
    "# Make a grid from batch\n",
    "out = torchvision.utils.make_grid(images)\n",
    "\n",
    "# Convert labels to a list of strings if necessary\n",
    "labels = [str(label.item()) for label in labels]\n",
    "\n",
    "imshow(out, labels, num_images_per_row=4)\n"
   ]
  },
  {
   "cell_type": "code",
   "execution_count": 16,
   "id": "0f8aa21f-d76b-4148-b2de-70cc57db0994",
   "metadata": {},
   "outputs": [],
   "source": [
    "# Dataset and DataLoader\n",
    "dataset = CustomImageDataset(df, transform=transform)\n",
    "dataloader = DataLoader(dataset, batch_size=256, shuffle=False)"
   ]
  },
  {
   "cell_type": "code",
   "execution_count": 17,
   "id": "13e7d570-491f-4941-a0e0-5f97014e02e5",
   "metadata": {},
   "outputs": [
    {
     "name": "stdout",
     "output_type": "stream",
     "text": [
      "CPU times: user 3.15 s, sys: 2.78 s, total: 5.93 s\n",
      "Wall time: 7.67 s\n"
     ]
    },
    {
     "data": {
      "text/plain": [
       "Sequential(\n",
       "  (0): Conv2d(3, 64, kernel_size=(7, 7), stride=(2, 2), padding=(3, 3), bias=False)\n",
       "  (1): BatchNorm2d(64, eps=1e-05, momentum=0.1, affine=True, track_running_stats=True)\n",
       "  (2): ReLU(inplace=True)\n",
       "  (3): MaxPool2d(kernel_size=3, stride=2, padding=1, dilation=1, ceil_mode=False)\n",
       "  (4): Sequential(\n",
       "    (0): BasicBlock(\n",
       "      (conv1): Conv2d(64, 64, kernel_size=(3, 3), stride=(1, 1), padding=(1, 1), bias=False)\n",
       "      (bn1): BatchNorm2d(64, eps=1e-05, momentum=0.1, affine=True, track_running_stats=True)\n",
       "      (relu): ReLU(inplace=True)\n",
       "      (conv2): Conv2d(64, 64, kernel_size=(3, 3), stride=(1, 1), padding=(1, 1), bias=False)\n",
       "      (bn2): BatchNorm2d(64, eps=1e-05, momentum=0.1, affine=True, track_running_stats=True)\n",
       "    )\n",
       "    (1): BasicBlock(\n",
       "      (conv1): Conv2d(64, 64, kernel_size=(3, 3), stride=(1, 1), padding=(1, 1), bias=False)\n",
       "      (bn1): BatchNorm2d(64, eps=1e-05, momentum=0.1, affine=True, track_running_stats=True)\n",
       "      (relu): ReLU(inplace=True)\n",
       "      (conv2): Conv2d(64, 64, kernel_size=(3, 3), stride=(1, 1), padding=(1, 1), bias=False)\n",
       "      (bn2): BatchNorm2d(64, eps=1e-05, momentum=0.1, affine=True, track_running_stats=True)\n",
       "    )\n",
       "  )\n",
       "  (5): Sequential(\n",
       "    (0): BasicBlock(\n",
       "      (conv1): Conv2d(64, 128, kernel_size=(3, 3), stride=(2, 2), padding=(1, 1), bias=False)\n",
       "      (bn1): BatchNorm2d(128, eps=1e-05, momentum=0.1, affine=True, track_running_stats=True)\n",
       "      (relu): ReLU(inplace=True)\n",
       "      (conv2): Conv2d(128, 128, kernel_size=(3, 3), stride=(1, 1), padding=(1, 1), bias=False)\n",
       "      (bn2): BatchNorm2d(128, eps=1e-05, momentum=0.1, affine=True, track_running_stats=True)\n",
       "      (downsample): Sequential(\n",
       "        (0): Conv2d(64, 128, kernel_size=(1, 1), stride=(2, 2), bias=False)\n",
       "        (1): BatchNorm2d(128, eps=1e-05, momentum=0.1, affine=True, track_running_stats=True)\n",
       "      )\n",
       "    )\n",
       "    (1): BasicBlock(\n",
       "      (conv1): Conv2d(128, 128, kernel_size=(3, 3), stride=(1, 1), padding=(1, 1), bias=False)\n",
       "      (bn1): BatchNorm2d(128, eps=1e-05, momentum=0.1, affine=True, track_running_stats=True)\n",
       "      (relu): ReLU(inplace=True)\n",
       "      (conv2): Conv2d(128, 128, kernel_size=(3, 3), stride=(1, 1), padding=(1, 1), bias=False)\n",
       "      (bn2): BatchNorm2d(128, eps=1e-05, momentum=0.1, affine=True, track_running_stats=True)\n",
       "    )\n",
       "  )\n",
       "  (6): Sequential(\n",
       "    (0): BasicBlock(\n",
       "      (conv1): Conv2d(128, 256, kernel_size=(3, 3), stride=(2, 2), padding=(1, 1), bias=False)\n",
       "      (bn1): BatchNorm2d(256, eps=1e-05, momentum=0.1, affine=True, track_running_stats=True)\n",
       "      (relu): ReLU(inplace=True)\n",
       "      (conv2): Conv2d(256, 256, kernel_size=(3, 3), stride=(1, 1), padding=(1, 1), bias=False)\n",
       "      (bn2): BatchNorm2d(256, eps=1e-05, momentum=0.1, affine=True, track_running_stats=True)\n",
       "      (downsample): Sequential(\n",
       "        (0): Conv2d(128, 256, kernel_size=(1, 1), stride=(2, 2), bias=False)\n",
       "        (1): BatchNorm2d(256, eps=1e-05, momentum=0.1, affine=True, track_running_stats=True)\n",
       "      )\n",
       "    )\n",
       "    (1): BasicBlock(\n",
       "      (conv1): Conv2d(256, 256, kernel_size=(3, 3), stride=(1, 1), padding=(1, 1), bias=False)\n",
       "      (bn1): BatchNorm2d(256, eps=1e-05, momentum=0.1, affine=True, track_running_stats=True)\n",
       "      (relu): ReLU(inplace=True)\n",
       "      (conv2): Conv2d(256, 256, kernel_size=(3, 3), stride=(1, 1), padding=(1, 1), bias=False)\n",
       "      (bn2): BatchNorm2d(256, eps=1e-05, momentum=0.1, affine=True, track_running_stats=True)\n",
       "    )\n",
       "  )\n",
       "  (7): Sequential(\n",
       "    (0): BasicBlock(\n",
       "      (conv1): Conv2d(256, 512, kernel_size=(3, 3), stride=(2, 2), padding=(1, 1), bias=False)\n",
       "      (bn1): BatchNorm2d(512, eps=1e-05, momentum=0.1, affine=True, track_running_stats=True)\n",
       "      (relu): ReLU(inplace=True)\n",
       "      (conv2): Conv2d(512, 512, kernel_size=(3, 3), stride=(1, 1), padding=(1, 1), bias=False)\n",
       "      (bn2): BatchNorm2d(512, eps=1e-05, momentum=0.1, affine=True, track_running_stats=True)\n",
       "      (downsample): Sequential(\n",
       "        (0): Conv2d(256, 512, kernel_size=(1, 1), stride=(2, 2), bias=False)\n",
       "        (1): BatchNorm2d(512, eps=1e-05, momentum=0.1, affine=True, track_running_stats=True)\n",
       "      )\n",
       "    )\n",
       "    (1): BasicBlock(\n",
       "      (conv1): Conv2d(512, 512, kernel_size=(3, 3), stride=(1, 1), padding=(1, 1), bias=False)\n",
       "      (bn1): BatchNorm2d(512, eps=1e-05, momentum=0.1, affine=True, track_running_stats=True)\n",
       "      (relu): ReLU(inplace=True)\n",
       "      (conv2): Conv2d(512, 512, kernel_size=(3, 3), stride=(1, 1), padding=(1, 1), bias=False)\n",
       "      (bn2): BatchNorm2d(512, eps=1e-05, momentum=0.1, affine=True, track_running_stats=True)\n",
       "    )\n",
       "  )\n",
       "  (8): AdaptiveAvgPool2d(output_size=(1, 1))\n",
       ")"
      ]
     },
     "execution_count": 17,
     "metadata": {},
     "output_type": "execute_result"
    }
   ],
   "source": [
    "%%time\n",
    "import torch\n",
    "import torch.nn as nn\n",
    "import torchvision.models as models\n",
    "\n",
    "# Load pre-trained ResNet-18\n",
    "model = models.resnet18(pretrained=True)\n",
    "\n",
    "model_features = torch.nn.Sequential(*(list(model.children())[:-1]))\n",
    "\n",
    "for param in model_features.parameters():\n",
    "    param.requires_grad = False\n",
    "\n",
    "model_features.to('cuda')"
   ]
  },
  {
   "cell_type": "code",
   "execution_count": 18,
   "id": "7f94b042-f167-4043-a69e-cfa53ee4fcaa",
   "metadata": {},
   "outputs": [
    {
     "data": {
      "text/plain": [
       "512"
      ]
     },
     "execution_count": 18,
     "metadata": {},
     "output_type": "execute_result"
    }
   ],
   "source": [
    "model.fc.in_features"
   ]
  },
  {
   "cell_type": "code",
   "execution_count": 19,
   "id": "0ca5caf4-e307-4ec2-850e-a1cb6099a660",
   "metadata": {},
   "outputs": [
    {
     "name": "stdout",
     "output_type": "stream",
     "text": [
      "CPU times: user 805 ms, sys: 587 ms, total: 1.39 s\n",
      "Wall time: 1.83 s\n"
     ]
    },
    {
     "data": {
      "text/plain": [
       "(4, 512)"
      ]
     },
     "execution_count": 19,
     "metadata": {},
     "output_type": "execute_result"
    }
   ],
   "source": [
    "%%time\n",
    "model_features(images.to('cuda')).squeeze().cpu().numpy().shape"
   ]
  },
  {
   "cell_type": "code",
   "execution_count": 20,
   "id": "2e2be19a-635f-4be8-a58f-da6525ba4d81",
   "metadata": {},
   "outputs": [],
   "source": [
    "X = np.zeros((df.shape[0], model.fc.in_features))\n",
    "y = np.zeros((df.shape[0]))"
   ]
  },
  {
   "cell_type": "code",
   "execution_count": 21,
   "id": "d6171aa0-8590-44e6-9bba-5931f76f6fb6",
   "metadata": {},
   "outputs": [
    {
     "data": {
      "text/plain": [
       "(360, 512)"
      ]
     },
     "execution_count": 21,
     "metadata": {},
     "output_type": "execute_result"
    }
   ],
   "source": [
    "X.shape"
   ]
  },
  {
   "cell_type": "code",
   "execution_count": 22,
   "id": "15b30c61-5e55-4cf0-bb5b-96c0e0cc45d4",
   "metadata": {},
   "outputs": [
    {
     "data": {
      "text/plain": [
       "(360,)"
      ]
     },
     "execution_count": 22,
     "metadata": {},
     "output_type": "execute_result"
    }
   ],
   "source": [
    "y.shape"
   ]
  },
  {
   "cell_type": "code",
   "execution_count": 23,
   "id": "b9451549-3eaf-4a46-bb3c-156ff7e8b193",
   "metadata": {},
   "outputs": [],
   "source": [
    "from tqdm import tqdm"
   ]
  },
  {
   "cell_type": "code",
   "execution_count": 24,
   "id": "31358de8-b0a1-4b23-a55b-603a77b3f71d",
   "metadata": {},
   "outputs": [
    {
     "name": "stderr",
     "output_type": "stream",
     "text": [
      "100%|██████████| 2/2 [00:04<00:00,  2.04s/it]\n"
     ]
    }
   ],
   "source": [
    "i = 0\n",
    "for images, labels in tqdm(dataloader):\n",
    "    num_entries = images.shape[0]\n",
    "\n",
    "    X[i:(i+num_entries)] = model_features(images.to('cuda')).squeeze().cpu().numpy()\n",
    "\n",
    "    y[i:(i+num_entries)] = labels.numpy()\n",
    "\n",
    "    i = i + num_entries"
   ]
  },
  {
   "cell_type": "code",
   "execution_count": 25,
   "id": "0298151a-d84d-4e15-bc72-940d14d618ec",
   "metadata": {},
   "outputs": [
    {
     "data": {
      "text/plain": [
       "array([19.,  9., 10., 15.,  4., 18., 10.,  3., 10., 15., 20., 14.,  2.,\n",
       "       16., 12., 10.,  4., 10., 14., 13., 16., 17., 24., 12., 15., 20.,\n",
       "       11., 14., 13., 11., 12., 19.,  6., 19., 18., 17., 13., 13., 10.,\n",
       "       16., 16., 13., 13., 13., 17., 16., 12., 16., 11., 17., 15., 15.,\n",
       "       15., 11., 11., 15.,  9., 14., 13., 13.,  8., 10., 16.,  6., 14.,\n",
       "       17., 10.,  2., 11.,  3., 14., 18.,  6., 12., 14., 18.,  3., 15.,\n",
       "        4., 23., 15., 19., 17., 17., 12., 15., 25., 10., 18., 12., 15.,\n",
       "        8.,  8., 21., 15., 13.,  7.,  8., 16., 12.,  4., 11., 18., 14.,\n",
       "       11., 12., 11., 10., 18., 15., 12.,  9., 20., 18., 14.,  7.,  9.,\n",
       "       12., 10., 16., 19., 14., 14.,  9., 14., 19., 12., 15., 13., 11.,\n",
       "        9.,  8., 15., 22.,  2., 11.,  1., 11., 12., 10., 11., 15.,  9.,\n",
       "       12.,  8., 12., 10., 10., 13., 14., 18., 11., 16., 17., 13., 17.,\n",
       "       10., 12., 17., 15., 13., 16., 15., 19., 12., 12., 15., 10., 13.,\n",
       "       10., 11., 12., 13.,  7., 13., 12., 18., 17., 10., 14., 14., 13.,\n",
       "       24., 14.,  1.,  1., 18., 18., 16., 12., 23., 14., 15., 13., 12.,\n",
       "       24., 17., 20., 14., 15., 14., 28., 11., 16., 17., 20., 14., 16.,\n",
       "       15.,  6., 12., 12., 10., 17., 11.,  1., 10., 16., 11.,  9., 17.,\n",
       "       16., 11.,  7., 14., 12., 10., 13., 12., 15., 14., 19., 11., 10.,\n",
       "       19., 15., 16.,  4., 14., 22., 14., 14., 11.,  6., 14., 14., 13.,\n",
       "       10., 11.,  9.,  9., 12., 13., 14., 10., 12., 12., 15.,  6., 12.,\n",
       "        9., 12., 14.,  1., 19., 17.,  9., 22., 12., 16., 12.,  9., 12.,\n",
       "       12., 14.,  8., 12., 11., 10., 15., 13., 13., 16., 13., 13., 19.,\n",
       "       14., 15., 19., 25., 12., 30., 15., 13., 17., 15., 12.,  2., 25.,\n",
       "       19., 15., 13., 18., 15., 14., 15., 12., 15., 19., 20., 13., 17.,\n",
       "       17., 16., 14., 18., 11., 15., 15., 11., 15., 12., 16., 11., 15.,\n",
       "       16., 15., 14., 16., 18., 15., 14., 18., 16., 16., 14., 12., 13.,\n",
       "       18., 19., 18., 15., 16., 12., 13., 11., 19., 20., 13., 16., 13.,\n",
       "       11., 19., 13., 19., 16., 14., 17., 12., 15.])"
      ]
     },
     "execution_count": 25,
     "metadata": {},
     "output_type": "execute_result"
    }
   ],
   "source": [
    "y"
   ]
  },
  {
   "cell_type": "code",
   "execution_count": 26,
   "id": "3553e549-84d1-4ddd-8c64-a6962bbe5e70",
   "metadata": {},
   "outputs": [],
   "source": [
    "np.save('/share/data/willett-group/climate/data/Complete-Blood-Cell-Count-Dataset-master/y.npy', y)"
   ]
  },
  {
   "cell_type": "code",
   "execution_count": 27,
   "id": "43297565-cc9d-4d30-a2a1-18ba0c6e2406",
   "metadata": {},
   "outputs": [],
   "source": [
    "np.save('/share/data/willett-group/climate/data/Complete-Blood-Cell-Count-Dataset-master/X.npy', X)"
   ]
  },
  {
   "cell_type": "code",
   "execution_count": null,
   "id": "55fcc986-4650-4af0-85bc-ecef21345cd0",
   "metadata": {},
   "outputs": [],
   "source": []
  }
 ],
 "metadata": {
  "kernelspec": {
   "display_name": "Python 3",
   "language": "python",
   "name": "python3"
  },
  "language_info": {
   "codemirror_mode": {
    "name": "ipython",
    "version": 3
   },
   "file_extension": ".py",
   "mimetype": "text/x-python",
   "name": "python",
   "nbconvert_exporter": "python",
   "pygments_lexer": "ipython3",
   "version": "3.8.5"
  }
 },
 "nbformat": 4,
 "nbformat_minor": 5
}
