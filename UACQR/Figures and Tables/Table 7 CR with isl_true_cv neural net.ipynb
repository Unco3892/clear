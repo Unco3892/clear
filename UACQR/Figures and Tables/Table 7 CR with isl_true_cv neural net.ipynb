{
 "cells": [
  {
   "cell_type": "code",
   "execution_count": 1,
   "id": "f33b6862",
   "metadata": {},
   "outputs": [],
   "source": [
    "%load_ext autoreload\n",
    "\n",
    "%autoreload 2"
   ]
  },
  {
   "cell_type": "code",
   "execution_count": 2,
   "id": "8119c3a6",
   "metadata": {},
   "outputs": [],
   "source": [
    "import os"
   ]
  },
  {
   "cell_type": "code",
   "execution_count": 3,
   "id": "017a204e",
   "metadata": {},
   "outputs": [],
   "source": [
    "import pandas as pd"
   ]
  },
  {
   "cell_type": "code",
   "execution_count": 4,
   "id": "d57a8f23",
   "metadata": {},
   "outputs": [],
   "source": [
    "results = os.listdir('results')"
   ]
  },
  {
   "cell_type": "code",
   "execution_count": 5,
   "id": "4d198d3e",
   "metadata": {},
   "outputs": [],
   "source": [
    "results = [result for result in results if result.endswith('.pkl') and (\"2.28.2024\" in result or \"2.27.2024\" in result) and \"nn\" in result and \"std\" in result and 'true_cv' in result and \"isl\" in result]"
   ]
  },
  {
   "cell_type": "code",
   "execution_count": 6,
   "id": "e023877d",
   "metadata": {},
   "outputs": [
    {
     "data": {
      "text/plain": [
       "['concrete_nn_experiment_isl_true_cv_std_02.28.2024.pkl',\n",
       " 'community_nn_experiment_isl_true_cv_std_02.28.2024.pkl',\n",
       " 'star_nn_experiment_isl_true_cv_std_02.28.2024.pkl',\n",
       " 'homes_nn_experiment_isl_true_cv_std_02.28.2024.pkl',\n",
       " 'imdb_wiki_18_nn_experiment_isl_true_cv_std_02.28.2024.pkl',\n",
       " 'bike_nn_experiment_isl_true_cv_std_02.28.2024.pkl',\n",
       " 'bio_nn_experiment_isl_true_cv_std_02.28.2024.pkl',\n",
       " 'cbc_nn_experiment_isl_true_cv_std_02.28.2024.pkl',\n",
       " 'forest_nn_experiment_isl_true_cv_std_02.28.2024.pkl']"
      ]
     },
     "execution_count": 6,
     "metadata": {},
     "output_type": "execute_result"
    }
   ],
   "source": [
    "results"
   ]
  },
  {
   "cell_type": "code",
   "execution_count": 7,
   "id": "b69480f9",
   "metadata": {},
   "outputs": [],
   "source": [
    "output = pd.DataFrame(columns=['UACQR-P','UACQR-S', 'CQR','CQR-r', 'UACQR-P SE', 'UACQR-S SE', 'CQR SE','CQR-r SE'])\n",
    "best_params_dict = dict()\n",
    "for i,result in enumerate(results):\n",
    "    dataset_name = result.split('_nn_experiment')[0]\n",
    "    # title = results[i].split('_')[0] if results[i].split('_')[0] not in [\"facebook\",\"meps\",\"imdb\"] else '_'.join(results[i].split('_')[0:2])\n",
    "    title = results[i].split('_nn')[0]\n",
    "    result = pd.read_pickle('results/'+results[i]).drop(['draw'], axis=1)\n",
    "    avg_result = result.mean()\n",
    "    output.loc[title,['UACQR-P','UACQR-S', 'CQR','CQR-r']] = avg_result.to_numpy()\n",
    "    output.loc[title,['UACQR-P SE','UACQR-S SE', 'CQR SE','CQR-r SE']] = result.sem().to_numpy()\n",
    "    n = len(result)\n",
    "    # best_params_dict[dataset_name] = result.loc[result.params.str.contains(\"'epoch_model_tracking': True\")].groupby('params', sort=False).mean().iloc[:25].idxmin().to_dict()\n",
    "    "
   ]
  },
  {
   "cell_type": "code",
   "execution_count": 8,
   "id": "f3249d27-b592-4a7f-9e97-27bf5551f308",
   "metadata": {},
   "outputs": [
    {
     "data": {
      "text/plain": [
       "'forest'"
      ]
     },
     "execution_count": 8,
     "metadata": {},
     "output_type": "execute_result"
    }
   ],
   "source": [
    "title"
   ]
  },
  {
   "cell_type": "code",
   "execution_count": 9,
   "id": "ba989804-8db2-496e-a4a1-b15642430704",
   "metadata": {},
   "outputs": [
    {
     "data": {
      "text/html": [
       "<div>\n",
       "<style scoped>\n",
       "    .dataframe tbody tr th:only-of-type {\n",
       "        vertical-align: middle;\n",
       "    }\n",
       "\n",
       "    .dataframe tbody tr th {\n",
       "        vertical-align: top;\n",
       "    }\n",
       "\n",
       "    .dataframe thead th {\n",
       "        text-align: right;\n",
       "    }\n",
       "</style>\n",
       "<table border=\"1\" class=\"dataframe\">\n",
       "  <thead>\n",
       "    <tr style=\"text-align: right;\">\n",
       "      <th></th>\n",
       "      <th>UACQR-P</th>\n",
       "      <th>UACQR-S</th>\n",
       "      <th>CQR</th>\n",
       "      <th>CQR-r</th>\n",
       "      <th>UACQR-P SE</th>\n",
       "      <th>UACQR-S SE</th>\n",
       "      <th>CQR SE</th>\n",
       "      <th>CQR-r SE</th>\n",
       "    </tr>\n",
       "  </thead>\n",
       "  <tbody>\n",
       "    <tr>\n",
       "      <th>concrete</th>\n",
       "      <td>1.831596</td>\n",
       "      <td>1.832327</td>\n",
       "      <td>1.838886</td>\n",
       "      <td>1.84238</td>\n",
       "      <td>0.027729</td>\n",
       "      <td>0.023546</td>\n",
       "      <td>0.024996</td>\n",
       "      <td>0.026322</td>\n",
       "    </tr>\n",
       "    <tr>\n",
       "      <th>community</th>\n",
       "      <td>2.372298</td>\n",
       "      <td>2.54595</td>\n",
       "      <td>2.572816</td>\n",
       "      <td>2.598218</td>\n",
       "      <td>0.049698</td>\n",
       "      <td>0.054485</td>\n",
       "      <td>0.044082</td>\n",
       "      <td>0.052727</td>\n",
       "    </tr>\n",
       "    <tr>\n",
       "      <th>star</th>\n",
       "      <td>0.240375</td>\n",
       "      <td>0.245406</td>\n",
       "      <td>0.24998</td>\n",
       "      <td>0.258106</td>\n",
       "      <td>0.002696</td>\n",
       "      <td>0.002668</td>\n",
       "      <td>0.003596</td>\n",
       "      <td>0.00418</td>\n",
       "    </tr>\n",
       "    <tr>\n",
       "      <th>homes</th>\n",
       "      <td>0.834159</td>\n",
       "      <td>0.917893</td>\n",
       "      <td>0.927078</td>\n",
       "      <td>0.911592</td>\n",
       "      <td>0.010549</td>\n",
       "      <td>0.013305</td>\n",
       "      <td>0.014857</td>\n",
       "      <td>0.010631</td>\n",
       "    </tr>\n",
       "    <tr>\n",
       "      <th>imdb_wiki_18</th>\n",
       "      <td>2.061644</td>\n",
       "      <td>2.037294</td>\n",
       "      <td>1.954411</td>\n",
       "      <td>2.001608</td>\n",
       "      <td>0.039594</td>\n",
       "      <td>0.032524</td>\n",
       "      <td>0.027978</td>\n",
       "      <td>0.026328</td>\n",
       "    </tr>\n",
       "    <tr>\n",
       "      <th>bike</th>\n",
       "      <td>1.203788</td>\n",
       "      <td>1.300606</td>\n",
       "      <td>1.321571</td>\n",
       "      <td>1.316916</td>\n",
       "      <td>0.015423</td>\n",
       "      <td>0.01814</td>\n",
       "      <td>0.019587</td>\n",
       "      <td>0.018362</td>\n",
       "    </tr>\n",
       "    <tr>\n",
       "      <th>bio</th>\n",
       "      <td>2.019708</td>\n",
       "      <td>2.072874</td>\n",
       "      <td>2.076409</td>\n",
       "      <td>2.074048</td>\n",
       "      <td>0.015953</td>\n",
       "      <td>0.015155</td>\n",
       "      <td>0.016153</td>\n",
       "      <td>0.016575</td>\n",
       "    </tr>\n",
       "    <tr>\n",
       "      <th>cbc</th>\n",
       "      <td>1.290774</td>\n",
       "      <td>1.293435</td>\n",
       "      <td>1.26496</td>\n",
       "      <td>1.256115</td>\n",
       "      <td>0.039871</td>\n",
       "      <td>0.026909</td>\n",
       "      <td>0.019781</td>\n",
       "      <td>0.021106</td>\n",
       "    </tr>\n",
       "    <tr>\n",
       "      <th>forest</th>\n",
       "      <td>2.639405</td>\n",
       "      <td>2.731135</td>\n",
       "      <td>2.815469</td>\n",
       "      <td>2.830377</td>\n",
       "      <td>0.030165</td>\n",
       "      <td>0.022998</td>\n",
       "      <td>0.025722</td>\n",
       "      <td>0.024379</td>\n",
       "    </tr>\n",
       "  </tbody>\n",
       "</table>\n",
       "</div>"
      ],
      "text/plain": [
       "               UACQR-P   UACQR-S       CQR     CQR-r UACQR-P SE UACQR-S SE  \\\n",
       "concrete      1.831596  1.832327  1.838886   1.84238   0.027729   0.023546   \n",
       "community     2.372298   2.54595  2.572816  2.598218   0.049698   0.054485   \n",
       "star          0.240375  0.245406   0.24998  0.258106   0.002696   0.002668   \n",
       "homes         0.834159  0.917893  0.927078  0.911592   0.010549   0.013305   \n",
       "imdb_wiki_18  2.061644  2.037294  1.954411  2.001608   0.039594   0.032524   \n",
       "bike          1.203788  1.300606  1.321571  1.316916   0.015423    0.01814   \n",
       "bio           2.019708  2.072874  2.076409  2.074048   0.015953   0.015155   \n",
       "cbc           1.290774  1.293435   1.26496  1.256115   0.039871   0.026909   \n",
       "forest        2.639405  2.731135  2.815469  2.830377   0.030165   0.022998   \n",
       "\n",
       "                CQR SE  CQR-r SE  \n",
       "concrete      0.024996  0.026322  \n",
       "community     0.044082  0.052727  \n",
       "star          0.003596   0.00418  \n",
       "homes         0.014857  0.010631  \n",
       "imdb_wiki_18  0.027978  0.026328  \n",
       "bike          0.019587  0.018362  \n",
       "bio           0.016153  0.016575  \n",
       "cbc           0.019781  0.021106  \n",
       "forest        0.025722  0.024379  "
      ]
     },
     "execution_count": 9,
     "metadata": {},
     "output_type": "execute_result"
    }
   ],
   "source": [
    "output"
   ]
  },
  {
   "cell_type": "code",
   "execution_count": 10,
   "id": "cd1c2f41-f666-41f6-a126-34b44394a53e",
   "metadata": {},
   "outputs": [],
   "source": [
    "output.rename({'imdb_wiki_18':'imdb_wiki'}, inplace=True)"
   ]
  },
  {
   "cell_type": "code",
   "execution_count": 11,
   "id": "c5d4b804",
   "metadata": {},
   "outputs": [
    {
     "data": {
      "text/html": [
       "<div>\n",
       "<style scoped>\n",
       "    .dataframe tbody tr th:only-of-type {\n",
       "        vertical-align: middle;\n",
       "    }\n",
       "\n",
       "    .dataframe tbody tr th {\n",
       "        vertical-align: top;\n",
       "    }\n",
       "\n",
       "    .dataframe thead th {\n",
       "        text-align: right;\n",
       "    }\n",
       "</style>\n",
       "<table border=\"1\" class=\"dataframe\">\n",
       "  <thead>\n",
       "    <tr style=\"text-align: right;\">\n",
       "      <th></th>\n",
       "      <th>UACQR-P</th>\n",
       "      <th>UACQR-S</th>\n",
       "      <th>CQR</th>\n",
       "      <th>CQR-r</th>\n",
       "      <th>UACQR-P SE</th>\n",
       "      <th>UACQR-S SE</th>\n",
       "      <th>CQR SE</th>\n",
       "      <th>CQR-r SE</th>\n",
       "    </tr>\n",
       "  </thead>\n",
       "  <tbody>\n",
       "    <tr>\n",
       "      <th>cbc</th>\n",
       "      <td>1.290774</td>\n",
       "      <td>1.293435</td>\n",
       "      <td>1.26496</td>\n",
       "      <td>1.256115</td>\n",
       "      <td>0.039871</td>\n",
       "      <td>0.026909</td>\n",
       "      <td>0.019781</td>\n",
       "      <td>0.021106</td>\n",
       "    </tr>\n",
       "    <tr>\n",
       "      <th>forest</th>\n",
       "      <td>2.639405</td>\n",
       "      <td>2.731135</td>\n",
       "      <td>2.815469</td>\n",
       "      <td>2.830377</td>\n",
       "      <td>0.030165</td>\n",
       "      <td>0.022998</td>\n",
       "      <td>0.025722</td>\n",
       "      <td>0.024379</td>\n",
       "    </tr>\n",
       "    <tr>\n",
       "      <th>imdb_wiki</th>\n",
       "      <td>2.061644</td>\n",
       "      <td>2.037294</td>\n",
       "      <td>1.954411</td>\n",
       "      <td>2.001608</td>\n",
       "      <td>0.039594</td>\n",
       "      <td>0.032524</td>\n",
       "      <td>0.027978</td>\n",
       "      <td>0.026328</td>\n",
       "    </tr>\n",
       "  </tbody>\n",
       "</table>\n",
       "</div>"
      ],
      "text/plain": [
       "            UACQR-P   UACQR-S       CQR     CQR-r UACQR-P SE UACQR-S SE  \\\n",
       "cbc        1.290774  1.293435   1.26496  1.256115   0.039871   0.026909   \n",
       "forest     2.639405  2.731135  2.815469  2.830377   0.030165   0.022998   \n",
       "imdb_wiki  2.061644  2.037294  1.954411  2.001608   0.039594   0.032524   \n",
       "\n",
       "             CQR SE  CQR-r SE  \n",
       "cbc        0.019781  0.021106  \n",
       "forest     0.025722  0.024379  \n",
       "imdb_wiki  0.027978  0.026328  "
      ]
     },
     "execution_count": 11,
     "metadata": {},
     "output_type": "execute_result"
    }
   ],
   "source": [
    "output.loc[['cbc','forest','imdb_wiki']].sort_index()"
   ]
  },
  {
   "cell_type": "code",
   "execution_count": 12,
   "id": "5bd11e68",
   "metadata": {},
   "outputs": [],
   "source": [
    "# output.drop(['blog','facebook_1','facebook_2','meps_19','meps_20','meps_21'],inplace=True)\n",
    "output.drop(['blog','facebook_1','facebook_2', 'meps_19', 'meps_20','meps_21'], errors='ignore',inplace=True)"
   ]
  },
  {
   "cell_type": "code",
   "execution_count": 13,
   "id": "58409722",
   "metadata": {},
   "outputs": [
    {
     "data": {
      "text/html": [
       "<div>\n",
       "<style scoped>\n",
       "    .dataframe tbody tr th:only-of-type {\n",
       "        vertical-align: middle;\n",
       "    }\n",
       "\n",
       "    .dataframe tbody tr th {\n",
       "        vertical-align: top;\n",
       "    }\n",
       "\n",
       "    .dataframe thead th {\n",
       "        text-align: right;\n",
       "    }\n",
       "</style>\n",
       "<table border=\"1\" class=\"dataframe\">\n",
       "  <thead>\n",
       "    <tr style=\"text-align: right;\">\n",
       "      <th></th>\n",
       "      <th>UACQR-P</th>\n",
       "      <th>UACQR-S</th>\n",
       "      <th>CQR</th>\n",
       "      <th>CQR-r</th>\n",
       "      <th>UACQR-P SE</th>\n",
       "      <th>UACQR-S SE</th>\n",
       "      <th>CQR SE</th>\n",
       "      <th>CQR-r SE</th>\n",
       "    </tr>\n",
       "  </thead>\n",
       "  <tbody>\n",
       "    <tr>\n",
       "      <th>bike</th>\n",
       "      <td>1.203788</td>\n",
       "      <td>1.300606</td>\n",
       "      <td>1.321571</td>\n",
       "      <td>1.316916</td>\n",
       "      <td>0.015423</td>\n",
       "      <td>0.01814</td>\n",
       "      <td>0.019587</td>\n",
       "      <td>0.018362</td>\n",
       "    </tr>\n",
       "    <tr>\n",
       "      <th>bio</th>\n",
       "      <td>2.019708</td>\n",
       "      <td>2.072874</td>\n",
       "      <td>2.076409</td>\n",
       "      <td>2.074048</td>\n",
       "      <td>0.015953</td>\n",
       "      <td>0.015155</td>\n",
       "      <td>0.016153</td>\n",
       "      <td>0.016575</td>\n",
       "    </tr>\n",
       "    <tr>\n",
       "      <th>cbc</th>\n",
       "      <td>1.290774</td>\n",
       "      <td>1.293435</td>\n",
       "      <td>1.26496</td>\n",
       "      <td>1.256115</td>\n",
       "      <td>0.039871</td>\n",
       "      <td>0.026909</td>\n",
       "      <td>0.019781</td>\n",
       "      <td>0.021106</td>\n",
       "    </tr>\n",
       "    <tr>\n",
       "      <th>community</th>\n",
       "      <td>2.372298</td>\n",
       "      <td>2.54595</td>\n",
       "      <td>2.572816</td>\n",
       "      <td>2.598218</td>\n",
       "      <td>0.049698</td>\n",
       "      <td>0.054485</td>\n",
       "      <td>0.044082</td>\n",
       "      <td>0.052727</td>\n",
       "    </tr>\n",
       "    <tr>\n",
       "      <th>concrete</th>\n",
       "      <td>1.831596</td>\n",
       "      <td>1.832327</td>\n",
       "      <td>1.838886</td>\n",
       "      <td>1.84238</td>\n",
       "      <td>0.027729</td>\n",
       "      <td>0.023546</td>\n",
       "      <td>0.024996</td>\n",
       "      <td>0.026322</td>\n",
       "    </tr>\n",
       "    <tr>\n",
       "      <th>forest</th>\n",
       "      <td>2.639405</td>\n",
       "      <td>2.731135</td>\n",
       "      <td>2.815469</td>\n",
       "      <td>2.830377</td>\n",
       "      <td>0.030165</td>\n",
       "      <td>0.022998</td>\n",
       "      <td>0.025722</td>\n",
       "      <td>0.024379</td>\n",
       "    </tr>\n",
       "    <tr>\n",
       "      <th>homes</th>\n",
       "      <td>0.834159</td>\n",
       "      <td>0.917893</td>\n",
       "      <td>0.927078</td>\n",
       "      <td>0.911592</td>\n",
       "      <td>0.010549</td>\n",
       "      <td>0.013305</td>\n",
       "      <td>0.014857</td>\n",
       "      <td>0.010631</td>\n",
       "    </tr>\n",
       "    <tr>\n",
       "      <th>imdb_wiki</th>\n",
       "      <td>2.061644</td>\n",
       "      <td>2.037294</td>\n",
       "      <td>1.954411</td>\n",
       "      <td>2.001608</td>\n",
       "      <td>0.039594</td>\n",
       "      <td>0.032524</td>\n",
       "      <td>0.027978</td>\n",
       "      <td>0.026328</td>\n",
       "    </tr>\n",
       "    <tr>\n",
       "      <th>star</th>\n",
       "      <td>0.240375</td>\n",
       "      <td>0.245406</td>\n",
       "      <td>0.24998</td>\n",
       "      <td>0.258106</td>\n",
       "      <td>0.002696</td>\n",
       "      <td>0.002668</td>\n",
       "      <td>0.003596</td>\n",
       "      <td>0.00418</td>\n",
       "    </tr>\n",
       "  </tbody>\n",
       "</table>\n",
       "</div>"
      ],
      "text/plain": [
       "            UACQR-P   UACQR-S       CQR     CQR-r UACQR-P SE UACQR-S SE  \\\n",
       "bike       1.203788  1.300606  1.321571  1.316916   0.015423    0.01814   \n",
       "bio        2.019708  2.072874  2.076409  2.074048   0.015953   0.015155   \n",
       "cbc        1.290774  1.293435   1.26496  1.256115   0.039871   0.026909   \n",
       "community  2.372298   2.54595  2.572816  2.598218   0.049698   0.054485   \n",
       "concrete   1.831596  1.832327  1.838886   1.84238   0.027729   0.023546   \n",
       "forest     2.639405  2.731135  2.815469  2.830377   0.030165   0.022998   \n",
       "homes      0.834159  0.917893  0.927078  0.911592   0.010549   0.013305   \n",
       "imdb_wiki  2.061644  2.037294  1.954411  2.001608   0.039594   0.032524   \n",
       "star       0.240375  0.245406   0.24998  0.258106   0.002696   0.002668   \n",
       "\n",
       "             CQR SE  CQR-r SE  \n",
       "bike       0.019587  0.018362  \n",
       "bio        0.016153  0.016575  \n",
       "cbc        0.019781  0.021106  \n",
       "community  0.044082  0.052727  \n",
       "concrete   0.024996  0.026322  \n",
       "forest     0.025722  0.024379  \n",
       "homes      0.014857  0.010631  \n",
       "imdb_wiki  0.027978  0.026328  \n",
       "star       0.003596   0.00418  "
      ]
     },
     "execution_count": 13,
     "metadata": {},
     "output_type": "execute_result"
    }
   ],
   "source": [
    "output.sort_index()"
   ]
  },
  {
   "cell_type": "code",
   "execution_count": 14,
   "id": "a0348d87-3811-4c38-a8c7-aefc9b95d231",
   "metadata": {},
   "outputs": [
    {
     "data": {
      "text/plain": [
       "'\\\\begin{tabular}{lllllllll}\\n & UACQR-P & UACQR-S & CQR & CQR-r & UACQR-P SE & UACQR-S SE & CQR SE & CQR-r SE \\\\\\\\\\nconcrete & 1.831596 & 1.832327 & 1.838886 & 1.842380 & 0.027729 & 0.023546 & 0.024996 & 0.026322 \\\\\\\\\\ncommunity & 2.372298 & 2.545950 & 2.572816 & 2.598218 & 0.049698 & 0.054485 & 0.044082 & 0.052727 \\\\\\\\\\nstar & 0.240375 & 0.245406 & 0.249980 & 0.258106 & 0.002696 & 0.002668 & 0.003596 & 0.004180 \\\\\\\\\\nhomes & 0.834159 & 0.917893 & 0.927078 & 0.911592 & 0.010549 & 0.013305 & 0.014857 & 0.010631 \\\\\\\\\\nimdb_wiki & 2.061644 & 2.037294 & 1.954411 & 2.001608 & 0.039594 & 0.032524 & 0.027978 & 0.026328 \\\\\\\\\\nbike & 1.203788 & 1.300606 & 1.321571 & 1.316916 & 0.015423 & 0.018140 & 0.019587 & 0.018362 \\\\\\\\\\nbio & 2.019708 & 2.072874 & 2.076409 & 2.074048 & 0.015953 & 0.015155 & 0.016153 & 0.016575 \\\\\\\\\\ncbc & 1.290774 & 1.293435 & 1.264960 & 1.256115 & 0.039871 & 0.026909 & 0.019781 & 0.021106 \\\\\\\\\\nforest & 2.639405 & 2.731135 & 2.815469 & 2.830377 & 0.030165 & 0.022998 & 0.025722 & 0.024379 \\\\\\\\\\n\\\\end{tabular}\\n'"
      ]
     },
     "execution_count": 14,
     "metadata": {},
     "output_type": "execute_result"
    }
   ],
   "source": [
    "output.style.to_latex()"
   ]
  },
  {
   "cell_type": "code",
   "execution_count": 15,
   "id": "eb02d97b-b4f6-4c98-bf87-dd162c39be76",
   "metadata": {},
   "outputs": [],
   "source": [
    "def negative_bold(val):\n",
    "\n",
    "\n",
    "    bold = 'bold' if val < 1.8 else ''\n",
    "\n",
    "\n",
    "    return 'font-weight: %s' % bold"
   ]
  },
  {
   "cell_type": "code",
   "execution_count": 16,
   "id": "ed9a1b6e-b258-4a24-94df-90b2c9a16e4a",
   "metadata": {},
   "outputs": [],
   "source": [
    "from scipy.stats import t\n",
    "def bold_underline_row(row):\n",
    "    # Find the smallest value in the current row\n",
    "    min_val = round(row[['UACQR-P','UACQR-S','CQR','CQR-r']].min(),3)\n",
    "\n",
    "    series = row.copy()\n",
    "    main_series = series[~series.index.str.contains(\" SE\")]\n",
    "    se_series = series[series.index.str.contains(\" SE\")].rename(lambda x: x.replace(\" SE\", \"\"))\n",
    "    \n",
    "    # Combine into a DataFrame\n",
    "    reshaped_df = pd.DataFrame({\n",
    "        \"Value\": main_series.astype(float),\n",
    "        \"SE\": se_series.astype(float)\n",
    "    })\n",
    "    \n",
    "    two_smallest_vals = reshaped_df.nsmallest(2, 'Value')\n",
    "\n",
    "    min_val_significant = two_smallest_vals.iloc[0,0]+t.ppf(0.975, 2*n-2)*(two_smallest_vals.iloc[0,1]**2+two_smallest_vals.iloc[1,1]**2)**0.5 < two_smallest_vals.iloc[1,0]\n",
    "    \n",
    "    for i in range(len(row)):\n",
    "        x = row[i]\n",
    "        row[i] = f'\\\\textbf{{{x:.3f}}}' if round(x,3) == min_val else f'{x:.3f}'\n",
    "        row[i] = f'\\\\underline{{{row[i]}}}' if min_val_significant and (round(x,3) == min_val) else row[i]\n",
    "    \n",
    "    return row\n",
    "\n",
    "\n"
   ]
  },
  {
   "cell_type": "code",
   "execution_count": 17,
   "id": "e0fceef4-52cd-4a97-b0f5-fcb895936dbd",
   "metadata": {},
   "outputs": [],
   "source": [
    "output = output.apply(bold_underline_row, axis=1)"
   ]
  },
  {
   "cell_type": "code",
   "execution_count": 18,
   "id": "7d78b4de",
   "metadata": {},
   "outputs": [],
   "source": [
    "def format_fig_and_se(row, method='CQR'):\n",
    "    fig = row[method]\n",
    "    se = row[method+' SE']\n",
    "    return f\"{fig} ({se})\""
   ]
  },
  {
   "cell_type": "code",
   "execution_count": 19,
   "id": "8eb61bce",
   "metadata": {},
   "outputs": [],
   "source": [
    "drop_columns = [c for c in output.columns if 'SE' in c]"
   ]
  },
  {
   "cell_type": "code",
   "execution_count": 20,
   "id": "e30b2594",
   "metadata": {},
   "outputs": [],
   "source": [
    "from functools import partial"
   ]
  },
  {
   "cell_type": "code",
   "execution_count": 21,
   "id": "5bdfb808",
   "metadata": {},
   "outputs": [],
   "source": [
    "output['CQR'] = output.apply(partial(format_fig_and_se, method='CQR'), axis=1)\n",
    "output['UACQR-S'] = output.apply(partial(format_fig_and_se, method='UACQR-S'), axis=1)\n",
    "output['UACQR-P'] = output.apply(partial(format_fig_and_se, method='UACQR-P'), axis=1)\n",
    "output['CQR-r'] = output.apply(partial(format_fig_and_se, method='CQR-r'), axis=1)"
   ]
  },
  {
   "cell_type": "code",
   "execution_count": 22,
   "id": "de2f02ca",
   "metadata": {},
   "outputs": [],
   "source": [
    "output.drop(columns=drop_columns, inplace=True)"
   ]
  },
  {
   "cell_type": "code",
   "execution_count": 23,
   "id": "0dbb1469",
   "metadata": {
    "scrolled": true
   },
   "outputs": [
    {
     "name": "stdout",
     "output_type": "stream",
     "text": [
      "\\begin{tabular}{lllll}\n",
      " & UACQR-P & UACQR-S & CQR & CQR-r \\\\\n",
      "\\texttt{bike} & \\underline{\\textbf{1.204}} (0.015) & 1.301 (0.018) & 1.322 (0.020) & 1.317 (0.018) \\\\\n",
      "\\texttt{bio} & \\underline{\\textbf{2.020}} (0.016) & 2.073 (0.015) & 2.076 (0.016) & 2.074 (0.017) \\\\\n",
      "\\texttt{cbc} & 1.291 (0.040) & 1.293 (0.027) & 1.265 (0.020) & \\textbf{1.256} (0.021) \\\\\n",
      "\\texttt{community} & \\underline{\\textbf{2.372}} (0.050) & 2.546 (0.054) & 2.573 (0.044) & 2.598 (0.053) \\\\\n",
      "\\texttt{concrete} & \\textbf{1.832} (0.028) & \\textbf{1.832} (0.024) & 1.839 (0.025) & 1.842 (0.026) \\\\\n",
      "\\texttt{forest} & \\underline{\\textbf{2.639}} (0.030) & 2.731 (0.023) & 2.815 (0.026) & 2.830 (0.024) \\\\\n",
      "\\texttt{homes} & \\underline{\\textbf{0.834}} (0.011) & 0.918 (0.013) & 0.927 (0.015) & 0.912 (0.011) \\\\\n",
      "\\texttt{imdb\\_wiki} & 2.062 (0.040) & 2.037 (0.033) & \\textbf{1.954} (0.028) & 2.002 (0.026) \\\\\n",
      "\\texttt{star} & \\textbf{0.240} (0.003) & 0.245 (0.003) & 0.250 (0.004) & 0.258 (0.004) \\\\\n",
      "\\end{tabular}\n",
      "\n"
     ]
    }
   ],
   "source": [
    "# Export to LaTeX\n",
    "latex_table = output.sort_index().rename(index=lambda x: f'\\\\texttt{{{x}}}').style.to_latex()\n",
    "\n",
    "\n",
    "print('\\_'.join(latex_table.split('_')))"
   ]
  },
  {
   "cell_type": "code",
   "execution_count": null,
   "id": "839a2db9",
   "metadata": {},
   "outputs": [],
   "source": []
  },
  {
   "cell_type": "code",
   "execution_count": null,
   "id": "61496b9b",
   "metadata": {},
   "outputs": [],
   "source": []
  },
  {
   "cell_type": "code",
   "execution_count": null,
   "id": "2e9259bb-4cb3-4797-a1b5-be9eee9f961e",
   "metadata": {},
   "outputs": [],
   "source": []
  },
  {
   "cell_type": "code",
   "execution_count": null,
   "id": "6fa45c35-d92b-4d14-a7be-b0a20e3276d2",
   "metadata": {},
   "outputs": [],
   "source": []
  }
 ],
 "metadata": {
  "kernelspec": {
   "display_name": "Python 3",
   "language": "python",
   "name": "python3"
  },
  "language_info": {
   "codemirror_mode": {
    "name": "ipython",
    "version": 3
   },
   "file_extension": ".py",
   "mimetype": "text/x-python",
   "name": "python",
   "nbconvert_exporter": "python",
   "pygments_lexer": "ipython3",
   "version": "3.8.5"
  }
 },
 "nbformat": 4,
 "nbformat_minor": 5
}
