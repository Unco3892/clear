{
 "cells": [
  {
   "cell_type": "code",
   "execution_count": 1,
   "id": "f33b6862",
   "metadata": {},
   "outputs": [],
   "source": [
    "%load_ext autoreload\n",
    "\n",
    "%autoreload 2"
   ]
  },
  {
   "cell_type": "code",
   "execution_count": 2,
   "id": "8119c3a6",
   "metadata": {},
   "outputs": [],
   "source": [
    "import os"
   ]
  },
  {
   "cell_type": "code",
   "execution_count": 3,
   "id": "017a204e",
   "metadata": {},
   "outputs": [],
   "source": [
    "import pandas as pd"
   ]
  },
  {
   "cell_type": "code",
   "execution_count": 4,
   "id": "d57a8f23",
   "metadata": {},
   "outputs": [],
   "source": [
    "results = os.listdir('results')"
   ]
  },
  {
   "cell_type": "code",
   "execution_count": 5,
   "id": "4d198d3e",
   "metadata": {},
   "outputs": [],
   "source": [
    "results = [result for result in results if result.endswith('.pkl') and \"2.27.2024\" in result and \"rfqr\" in result and \"std\" in result and 'true_cv' in result and \"isl\" not in result and \"oqr\" not in result]"
   ]
  },
  {
   "cell_type": "code",
   "execution_count": 6,
   "id": "e023877d",
   "metadata": {},
   "outputs": [
    {
     "data": {
      "text/plain": [
       "['bio_rfqr_experiment_true_cv_std_randomizedconformalTrue_logFalse_recordCoverageFalse_02.27.2024.pkl',\n",
       " 'forest_rfqr_experiment_true_cv_std_randomizedconformalTrue_logFalse_recordCoverageFalse_02.27.2024.pkl',\n",
       " 'homes_rfqr_experiment_true_cv_std_randomizedconformalTrue_logFalse_recordCoverageFalse_02.27.2024.pkl',\n",
       " 'star_rfqr_experiment_true_cv_std_randomizedconformalTrue_logFalse_recordCoverageFalse_02.27.2024.pkl',\n",
       " 'cbc_rfqr_experiment_true_cv_std_randomizedconformalTrue_logFalse_recordCoverageFalse_02.27.2024.pkl',\n",
       " 'imdb_wiki_18_rfqr_experiment_true_cv_std_randomizedconformalTrue_logFalse_recordCoverageFalse_02.27.2024.pkl',\n",
       " 'bike_rfqr_experiment_true_cv_std_randomizedconformalTrue_logFalse_recordCoverageFalse_02.27.2024.pkl',\n",
       " 'concrete_rfqr_experiment_true_cv_std_randomizedconformalTrue_logFalse_recordCoverageFalse_02.27.2024.pkl',\n",
       " 'community_rfqr_experiment_true_cv_std_randomizedconformalTrue_logFalse_recordCoverageFalse_02.27.2024.pkl']"
      ]
     },
     "execution_count": 6,
     "metadata": {},
     "output_type": "execute_result"
    }
   ],
   "source": [
    "results"
   ]
  },
  {
   "cell_type": "code",
   "execution_count": 7,
   "id": "b69480f9",
   "metadata": {},
   "outputs": [],
   "source": [
    "output = pd.DataFrame(columns=['UACQR-P','UACQR-S', 'CQR','CQR-r', 'UACQR-P SE', 'UACQR-S SE', 'CQR SE','CQR-r SE'])\n",
    "best_params_dict = dict()\n",
    "for i,result in enumerate(results):\n",
    "    dataset_name = result.split('_nn_experiment')[0]\n",
    "    # title = results[i].split('_')[0] if results[i].split('_')[0] not in [\"facebook\",\"meps\",\"imdb\"] else '_'.join(results[i].split('_')[0:2])\n",
    "    title = results[i].split('_rfqr')[0]\n",
    "    result = pd.read_pickle('results/'+results[i]).drop(['draw'], axis=1)\n",
    "    avg_result = result.mean()\n",
    "    output.loc[title,['UACQR-P','UACQR-S', 'CQR','CQR-r']] = avg_result.to_numpy()\n",
    "    output.loc[title,['UACQR-P SE','UACQR-S SE', 'CQR SE','CQR-r SE']] = result.sem().to_numpy()\n",
    "    n = len(result)\n",
    "    # best_params_dict[dataset_name] = result.loc[result.params.str.contains(\"'epoch_model_tracking': True\")].groupby('params', sort=False).mean().iloc[:25].idxmin().to_dict()\n",
    "    "
   ]
  },
  {
   "cell_type": "code",
   "execution_count": 8,
   "id": "f3249d27-b592-4a7f-9e97-27bf5551f308",
   "metadata": {},
   "outputs": [
    {
     "data": {
      "text/plain": [
       "'community'"
      ]
     },
     "execution_count": 8,
     "metadata": {},
     "output_type": "execute_result"
    }
   ],
   "source": [
    "title"
   ]
  },
  {
   "cell_type": "code",
   "execution_count": 9,
   "id": "cd1c2f41-f666-41f6-a126-34b44394a53e",
   "metadata": {},
   "outputs": [],
   "source": [
    "output.rename({'imdb_wiki_18':'imdb_wiki'}, inplace=True)"
   ]
  },
  {
   "cell_type": "code",
   "execution_count": 10,
   "id": "c5d4b804",
   "metadata": {},
   "outputs": [
    {
     "data": {
      "text/html": [
       "<div>\n",
       "<style scoped>\n",
       "    .dataframe tbody tr th:only-of-type {\n",
       "        vertical-align: middle;\n",
       "    }\n",
       "\n",
       "    .dataframe tbody tr th {\n",
       "        vertical-align: top;\n",
       "    }\n",
       "\n",
       "    .dataframe thead th {\n",
       "        text-align: right;\n",
       "    }\n",
       "</style>\n",
       "<table border=\"1\" class=\"dataframe\">\n",
       "  <thead>\n",
       "    <tr style=\"text-align: right;\">\n",
       "      <th></th>\n",
       "      <th>UACQR-P</th>\n",
       "      <th>UACQR-S</th>\n",
       "      <th>CQR</th>\n",
       "      <th>CQR-r</th>\n",
       "      <th>UACQR-P SE</th>\n",
       "      <th>UACQR-S SE</th>\n",
       "      <th>CQR SE</th>\n",
       "      <th>CQR-r SE</th>\n",
       "    </tr>\n",
       "  </thead>\n",
       "  <tbody>\n",
       "    <tr>\n",
       "      <th>cbc</th>\n",
       "      <td>0.827334</td>\n",
       "      <td>1.003535</td>\n",
       "      <td>0.998215</td>\n",
       "      <td>1.002154</td>\n",
       "      <td>0.013131</td>\n",
       "      <td>0.012034</td>\n",
       "      <td>0.012689</td>\n",
       "      <td>0.012207</td>\n",
       "    </tr>\n",
       "    <tr>\n",
       "      <th>forest</th>\n",
       "      <td>2.268679</td>\n",
       "      <td>2.361172</td>\n",
       "      <td>2.363227</td>\n",
       "      <td>2.362797</td>\n",
       "      <td>0.011829</td>\n",
       "      <td>0.007917</td>\n",
       "      <td>0.007945</td>\n",
       "      <td>0.007913</td>\n",
       "    </tr>\n",
       "    <tr>\n",
       "      <th>imdb_wiki</th>\n",
       "      <td>1.558312</td>\n",
       "      <td>1.799084</td>\n",
       "      <td>1.796397</td>\n",
       "      <td>1.798244</td>\n",
       "      <td>0.01812</td>\n",
       "      <td>0.01072</td>\n",
       "      <td>0.011173</td>\n",
       "      <td>0.010824</td>\n",
       "    </tr>\n",
       "  </tbody>\n",
       "</table>\n",
       "</div>"
      ],
      "text/plain": [
       "            UACQR-P   UACQR-S       CQR     CQR-r UACQR-P SE UACQR-S SE  \\\n",
       "cbc        0.827334  1.003535  0.998215  1.002154   0.013131   0.012034   \n",
       "forest     2.268679  2.361172  2.363227  2.362797   0.011829   0.007917   \n",
       "imdb_wiki  1.558312  1.799084  1.796397  1.798244    0.01812    0.01072   \n",
       "\n",
       "             CQR SE  CQR-r SE  \n",
       "cbc        0.012689  0.012207  \n",
       "forest     0.007945  0.007913  \n",
       "imdb_wiki  0.011173  0.010824  "
      ]
     },
     "execution_count": 10,
     "metadata": {},
     "output_type": "execute_result"
    }
   ],
   "source": [
    "output.loc[['cbc','forest','imdb_wiki']].sort_index()"
   ]
  },
  {
   "cell_type": "code",
   "execution_count": 11,
   "id": "5bd11e68",
   "metadata": {},
   "outputs": [],
   "source": [
    "# output.drop(['blog','facebook_1','facebook_2','meps_19','meps_20','meps_21'],inplace=True)\n",
    "output.drop(['blog','facebook_1','facebook_2', 'meps_19', 'meps_20','meps_21'], errors='ignore',inplace=True)"
   ]
  },
  {
   "cell_type": "code",
   "execution_count": 12,
   "id": "58409722",
   "metadata": {},
   "outputs": [
    {
     "data": {
      "text/html": [
       "<div>\n",
       "<style scoped>\n",
       "    .dataframe tbody tr th:only-of-type {\n",
       "        vertical-align: middle;\n",
       "    }\n",
       "\n",
       "    .dataframe tbody tr th {\n",
       "        vertical-align: top;\n",
       "    }\n",
       "\n",
       "    .dataframe thead th {\n",
       "        text-align: right;\n",
       "    }\n",
       "</style>\n",
       "<table border=\"1\" class=\"dataframe\">\n",
       "  <thead>\n",
       "    <tr style=\"text-align: right;\">\n",
       "      <th></th>\n",
       "      <th>UACQR-P</th>\n",
       "      <th>UACQR-S</th>\n",
       "      <th>CQR</th>\n",
       "      <th>CQR-r</th>\n",
       "      <th>UACQR-P SE</th>\n",
       "      <th>UACQR-S SE</th>\n",
       "      <th>CQR SE</th>\n",
       "      <th>CQR-r SE</th>\n",
       "    </tr>\n",
       "  </thead>\n",
       "  <tbody>\n",
       "    <tr>\n",
       "      <th>bike</th>\n",
       "      <td>1.183615</td>\n",
       "      <td>1.456449</td>\n",
       "      <td>1.484187</td>\n",
       "      <td>1.439553</td>\n",
       "      <td>0.006931</td>\n",
       "      <td>0.00573</td>\n",
       "      <td>0.005892</td>\n",
       "      <td>0.005945</td>\n",
       "    </tr>\n",
       "    <tr>\n",
       "      <th>bio</th>\n",
       "      <td>1.529858</td>\n",
       "      <td>1.65363</td>\n",
       "      <td>1.656294</td>\n",
       "      <td>1.652563</td>\n",
       "      <td>0.007142</td>\n",
       "      <td>0.004311</td>\n",
       "      <td>0.004333</td>\n",
       "      <td>0.004302</td>\n",
       "    </tr>\n",
       "    <tr>\n",
       "      <th>cbc</th>\n",
       "      <td>0.827334</td>\n",
       "      <td>1.003535</td>\n",
       "      <td>0.998215</td>\n",
       "      <td>1.002154</td>\n",
       "      <td>0.013131</td>\n",
       "      <td>0.012034</td>\n",
       "      <td>0.012689</td>\n",
       "      <td>0.012207</td>\n",
       "    </tr>\n",
       "    <tr>\n",
       "      <th>community</th>\n",
       "      <td>1.48718</td>\n",
       "      <td>1.773565</td>\n",
       "      <td>1.77939</td>\n",
       "      <td>1.774337</td>\n",
       "      <td>0.027946</td>\n",
       "      <td>0.021375</td>\n",
       "      <td>0.021264</td>\n",
       "      <td>0.021549</td>\n",
       "    </tr>\n",
       "    <tr>\n",
       "      <th>concrete</th>\n",
       "      <td>0.678055</td>\n",
       "      <td>0.733725</td>\n",
       "      <td>0.731627</td>\n",
       "      <td>0.711487</td>\n",
       "      <td>0.015104</td>\n",
       "      <td>0.009289</td>\n",
       "      <td>0.007865</td>\n",
       "      <td>0.007522</td>\n",
       "    </tr>\n",
       "    <tr>\n",
       "      <th>forest</th>\n",
       "      <td>2.268679</td>\n",
       "      <td>2.361172</td>\n",
       "      <td>2.363227</td>\n",
       "      <td>2.362797</td>\n",
       "      <td>0.011829</td>\n",
       "      <td>0.007917</td>\n",
       "      <td>0.007945</td>\n",
       "      <td>0.007913</td>\n",
       "    </tr>\n",
       "    <tr>\n",
       "      <th>homes</th>\n",
       "      <td>0.632564</td>\n",
       "      <td>0.698837</td>\n",
       "      <td>0.758398</td>\n",
       "      <td>0.714437</td>\n",
       "      <td>0.00511</td>\n",
       "      <td>0.004454</td>\n",
       "      <td>0.004035</td>\n",
       "      <td>0.00454</td>\n",
       "    </tr>\n",
       "    <tr>\n",
       "      <th>imdb_wiki</th>\n",
       "      <td>1.558312</td>\n",
       "      <td>1.799084</td>\n",
       "      <td>1.796397</td>\n",
       "      <td>1.798244</td>\n",
       "      <td>0.01812</td>\n",
       "      <td>0.01072</td>\n",
       "      <td>0.011173</td>\n",
       "      <td>0.010824</td>\n",
       "    </tr>\n",
       "    <tr>\n",
       "      <th>star</th>\n",
       "      <td>0.175975</td>\n",
       "      <td>0.175745</td>\n",
       "      <td>0.175354</td>\n",
       "      <td>0.175999</td>\n",
       "      <td>0.001042</td>\n",
       "      <td>0.001399</td>\n",
       "      <td>0.001203</td>\n",
       "      <td>0.001569</td>\n",
       "    </tr>\n",
       "  </tbody>\n",
       "</table>\n",
       "</div>"
      ],
      "text/plain": [
       "            UACQR-P   UACQR-S       CQR     CQR-r UACQR-P SE UACQR-S SE  \\\n",
       "bike       1.183615  1.456449  1.484187  1.439553   0.006931    0.00573   \n",
       "bio        1.529858   1.65363  1.656294  1.652563   0.007142   0.004311   \n",
       "cbc        0.827334  1.003535  0.998215  1.002154   0.013131   0.012034   \n",
       "community   1.48718  1.773565   1.77939  1.774337   0.027946   0.021375   \n",
       "concrete   0.678055  0.733725  0.731627  0.711487   0.015104   0.009289   \n",
       "forest     2.268679  2.361172  2.363227  2.362797   0.011829   0.007917   \n",
       "homes      0.632564  0.698837  0.758398  0.714437    0.00511   0.004454   \n",
       "imdb_wiki  1.558312  1.799084  1.796397  1.798244    0.01812    0.01072   \n",
       "star       0.175975  0.175745  0.175354  0.175999   0.001042   0.001399   \n",
       "\n",
       "             CQR SE  CQR-r SE  \n",
       "bike       0.005892  0.005945  \n",
       "bio        0.004333  0.004302  \n",
       "cbc        0.012689  0.012207  \n",
       "community  0.021264  0.021549  \n",
       "concrete   0.007865  0.007522  \n",
       "forest     0.007945  0.007913  \n",
       "homes      0.004035   0.00454  \n",
       "imdb_wiki  0.011173  0.010824  \n",
       "star       0.001203  0.001569  "
      ]
     },
     "execution_count": 12,
     "metadata": {},
     "output_type": "execute_result"
    }
   ],
   "source": [
    "output.sort_index()"
   ]
  },
  {
   "cell_type": "code",
   "execution_count": 13,
   "id": "a0348d87-3811-4c38-a8c7-aefc9b95d231",
   "metadata": {},
   "outputs": [
    {
     "data": {
      "text/plain": [
       "'\\\\begin{tabular}{lllllllll}\\n & UACQR-P & UACQR-S & CQR & CQR-r & UACQR-P SE & UACQR-S SE & CQR SE & CQR-r SE \\\\\\\\\\nbio & 1.529858 & 1.653630 & 1.656294 & 1.652563 & 0.007142 & 0.004311 & 0.004333 & 0.004302 \\\\\\\\\\nforest & 2.268679 & 2.361172 & 2.363227 & 2.362797 & 0.011829 & 0.007917 & 0.007945 & 0.007913 \\\\\\\\\\nhomes & 0.632564 & 0.698837 & 0.758398 & 0.714437 & 0.005110 & 0.004454 & 0.004035 & 0.004540 \\\\\\\\\\nstar & 0.175975 & 0.175745 & 0.175354 & 0.175999 & 0.001042 & 0.001399 & 0.001203 & 0.001569 \\\\\\\\\\ncbc & 0.827334 & 1.003535 & 0.998215 & 1.002154 & 0.013131 & 0.012034 & 0.012689 & 0.012207 \\\\\\\\\\nimdb_wiki & 1.558312 & 1.799084 & 1.796397 & 1.798244 & 0.018120 & 0.010720 & 0.011173 & 0.010824 \\\\\\\\\\nbike & 1.183615 & 1.456449 & 1.484187 & 1.439553 & 0.006931 & 0.005730 & 0.005892 & 0.005945 \\\\\\\\\\nconcrete & 0.678055 & 0.733725 & 0.731627 & 0.711487 & 0.015104 & 0.009289 & 0.007865 & 0.007522 \\\\\\\\\\ncommunity & 1.487180 & 1.773565 & 1.779390 & 1.774337 & 0.027946 & 0.021375 & 0.021264 & 0.021549 \\\\\\\\\\n\\\\end{tabular}\\n'"
      ]
     },
     "execution_count": 13,
     "metadata": {},
     "output_type": "execute_result"
    }
   ],
   "source": [
    "output.style.to_latex()"
   ]
  },
  {
   "cell_type": "code",
   "execution_count": 14,
   "id": "eb02d97b-b4f6-4c98-bf87-dd162c39be76",
   "metadata": {},
   "outputs": [],
   "source": [
    "def negative_bold(val):\n",
    "\n",
    "\n",
    "    bold = 'bold' if val < 1.8 else ''\n",
    "\n",
    "\n",
    "    return 'font-weight: %s' % bold"
   ]
  },
  {
   "cell_type": "code",
   "execution_count": 15,
   "id": "ed9a1b6e-b258-4a24-94df-90b2c9a16e4a",
   "metadata": {},
   "outputs": [],
   "source": [
    "from scipy.stats import t\n",
    "def bold_underline_row(row):\n",
    "    # Find the smallest value in the current row\n",
    "    min_val = round(row[['UACQR-P','UACQR-S','CQR','CQR-r']].min(),3)\n",
    "\n",
    "    series = row.copy()\n",
    "    main_series = series[~series.index.str.contains(\" SE\")]\n",
    "    se_series = series[series.index.str.contains(\" SE\")].rename(lambda x: x.replace(\" SE\", \"\"))\n",
    "    \n",
    "    # Combine into a DataFrame\n",
    "    reshaped_df = pd.DataFrame({\n",
    "        \"Value\": main_series.astype(float),\n",
    "        \"SE\": se_series.astype(float)\n",
    "    })\n",
    "    \n",
    "    two_smallest_vals = reshaped_df.nsmallest(2, 'Value')\n",
    "\n",
    "    min_val_significant = two_smallest_vals.iloc[0,0]+t.ppf(0.975, 2*n-2)*(two_smallest_vals.iloc[0,1]**2+two_smallest_vals.iloc[1,1]**2)**0.5 < two_smallest_vals.iloc[1,0]\n",
    "    \n",
    "    for i in range(len(row)):\n",
    "        x = row[i]\n",
    "        row[i] = f'\\\\textbf{{{x:.3f}}}' if round(x,3) == min_val else f'{x:.3f}'\n",
    "        row[i] = f'\\\\underline{{{row[i]}}}' if min_val_significant and (round(x,3) == min_val) else row[i]\n",
    "    \n",
    "    return row\n",
    "\n",
    "\n",
    "\n"
   ]
  },
  {
   "cell_type": "code",
   "execution_count": 16,
   "id": "e0fceef4-52cd-4a97-b0f5-fcb895936dbd",
   "metadata": {},
   "outputs": [],
   "source": [
    "output = output.apply(bold_underline_row, axis=1)"
   ]
  },
  {
   "cell_type": "code",
   "execution_count": 17,
   "id": "7d78b4de",
   "metadata": {},
   "outputs": [],
   "source": [
    "def format_fig_and_se(row, method='CQR'):\n",
    "    fig = row[method]\n",
    "    se = row[method+' SE']\n",
    "    return f\"{fig} ({se})\""
   ]
  },
  {
   "cell_type": "code",
   "execution_count": 18,
   "id": "8eb61bce",
   "metadata": {},
   "outputs": [],
   "source": [
    "drop_columns = [c for c in output.columns if 'SE' in c]"
   ]
  },
  {
   "cell_type": "code",
   "execution_count": 19,
   "id": "e30b2594",
   "metadata": {},
   "outputs": [],
   "source": [
    "from functools import partial"
   ]
  },
  {
   "cell_type": "code",
   "execution_count": 20,
   "id": "5bdfb808",
   "metadata": {},
   "outputs": [],
   "source": [
    "output['CQR'] = output.apply(partial(format_fig_and_se, method='CQR'), axis=1)\n",
    "output['UACQR-S'] = output.apply(partial(format_fig_and_se, method='UACQR-S'), axis=1)\n",
    "output['UACQR-P'] = output.apply(partial(format_fig_and_se, method='UACQR-P'), axis=1)\n",
    "output['CQR-r'] = output.apply(partial(format_fig_and_se, method='CQR-r'), axis=1)"
   ]
  },
  {
   "cell_type": "code",
   "execution_count": 21,
   "id": "de2f02ca",
   "metadata": {},
   "outputs": [],
   "source": [
    "output.drop(columns=drop_columns, inplace=True)"
   ]
  },
  {
   "cell_type": "code",
   "execution_count": 22,
   "id": "0dbb1469",
   "metadata": {
    "scrolled": true
   },
   "outputs": [
    {
     "name": "stdout",
     "output_type": "stream",
     "text": [
      "\\begin{tabular}{lllll}\n",
      " & UACQR-P & UACQR-S & CQR & CQR-r \\\\\n",
      "\\texttt{bike} & \\underline{\\textbf{1.184}} (0.007) & 1.456 (0.006) & 1.484 (0.006) & 1.440 (0.006) \\\\\n",
      "\\texttt{bio} & \\underline{\\textbf{1.530}} (0.007) & 1.654 (0.004) & 1.656 (0.004) & 1.653 (0.004) \\\\\n",
      "\\texttt{cbc} & \\underline{\\textbf{0.827}} (0.013) & 1.004 (0.012) & 0.998 (0.013) & 1.002 (0.012) \\\\\n",
      "\\texttt{community} & \\underline{\\textbf{1.487}} (0.028) & 1.774 (0.021) & 1.779 (0.021) & 1.774 (0.022) \\\\\n",
      "\\texttt{concrete} & \\textbf{0.678} (0.015) & 0.734 (0.009) & 0.732 (0.008) & 0.711 (0.008) \\\\\n",
      "\\texttt{forest} & \\underline{\\textbf{2.269}} (0.012) & 2.361 (0.008) & 2.363 (0.008) & 2.363 (0.008) \\\\\n",
      "\\texttt{homes} & \\underline{\\textbf{0.633}} (0.005) & 0.699 (0.004) & 0.758 (0.004) & 0.714 (0.005) \\\\\n",
      "\\texttt{imdb\\_wiki} & \\underline{\\textbf{1.558}} (0.018) & 1.799 (0.011) & 1.796 (0.011) & 1.798 (0.011) \\\\\n",
      "\\texttt{star} & 0.176 (0.001) & 0.176 (0.001) & \\textbf{0.175} (0.001) & 0.176 (0.002) \\\\\n",
      "\\end{tabular}\n",
      "\n"
     ]
    }
   ],
   "source": [
    "# Export to LaTeX\n",
    "latex_table = output.sort_index().rename(index=lambda x: f'\\\\texttt{{{x}}}').style.to_latex()\n",
    "\n",
    "\n",
    "print('\\_'.join(latex_table.split('_')))"
   ]
  },
  {
   "cell_type": "code",
   "execution_count": null,
   "id": "839a2db9",
   "metadata": {},
   "outputs": [],
   "source": []
  },
  {
   "cell_type": "code",
   "execution_count": null,
   "id": "61496b9b",
   "metadata": {},
   "outputs": [],
   "source": []
  },
  {
   "cell_type": "code",
   "execution_count": null,
   "id": "2e9259bb-4cb3-4797-a1b5-be9eee9f961e",
   "metadata": {},
   "outputs": [],
   "source": []
  },
  {
   "cell_type": "code",
   "execution_count": null,
   "id": "6fa45c35-d92b-4d14-a7be-b0a20e3276d2",
   "metadata": {},
   "outputs": [],
   "source": []
  }
 ],
 "metadata": {
  "kernelspec": {
   "display_name": "Python 3",
   "language": "python",
   "name": "python3"
  },
  "language_info": {
   "codemirror_mode": {
    "name": "ipython",
    "version": 3
   },
   "file_extension": ".py",
   "mimetype": "text/x-python",
   "name": "python",
   "nbconvert_exporter": "python",
   "pygments_lexer": "ipython3",
   "version": "3.8.5"
  }
 },
 "nbformat": 4,
 "nbformat_minor": 5
}
