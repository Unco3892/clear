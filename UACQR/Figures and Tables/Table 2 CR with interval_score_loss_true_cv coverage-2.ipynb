{
 "cells": [
  {
   "cell_type": "code",
   "execution_count": 1,
   "id": "f33b6862",
   "metadata": {},
   "outputs": [],
   "source": [
    "%load_ext autoreload\n",
    "\n",
    "%autoreload 2"
   ]
  },
  {
   "cell_type": "code",
   "execution_count": 2,
   "id": "8119c3a6",
   "metadata": {},
   "outputs": [],
   "source": [
    "import os"
   ]
  },
  {
   "cell_type": "code",
   "execution_count": 3,
   "id": "017a204e",
   "metadata": {},
   "outputs": [],
   "source": [
    "import pandas as pd"
   ]
  },
  {
   "cell_type": "code",
   "execution_count": 4,
   "id": "d57a8f23",
   "metadata": {},
   "outputs": [],
   "source": [
    "results = os.listdir('results')"
   ]
  },
  {
   "cell_type": "code",
   "execution_count": 5,
   "id": "4d198d3e",
   "metadata": {},
   "outputs": [],
   "source": [
    "results = [result for result in results if result.endswith('.pkl') and \"2.27.2024\" in result and \"rfqr\" in result and \"std\" in result and 'true_cv' in result and \"CoverageTrue\" in result]"
   ]
  },
  {
   "cell_type": "code",
   "execution_count": 6,
   "id": "e023877d",
   "metadata": {},
   "outputs": [
    {
     "data": {
      "text/plain": [
       "['community_rfqr_experiment_isl_true_cv_std_randomizedconformalTrue_logFalse_recordCoverageTrue_02.27.2024.pkl',\n",
       " 'concrete_rfqr_experiment_isl_true_cv_std_randomizedconformalTrue_logFalse_recordCoverageTrue_02.27.2024.pkl',\n",
       " 'star_rfqr_experiment_isl_true_cv_std_randomizedconformalTrue_logFalse_recordCoverageTrue_02.27.2024.pkl',\n",
       " 'imdb_wiki_18_rfqr_experiment_isl_true_cv_std_randomizedconformalTrue_logFalse_recordCoverageTrue_02.27.2024.pkl',\n",
       " 'forest_rfqr_experiment_isl_true_cv_std_randomizedconformalTrue_logFalse_recordCoverageTrue_02.27.2024.pkl',\n",
       " 'bike_rfqr_experiment_isl_true_cv_std_randomizedconformalTrue_logFalse_recordCoverageTrue_02.27.2024.pkl',\n",
       " 'homes_rfqr_experiment_isl_true_cv_std_randomizedconformalTrue_logFalse_recordCoverageTrue_02.27.2024.pkl',\n",
       " 'cbc_rfqr_experiment_isl_true_cv_std_randomizedconformalTrue_logFalse_recordCoverageTrue_02.27.2024.pkl',\n",
       " 'bio_rfqr_experiment_isl_true_cv_std_randomizedconformalTrue_logFalse_recordCoverageTrue_02.27.2024.pkl']"
      ]
     },
     "execution_count": 6,
     "metadata": {},
     "output_type": "execute_result"
    }
   ],
   "source": [
    "results"
   ]
  },
  {
   "cell_type": "code",
   "execution_count": 7,
   "id": "b69480f9",
   "metadata": {},
   "outputs": [],
   "source": [
    "output = pd.DataFrame(columns=['UACQR-P','UACQR-S', 'CQR','CQR-r', 'UACQR-P SE', 'UACQR-S SE', 'CQR SE','CQR-r SE'])\n",
    "best_params_dict = dict()\n",
    "for i,result in enumerate(results):\n",
    "    dataset_name = result.split('_nn_experiment')[0]\n",
    "    title = results[i].split('_rfqr')[0]\n",
    "    result = pd.read_pickle('results/'+results[i]).drop(['draw'], axis=1)\n",
    "    avg_result = result.mean()\n",
    "    output.loc[title,['UACQR-P','UACQR-S', 'CQR','CQR-r']] = avg_result.to_numpy()\n",
    "    output.loc[title,['UACQR-P SE','UACQR-S SE', 'CQR SE','CQR-r SE']] = result.sem().to_numpy()\n",
    "\n",
    "    # best_params_dict[dataset_name] = result.loc[result.params.str.contains(\"'epoch_model_tracking': True\")].groupby('params', sort=False).mean().iloc[:25].idxmin().to_dict()\n",
    "    "
   ]
  },
  {
   "cell_type": "code",
   "execution_count": 8,
   "id": "c5d4b804",
   "metadata": {},
   "outputs": [
    {
     "data": {
      "text/html": [
       "<div>\n",
       "<style scoped>\n",
       "    .dataframe tbody tr th:only-of-type {\n",
       "        vertical-align: middle;\n",
       "    }\n",
       "\n",
       "    .dataframe tbody tr th {\n",
       "        vertical-align: top;\n",
       "    }\n",
       "\n",
       "    .dataframe thead th {\n",
       "        text-align: right;\n",
       "    }\n",
       "</style>\n",
       "<table border=\"1\" class=\"dataframe\">\n",
       "  <thead>\n",
       "    <tr style=\"text-align: right;\">\n",
       "      <th></th>\n",
       "      <th>UACQR-P</th>\n",
       "      <th>UACQR-S</th>\n",
       "      <th>CQR</th>\n",
       "      <th>CQR-r</th>\n",
       "      <th>UACQR-P SE</th>\n",
       "      <th>UACQR-S SE</th>\n",
       "      <th>CQR SE</th>\n",
       "      <th>CQR-r SE</th>\n",
       "    </tr>\n",
       "  </thead>\n",
       "  <tbody>\n",
       "    <tr>\n",
       "      <th>bike</th>\n",
       "      <td>0.904132</td>\n",
       "      <td>0.900184</td>\n",
       "      <td>0.899679</td>\n",
       "      <td>0.900184</td>\n",
       "      <td>0.001677</td>\n",
       "      <td>0.00194</td>\n",
       "      <td>0.00171</td>\n",
       "      <td>0.001524</td>\n",
       "    </tr>\n",
       "    <tr>\n",
       "      <th>bio</th>\n",
       "      <td>0.89965</td>\n",
       "      <td>0.899781</td>\n",
       "      <td>0.900547</td>\n",
       "      <td>0.899672</td>\n",
       "      <td>0.001408</td>\n",
       "      <td>0.002151</td>\n",
       "      <td>0.002037</td>\n",
       "      <td>0.002054</td>\n",
       "    </tr>\n",
       "    <tr>\n",
       "      <th>cbc</th>\n",
       "      <td>0.895833</td>\n",
       "      <td>0.896528</td>\n",
       "      <td>0.892593</td>\n",
       "      <td>0.893519</td>\n",
       "      <td>0.005937</td>\n",
       "      <td>0.005973</td>\n",
       "      <td>0.006088</td>\n",
       "      <td>0.006129</td>\n",
       "    </tr>\n",
       "    <tr>\n",
       "      <th>community</th>\n",
       "      <td>0.905388</td>\n",
       "      <td>0.901629</td>\n",
       "      <td>0.901253</td>\n",
       "      <td>0.899123</td>\n",
       "      <td>0.004681</td>\n",
       "      <td>0.003138</td>\n",
       "      <td>0.003193</td>\n",
       "      <td>0.003042</td>\n",
       "    </tr>\n",
       "    <tr>\n",
       "      <th>concrete</th>\n",
       "      <td>0.901699</td>\n",
       "      <td>0.896117</td>\n",
       "      <td>0.892718</td>\n",
       "      <td>0.895631</td>\n",
       "      <td>0.006396</td>\n",
       "      <td>0.005823</td>\n",
       "      <td>0.00619</td>\n",
       "      <td>0.005404</td>\n",
       "    </tr>\n",
       "    <tr>\n",
       "      <th>forest</th>\n",
       "      <td>0.901712</td>\n",
       "      <td>0.902055</td>\n",
       "      <td>0.902055</td>\n",
       "      <td>0.902104</td>\n",
       "      <td>0.003154</td>\n",
       "      <td>0.002998</td>\n",
       "      <td>0.003082</td>\n",
       "      <td>0.003151</td>\n",
       "    </tr>\n",
       "    <tr>\n",
       "      <th>homes</th>\n",
       "      <td>0.900624</td>\n",
       "      <td>0.900671</td>\n",
       "      <td>0.900856</td>\n",
       "      <td>0.901596</td>\n",
       "      <td>0.001648</td>\n",
       "      <td>0.001426</td>\n",
       "      <td>0.001297</td>\n",
       "      <td>0.001594</td>\n",
       "    </tr>\n",
       "    <tr>\n",
       "      <th>imdb_wiki_18</th>\n",
       "      <td>0.896787</td>\n",
       "      <td>0.896185</td>\n",
       "      <td>0.893373</td>\n",
       "      <td>0.893976</td>\n",
       "      <td>0.004911</td>\n",
       "      <td>0.005099</td>\n",
       "      <td>0.005248</td>\n",
       "      <td>0.005166</td>\n",
       "    </tr>\n",
       "    <tr>\n",
       "      <th>star</th>\n",
       "      <td>0.898152</td>\n",
       "      <td>0.897921</td>\n",
       "      <td>0.898268</td>\n",
       "      <td>0.897575</td>\n",
       "      <td>0.003235</td>\n",
       "      <td>0.004075</td>\n",
       "      <td>0.004002</td>\n",
       "      <td>0.004046</td>\n",
       "    </tr>\n",
       "  </tbody>\n",
       "</table>\n",
       "</div>"
      ],
      "text/plain": [
       "               UACQR-P   UACQR-S       CQR     CQR-r UACQR-P SE UACQR-S SE  \\\n",
       "bike          0.904132  0.900184  0.899679  0.900184   0.001677    0.00194   \n",
       "bio            0.89965  0.899781  0.900547  0.899672   0.001408   0.002151   \n",
       "cbc           0.895833  0.896528  0.892593  0.893519   0.005937   0.005973   \n",
       "community     0.905388  0.901629  0.901253  0.899123   0.004681   0.003138   \n",
       "concrete      0.901699  0.896117  0.892718  0.895631   0.006396   0.005823   \n",
       "forest        0.901712  0.902055  0.902055  0.902104   0.003154   0.002998   \n",
       "homes         0.900624  0.900671  0.900856  0.901596   0.001648   0.001426   \n",
       "imdb_wiki_18  0.896787  0.896185  0.893373  0.893976   0.004911   0.005099   \n",
       "star          0.898152  0.897921  0.898268  0.897575   0.003235   0.004075   \n",
       "\n",
       "                CQR SE  CQR-r SE  \n",
       "bike           0.00171  0.001524  \n",
       "bio           0.002037  0.002054  \n",
       "cbc           0.006088  0.006129  \n",
       "community     0.003193  0.003042  \n",
       "concrete       0.00619  0.005404  \n",
       "forest        0.003082  0.003151  \n",
       "homes         0.001297  0.001594  \n",
       "imdb_wiki_18  0.005248  0.005166  \n",
       "star          0.004002  0.004046  "
      ]
     },
     "execution_count": 8,
     "metadata": {},
     "output_type": "execute_result"
    }
   ],
   "source": [
    "output.sort_index()"
   ]
  },
  {
   "cell_type": "code",
   "execution_count": 9,
   "id": "4f2123e4-adbc-4e91-8a1e-17df6e541855",
   "metadata": {},
   "outputs": [],
   "source": [
    "output.rename({'imdb_wiki_18':'imdb_wiki'}, inplace=True)"
   ]
  },
  {
   "cell_type": "code",
   "execution_count": 10,
   "id": "5bd11e68",
   "metadata": {},
   "outputs": [],
   "source": [
    "# output.drop(['blog','facebook_1','facebook_2','meps_19','meps_20','meps_21'],inplace=True)\n",
    "output.drop(['blog','facebook_1','facebook_2', 'meps_19', 'meps_20','meps_21'], errors='ignore',inplace=True)"
   ]
  },
  {
   "cell_type": "code",
   "execution_count": 11,
   "id": "58409722",
   "metadata": {},
   "outputs": [
    {
     "data": {
      "text/html": [
       "<div>\n",
       "<style scoped>\n",
       "    .dataframe tbody tr th:only-of-type {\n",
       "        vertical-align: middle;\n",
       "    }\n",
       "\n",
       "    .dataframe tbody tr th {\n",
       "        vertical-align: top;\n",
       "    }\n",
       "\n",
       "    .dataframe thead th {\n",
       "        text-align: right;\n",
       "    }\n",
       "</style>\n",
       "<table border=\"1\" class=\"dataframe\">\n",
       "  <thead>\n",
       "    <tr style=\"text-align: right;\">\n",
       "      <th></th>\n",
       "      <th>UACQR-P</th>\n",
       "      <th>UACQR-S</th>\n",
       "      <th>CQR</th>\n",
       "      <th>CQR-r</th>\n",
       "      <th>UACQR-P SE</th>\n",
       "      <th>UACQR-S SE</th>\n",
       "      <th>CQR SE</th>\n",
       "      <th>CQR-r SE</th>\n",
       "    </tr>\n",
       "  </thead>\n",
       "  <tbody>\n",
       "    <tr>\n",
       "      <th>bike</th>\n",
       "      <td>0.904132</td>\n",
       "      <td>0.900184</td>\n",
       "      <td>0.899679</td>\n",
       "      <td>0.900184</td>\n",
       "      <td>0.001677</td>\n",
       "      <td>0.00194</td>\n",
       "      <td>0.00171</td>\n",
       "      <td>0.001524</td>\n",
       "    </tr>\n",
       "    <tr>\n",
       "      <th>bio</th>\n",
       "      <td>0.89965</td>\n",
       "      <td>0.899781</td>\n",
       "      <td>0.900547</td>\n",
       "      <td>0.899672</td>\n",
       "      <td>0.001408</td>\n",
       "      <td>0.002151</td>\n",
       "      <td>0.002037</td>\n",
       "      <td>0.002054</td>\n",
       "    </tr>\n",
       "    <tr>\n",
       "      <th>cbc</th>\n",
       "      <td>0.895833</td>\n",
       "      <td>0.896528</td>\n",
       "      <td>0.892593</td>\n",
       "      <td>0.893519</td>\n",
       "      <td>0.005937</td>\n",
       "      <td>0.005973</td>\n",
       "      <td>0.006088</td>\n",
       "      <td>0.006129</td>\n",
       "    </tr>\n",
       "    <tr>\n",
       "      <th>community</th>\n",
       "      <td>0.905388</td>\n",
       "      <td>0.901629</td>\n",
       "      <td>0.901253</td>\n",
       "      <td>0.899123</td>\n",
       "      <td>0.004681</td>\n",
       "      <td>0.003138</td>\n",
       "      <td>0.003193</td>\n",
       "      <td>0.003042</td>\n",
       "    </tr>\n",
       "    <tr>\n",
       "      <th>concrete</th>\n",
       "      <td>0.901699</td>\n",
       "      <td>0.896117</td>\n",
       "      <td>0.892718</td>\n",
       "      <td>0.895631</td>\n",
       "      <td>0.006396</td>\n",
       "      <td>0.005823</td>\n",
       "      <td>0.00619</td>\n",
       "      <td>0.005404</td>\n",
       "    </tr>\n",
       "    <tr>\n",
       "      <th>forest</th>\n",
       "      <td>0.901712</td>\n",
       "      <td>0.902055</td>\n",
       "      <td>0.902055</td>\n",
       "      <td>0.902104</td>\n",
       "      <td>0.003154</td>\n",
       "      <td>0.002998</td>\n",
       "      <td>0.003082</td>\n",
       "      <td>0.003151</td>\n",
       "    </tr>\n",
       "    <tr>\n",
       "      <th>homes</th>\n",
       "      <td>0.900624</td>\n",
       "      <td>0.900671</td>\n",
       "      <td>0.900856</td>\n",
       "      <td>0.901596</td>\n",
       "      <td>0.001648</td>\n",
       "      <td>0.001426</td>\n",
       "      <td>0.001297</td>\n",
       "      <td>0.001594</td>\n",
       "    </tr>\n",
       "    <tr>\n",
       "      <th>imdb_wiki</th>\n",
       "      <td>0.896787</td>\n",
       "      <td>0.896185</td>\n",
       "      <td>0.893373</td>\n",
       "      <td>0.893976</td>\n",
       "      <td>0.004911</td>\n",
       "      <td>0.005099</td>\n",
       "      <td>0.005248</td>\n",
       "      <td>0.005166</td>\n",
       "    </tr>\n",
       "    <tr>\n",
       "      <th>star</th>\n",
       "      <td>0.898152</td>\n",
       "      <td>0.897921</td>\n",
       "      <td>0.898268</td>\n",
       "      <td>0.897575</td>\n",
       "      <td>0.003235</td>\n",
       "      <td>0.004075</td>\n",
       "      <td>0.004002</td>\n",
       "      <td>0.004046</td>\n",
       "    </tr>\n",
       "  </tbody>\n",
       "</table>\n",
       "</div>"
      ],
      "text/plain": [
       "            UACQR-P   UACQR-S       CQR     CQR-r UACQR-P SE UACQR-S SE  \\\n",
       "bike       0.904132  0.900184  0.899679  0.900184   0.001677    0.00194   \n",
       "bio         0.89965  0.899781  0.900547  0.899672   0.001408   0.002151   \n",
       "cbc        0.895833  0.896528  0.892593  0.893519   0.005937   0.005973   \n",
       "community  0.905388  0.901629  0.901253  0.899123   0.004681   0.003138   \n",
       "concrete   0.901699  0.896117  0.892718  0.895631   0.006396   0.005823   \n",
       "forest     0.901712  0.902055  0.902055  0.902104   0.003154   0.002998   \n",
       "homes      0.900624  0.900671  0.900856  0.901596   0.001648   0.001426   \n",
       "imdb_wiki  0.896787  0.896185  0.893373  0.893976   0.004911   0.005099   \n",
       "star       0.898152  0.897921  0.898268  0.897575   0.003235   0.004075   \n",
       "\n",
       "             CQR SE  CQR-r SE  \n",
       "bike        0.00171  0.001524  \n",
       "bio        0.002037  0.002054  \n",
       "cbc        0.006088  0.006129  \n",
       "community  0.003193  0.003042  \n",
       "concrete    0.00619  0.005404  \n",
       "forest     0.003082  0.003151  \n",
       "homes      0.001297  0.001594  \n",
       "imdb_wiki  0.005248  0.005166  \n",
       "star       0.004002  0.004046  "
      ]
     },
     "execution_count": 11,
     "metadata": {},
     "output_type": "execute_result"
    }
   ],
   "source": [
    "output.sort_index()"
   ]
  },
  {
   "cell_type": "code",
   "execution_count": 12,
   "id": "7d78b4de",
   "metadata": {},
   "outputs": [],
   "source": [
    "def format_fig_and_se(row, method='CQR'):\n",
    "    fig = row[method]\n",
    "    se = row[method+' SE']\n",
    "    if fig >1000:\n",
    "        return f\"{fig:.0f} ({se:.0f})\"\n",
    "    elif fig >1:\n",
    "        return f\"{fig:.3f} ({se:.3f})\"\n",
    "    else:\n",
    "        return f\"{fig:.3f} ({se:.3f})\""
   ]
  },
  {
   "cell_type": "code",
   "execution_count": 13,
   "id": "8eb61bce",
   "metadata": {},
   "outputs": [],
   "source": [
    "drop_columns = [c for c in output.columns if 'SE' in c]"
   ]
  },
  {
   "cell_type": "code",
   "execution_count": 14,
   "id": "e30b2594",
   "metadata": {},
   "outputs": [],
   "source": [
    "from functools import partial"
   ]
  },
  {
   "cell_type": "code",
   "execution_count": 15,
   "id": "5bdfb808",
   "metadata": {},
   "outputs": [],
   "source": [
    "output['CQR'] = output.apply(partial(format_fig_and_se, method='CQR'), axis=1)\n",
    "output['UACQR-S'] = output.apply(partial(format_fig_and_se, method='UACQR-S'), axis=1)\n",
    "output['UACQR-P'] = output.apply(partial(format_fig_and_se, method='UACQR-P'), axis=1)\n",
    "output['CQR-r'] = output.apply(partial(format_fig_and_se, method='CQR-r'), axis=1)"
   ]
  },
  {
   "cell_type": "code",
   "execution_count": 16,
   "id": "de2f02ca",
   "metadata": {},
   "outputs": [],
   "source": [
    "output.drop(columns=drop_columns, inplace=True)"
   ]
  },
  {
   "cell_type": "code",
   "execution_count": 17,
   "id": "0dbb1469",
   "metadata": {
    "scrolled": true
   },
   "outputs": [
    {
     "name": "stdout",
     "output_type": "stream",
     "text": [
      "\\begin{tabular}{lllll}\n",
      " & UACQR-P & UACQR-S & CQR & CQR-r \\\\\n",
      "\\texttt{bike} & 0.904 (0.002) & 0.900 (0.002) & 0.900 (0.002) & 0.900 (0.002) \\\\\n",
      "\\texttt{bio} & 0.900 (0.001) & 0.900 (0.002) & 0.901 (0.002) & 0.900 (0.002) \\\\\n",
      "\\texttt{cbc} & 0.896 (0.006) & 0.897 (0.006) & 0.893 (0.006) & 0.894 (0.006) \\\\\n",
      "\\texttt{community} & 0.905 (0.005) & 0.902 (0.003) & 0.901 (0.003) & 0.899 (0.003) \\\\\n",
      "\\texttt{concrete} & 0.902 (0.006) & 0.896 (0.006) & 0.893 (0.006) & 0.896 (0.005) \\\\\n",
      "\\texttt{forest} & 0.902 (0.003) & 0.902 (0.003) & 0.902 (0.003) & 0.902 (0.003) \\\\\n",
      "\\texttt{homes} & 0.901 (0.002) & 0.901 (0.001) & 0.901 (0.001) & 0.902 (0.002) \\\\\n",
      "\\texttt{imdb\\_wiki} & 0.897 (0.005) & 0.896 (0.005) & 0.893 (0.005) & 0.894 (0.005) \\\\\n",
      "\\texttt{star} & 0.898 (0.003) & 0.898 (0.004) & 0.898 (0.004) & 0.898 (0.004) \\\\\n",
      "\\end{tabular}\n",
      "\n"
     ]
    }
   ],
   "source": [
    "# Export to LaTeX\n",
    "latex_table = output.sort_index().rename(index=lambda x: f'\\\\texttt{{{x}}}').style.to_latex()\n",
    "\n",
    "\n",
    "print('\\_'.join(latex_table.split('_')))"
   ]
  },
  {
   "cell_type": "code",
   "execution_count": null,
   "id": "61496b9b",
   "metadata": {},
   "outputs": [],
   "source": []
  },
  {
   "cell_type": "code",
   "execution_count": null,
   "id": "2e9259bb-4cb3-4797-a1b5-be9eee9f961e",
   "metadata": {},
   "outputs": [],
   "source": []
  },
  {
   "cell_type": "code",
   "execution_count": null,
   "id": "6fa45c35-d92b-4d14-a7be-b0a20e3276d2",
   "metadata": {},
   "outputs": [],
   "source": []
  }
 ],
 "metadata": {
  "kernelspec": {
   "display_name": "Python 3",
   "language": "python",
   "name": "python3"
  },
  "language_info": {
   "codemirror_mode": {
    "name": "ipython",
    "version": 3
   },
   "file_extension": ".py",
   "mimetype": "text/x-python",
   "name": "python",
   "nbconvert_exporter": "python",
   "pygments_lexer": "ipython3",
   "version": "3.8.5"
  }
 },
 "nbformat": 4,
 "nbformat_minor": 5
}
