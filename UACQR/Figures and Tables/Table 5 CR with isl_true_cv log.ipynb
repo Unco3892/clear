{
 "cells": [
  {
   "cell_type": "code",
   "execution_count": 1,
   "id": "f33b6862",
   "metadata": {},
   "outputs": [],
   "source": [
    "%load_ext autoreload\n",
    "\n",
    "%autoreload 2"
   ]
  },
  {
   "cell_type": "code",
   "execution_count": 2,
   "id": "8119c3a6",
   "metadata": {},
   "outputs": [],
   "source": [
    "import os"
   ]
  },
  {
   "cell_type": "code",
   "execution_count": 3,
   "id": "017a204e",
   "metadata": {},
   "outputs": [],
   "source": [
    "import pandas as pd"
   ]
  },
  {
   "cell_type": "code",
   "execution_count": 4,
   "id": "d57a8f23",
   "metadata": {},
   "outputs": [],
   "source": [
    "results = os.listdir('results')"
   ]
  },
  {
   "cell_type": "code",
   "execution_count": 5,
   "id": "4d198d3e",
   "metadata": {},
   "outputs": [],
   "source": [
    "results = [result for result in results if result.endswith('.pkl') and (\"2.28.2024\" in result or \"2.27.2024\" in result) and \"rfqr\" in result and \"std\" in result and 'true_cv' in result and \"isl\" in result and \"randomizedconformalTrue\" in result and \"recordCoverageFalse\" in result and \"logTrue\" in result]"
   ]
  },
  {
   "cell_type": "code",
   "execution_count": 6,
   "id": "e023877d",
   "metadata": {},
   "outputs": [
    {
     "data": {
      "text/plain": [
       "['cbc_rfqr_experiment_isl_true_cv_std_randomizedconformalTrue_logTrue_recordCoverageFalse_02.27.2024.pkl',\n",
       " 'homes_rfqr_experiment_isl_true_cv_std_randomizedconformalTrue_logTrue_recordCoverageFalse_02.27.2024.pkl',\n",
       " 'bio_rfqr_experiment_isl_true_cv_std_randomizedconformalTrue_logTrue_recordCoverageFalse_02.27.2024.pkl',\n",
       " 'imdb_wiki_18_rfqr_experiment_isl_true_cv_std_randomizedconformalTrue_logTrue_recordCoverageFalse_02.27.2024.pkl',\n",
       " 'concrete_rfqr_experiment_isl_true_cv_std_randomizedconformalTrue_logTrue_recordCoverageFalse_02.27.2024.pkl',\n",
       " 'community_rfqr_experiment_isl_true_cv_std_randomizedconformalTrue_logTrue_recordCoverageFalse_02.27.2024.pkl',\n",
       " 'star_rfqr_experiment_isl_true_cv_std_randomizedconformalTrue_logTrue_recordCoverageFalse_02.27.2024.pkl',\n",
       " 'bike_rfqr_experiment_isl_true_cv_std_randomizedconformalTrue_logTrue_recordCoverageFalse_02.27.2024.pkl',\n",
       " 'forest_rfqr_experiment_isl_true_cv_std_randomizedconformalTrue_logTrue_recordCoverageFalse_02.27.2024.pkl']"
      ]
     },
     "execution_count": 6,
     "metadata": {},
     "output_type": "execute_result"
    }
   ],
   "source": [
    "results"
   ]
  },
  {
   "cell_type": "code",
   "execution_count": 7,
   "id": "b69480f9",
   "metadata": {},
   "outputs": [],
   "source": [
    "output = pd.DataFrame(columns=['UACQR-P','UACQR-S', 'CQR','CQR-r', 'UACQR-P SE', 'UACQR-S SE', 'CQR SE','CQR-r SE'])\n",
    "best_params_dict = dict()\n",
    "for i,result in enumerate(results):\n",
    "    dataset_name = result.split('_nn_experiment')[0]\n",
    "    # title = results[i].split('_')[0] if results[i].split('_')[0] not in [\"facebook\",\"meps\",\"imdb\"] else '_'.join(results[i].split('_')[0:2])\n",
    "    title = results[i].split('_rfqr')[0]\n",
    "    result = pd.read_pickle('results/'+results[i]).drop(['draw'], axis=1)\n",
    "    avg_result = result.mean()\n",
    "    output.loc[title,['UACQR-P','UACQR-S', 'CQR','CQR-r']] = avg_result.to_numpy()\n",
    "    output.loc[title,['UACQR-P SE','UACQR-S SE', 'CQR SE','CQR-r SE']] = result.sem().to_numpy()\n",
    "    n = len(result)\n",
    "    # best_params_dict[dataset_name] = result.loc[result.params.str.contains(\"'epoch_model_tracking': True\")].groupby('params', sort=False).mean().iloc[:25].idxmin().to_dict()\n",
    "    "
   ]
  },
  {
   "cell_type": "code",
   "execution_count": 8,
   "id": "f3249d27-b592-4a7f-9e97-27bf5551f308",
   "metadata": {},
   "outputs": [
    {
     "data": {
      "text/plain": [
       "'forest'"
      ]
     },
     "execution_count": 8,
     "metadata": {},
     "output_type": "execute_result"
    }
   ],
   "source": [
    "title"
   ]
  },
  {
   "cell_type": "code",
   "execution_count": 9,
   "id": "cd1c2f41-f666-41f6-a126-34b44394a53e",
   "metadata": {},
   "outputs": [],
   "source": [
    "output.rename({'imdb_wiki_18':'imdb_wiki'}, inplace=True)"
   ]
  },
  {
   "cell_type": "code",
   "execution_count": 10,
   "id": "c5d4b804",
   "metadata": {},
   "outputs": [
    {
     "data": {
      "text/html": [
       "<div>\n",
       "<style scoped>\n",
       "    .dataframe tbody tr th:only-of-type {\n",
       "        vertical-align: middle;\n",
       "    }\n",
       "\n",
       "    .dataframe tbody tr th {\n",
       "        vertical-align: top;\n",
       "    }\n",
       "\n",
       "    .dataframe thead th {\n",
       "        text-align: right;\n",
       "    }\n",
       "</style>\n",
       "<table border=\"1\" class=\"dataframe\">\n",
       "  <thead>\n",
       "    <tr style=\"text-align: right;\">\n",
       "      <th></th>\n",
       "      <th>UACQR-P</th>\n",
       "      <th>UACQR-S</th>\n",
       "      <th>CQR</th>\n",
       "      <th>CQR-r</th>\n",
       "      <th>UACQR-P SE</th>\n",
       "      <th>UACQR-S SE</th>\n",
       "      <th>CQR SE</th>\n",
       "      <th>CQR-r SE</th>\n",
       "    </tr>\n",
       "  </thead>\n",
       "  <tbody>\n",
       "    <tr>\n",
       "      <th>cbc</th>\n",
       "      <td>1.582115</td>\n",
       "      <td>1.602114</td>\n",
       "      <td>1.598647</td>\n",
       "      <td>1.597725</td>\n",
       "      <td>0.050813</td>\n",
       "      <td>0.033817</td>\n",
       "      <td>0.033987</td>\n",
       "      <td>0.033107</td>\n",
       "    </tr>\n",
       "    <tr>\n",
       "      <th>forest</th>\n",
       "      <td>0.64904</td>\n",
       "      <td>0.655552</td>\n",
       "      <td>0.655649</td>\n",
       "      <td>0.655612</td>\n",
       "      <td>0.001922</td>\n",
       "      <td>0.00097</td>\n",
       "      <td>0.000993</td>\n",
       "      <td>0.000992</td>\n",
       "    </tr>\n",
       "    <tr>\n",
       "      <th>imdb_wiki</th>\n",
       "      <td>3.40919</td>\n",
       "      <td>3.392884</td>\n",
       "      <td>3.394344</td>\n",
       "      <td>3.392308</td>\n",
       "      <td>0.061283</td>\n",
       "      <td>0.032225</td>\n",
       "      <td>0.032094</td>\n",
       "      <td>0.032036</td>\n",
       "    </tr>\n",
       "  </tbody>\n",
       "</table>\n",
       "</div>"
      ],
      "text/plain": [
       "            UACQR-P   UACQR-S       CQR     CQR-r UACQR-P SE UACQR-S SE  \\\n",
       "cbc        1.582115  1.602114  1.598647  1.597725   0.050813   0.033817   \n",
       "forest      0.64904  0.655552  0.655649  0.655612   0.001922    0.00097   \n",
       "imdb_wiki   3.40919  3.392884  3.394344  3.392308   0.061283   0.032225   \n",
       "\n",
       "             CQR SE  CQR-r SE  \n",
       "cbc        0.033987  0.033107  \n",
       "forest     0.000993  0.000992  \n",
       "imdb_wiki  0.032094  0.032036  "
      ]
     },
     "execution_count": 10,
     "metadata": {},
     "output_type": "execute_result"
    }
   ],
   "source": [
    "output.loc[['cbc','forest','imdb_wiki']].sort_index()"
   ]
  },
  {
   "cell_type": "code",
   "execution_count": 11,
   "id": "5bd11e68",
   "metadata": {},
   "outputs": [],
   "source": [
    "# output.drop(['blog','facebook_1','facebook_2','meps_19','meps_20','meps_21'],inplace=True)\n",
    "output.drop(['blog','facebook_1','facebook_2', 'meps_19', 'meps_20','meps_21'], errors='ignore',inplace=True)"
   ]
  },
  {
   "cell_type": "code",
   "execution_count": 12,
   "id": "58409722",
   "metadata": {},
   "outputs": [
    {
     "data": {
      "text/html": [
       "<div>\n",
       "<style scoped>\n",
       "    .dataframe tbody tr th:only-of-type {\n",
       "        vertical-align: middle;\n",
       "    }\n",
       "\n",
       "    .dataframe tbody tr th {\n",
       "        vertical-align: top;\n",
       "    }\n",
       "\n",
       "    .dataframe thead th {\n",
       "        text-align: right;\n",
       "    }\n",
       "</style>\n",
       "<table border=\"1\" class=\"dataframe\">\n",
       "  <thead>\n",
       "    <tr style=\"text-align: right;\">\n",
       "      <th></th>\n",
       "      <th>UACQR-P</th>\n",
       "      <th>UACQR-S</th>\n",
       "      <th>CQR</th>\n",
       "      <th>CQR-r</th>\n",
       "      <th>UACQR-P SE</th>\n",
       "      <th>UACQR-S SE</th>\n",
       "      <th>CQR SE</th>\n",
       "      <th>CQR-r SE</th>\n",
       "    </tr>\n",
       "  </thead>\n",
       "  <tbody>\n",
       "    <tr>\n",
       "      <th>bike</th>\n",
       "      <td>2.047797</td>\n",
       "      <td>2.211614</td>\n",
       "      <td>2.224216</td>\n",
       "      <td>2.200521</td>\n",
       "      <td>0.01151</td>\n",
       "      <td>0.00941</td>\n",
       "      <td>0.008949</td>\n",
       "      <td>0.009685</td>\n",
       "    </tr>\n",
       "    <tr>\n",
       "      <th>bio</th>\n",
       "      <td>1.842788</td>\n",
       "      <td>1.879857</td>\n",
       "      <td>1.879174</td>\n",
       "      <td>1.879255</td>\n",
       "      <td>0.01358</td>\n",
       "      <td>0.00838</td>\n",
       "      <td>0.008352</td>\n",
       "      <td>0.008364</td>\n",
       "    </tr>\n",
       "    <tr>\n",
       "      <th>cbc</th>\n",
       "      <td>1.582115</td>\n",
       "      <td>1.602114</td>\n",
       "      <td>1.598647</td>\n",
       "      <td>1.597725</td>\n",
       "      <td>0.050813</td>\n",
       "      <td>0.033817</td>\n",
       "      <td>0.033987</td>\n",
       "      <td>0.033107</td>\n",
       "    </tr>\n",
       "    <tr>\n",
       "      <th>community</th>\n",
       "      <td>0.378027</td>\n",
       "      <td>0.378788</td>\n",
       "      <td>0.379046</td>\n",
       "      <td>0.378821</td>\n",
       "      <td>0.006166</td>\n",
       "      <td>0.004555</td>\n",
       "      <td>0.004669</td>\n",
       "      <td>0.004564</td>\n",
       "    </tr>\n",
       "    <tr>\n",
       "      <th>concrete</th>\n",
       "      <td>0.983514</td>\n",
       "      <td>1.026958</td>\n",
       "      <td>1.035049</td>\n",
       "      <td>1.021477</td>\n",
       "      <td>0.018557</td>\n",
       "      <td>0.023847</td>\n",
       "      <td>0.021041</td>\n",
       "      <td>0.025268</td>\n",
       "    </tr>\n",
       "    <tr>\n",
       "      <th>forest</th>\n",
       "      <td>0.64904</td>\n",
       "      <td>0.655552</td>\n",
       "      <td>0.655649</td>\n",
       "      <td>0.655612</td>\n",
       "      <td>0.001922</td>\n",
       "      <td>0.00097</td>\n",
       "      <td>0.000993</td>\n",
       "      <td>0.000992</td>\n",
       "    </tr>\n",
       "    <tr>\n",
       "      <th>homes</th>\n",
       "      <td>0.828665</td>\n",
       "      <td>0.850971</td>\n",
       "      <td>0.855165</td>\n",
       "      <td>0.845555</td>\n",
       "      <td>0.00488</td>\n",
       "      <td>0.004522</td>\n",
       "      <td>0.004407</td>\n",
       "      <td>0.004574</td>\n",
       "    </tr>\n",
       "    <tr>\n",
       "      <th>imdb_wiki</th>\n",
       "      <td>3.40919</td>\n",
       "      <td>3.392884</td>\n",
       "      <td>3.394344</td>\n",
       "      <td>3.392308</td>\n",
       "      <td>0.061283</td>\n",
       "      <td>0.032225</td>\n",
       "      <td>0.032094</td>\n",
       "      <td>0.032036</td>\n",
       "    </tr>\n",
       "    <tr>\n",
       "      <th>star</th>\n",
       "      <td>0.21241</td>\n",
       "      <td>0.211239</td>\n",
       "      <td>0.210949</td>\n",
       "      <td>0.211172</td>\n",
       "      <td>0.001336</td>\n",
       "      <td>0.001253</td>\n",
       "      <td>0.001247</td>\n",
       "      <td>0.001266</td>\n",
       "    </tr>\n",
       "  </tbody>\n",
       "</table>\n",
       "</div>"
      ],
      "text/plain": [
       "            UACQR-P   UACQR-S       CQR     CQR-r UACQR-P SE UACQR-S SE  \\\n",
       "bike       2.047797  2.211614  2.224216  2.200521    0.01151    0.00941   \n",
       "bio        1.842788  1.879857  1.879174  1.879255    0.01358    0.00838   \n",
       "cbc        1.582115  1.602114  1.598647  1.597725   0.050813   0.033817   \n",
       "community  0.378027  0.378788  0.379046  0.378821   0.006166   0.004555   \n",
       "concrete   0.983514  1.026958  1.035049  1.021477   0.018557   0.023847   \n",
       "forest      0.64904  0.655552  0.655649  0.655612   0.001922    0.00097   \n",
       "homes      0.828665  0.850971  0.855165  0.845555    0.00488   0.004522   \n",
       "imdb_wiki   3.40919  3.392884  3.394344  3.392308   0.061283   0.032225   \n",
       "star        0.21241  0.211239  0.210949  0.211172   0.001336   0.001253   \n",
       "\n",
       "             CQR SE  CQR-r SE  \n",
       "bike       0.008949  0.009685  \n",
       "bio        0.008352  0.008364  \n",
       "cbc        0.033987  0.033107  \n",
       "community  0.004669  0.004564  \n",
       "concrete   0.021041  0.025268  \n",
       "forest     0.000993  0.000992  \n",
       "homes      0.004407  0.004574  \n",
       "imdb_wiki  0.032094  0.032036  \n",
       "star       0.001247  0.001266  "
      ]
     },
     "execution_count": 12,
     "metadata": {},
     "output_type": "execute_result"
    }
   ],
   "source": [
    "output.sort_index()"
   ]
  },
  {
   "cell_type": "code",
   "execution_count": 13,
   "id": "a0348d87-3811-4c38-a8c7-aefc9b95d231",
   "metadata": {},
   "outputs": [
    {
     "data": {
      "text/plain": [
       "'\\\\begin{tabular}{lllllllll}\\n & UACQR-P & UACQR-S & CQR & CQR-r & UACQR-P SE & UACQR-S SE & CQR SE & CQR-r SE \\\\\\\\\\ncbc & 1.582115 & 1.602114 & 1.598647 & 1.597725 & 0.050813 & 0.033817 & 0.033987 & 0.033107 \\\\\\\\\\nhomes & 0.828665 & 0.850971 & 0.855165 & 0.845555 & 0.004880 & 0.004522 & 0.004407 & 0.004574 \\\\\\\\\\nbio & 1.842788 & 1.879857 & 1.879174 & 1.879255 & 0.013580 & 0.008380 & 0.008352 & 0.008364 \\\\\\\\\\nimdb_wiki & 3.409190 & 3.392884 & 3.394344 & 3.392308 & 0.061283 & 0.032225 & 0.032094 & 0.032036 \\\\\\\\\\nconcrete & 0.983514 & 1.026958 & 1.035049 & 1.021477 & 0.018557 & 0.023847 & 0.021041 & 0.025268 \\\\\\\\\\ncommunity & 0.378027 & 0.378788 & 0.379046 & 0.378821 & 0.006166 & 0.004555 & 0.004669 & 0.004564 \\\\\\\\\\nstar & 0.212410 & 0.211239 & 0.210949 & 0.211172 & 0.001336 & 0.001253 & 0.001247 & 0.001266 \\\\\\\\\\nbike & 2.047797 & 2.211614 & 2.224216 & 2.200521 & 0.011510 & 0.009410 & 0.008949 & 0.009685 \\\\\\\\\\nforest & 0.649040 & 0.655552 & 0.655649 & 0.655612 & 0.001922 & 0.000970 & 0.000993 & 0.000992 \\\\\\\\\\n\\\\end{tabular}\\n'"
      ]
     },
     "execution_count": 13,
     "metadata": {},
     "output_type": "execute_result"
    }
   ],
   "source": [
    "output.style.to_latex()"
   ]
  },
  {
   "cell_type": "code",
   "execution_count": 14,
   "id": "eb02d97b-b4f6-4c98-bf87-dd162c39be76",
   "metadata": {},
   "outputs": [],
   "source": [
    "def negative_bold(val):\n",
    "\n",
    "\n",
    "    bold = 'bold' if val < 1.8 else ''\n",
    "\n",
    "\n",
    "    return 'font-weight: %s' % bold"
   ]
  },
  {
   "cell_type": "code",
   "execution_count": 15,
   "id": "ed9a1b6e-b258-4a24-94df-90b2c9a16e4a",
   "metadata": {},
   "outputs": [],
   "source": [
    "from scipy.stats import t\n",
    "def bold_underline_row(row):\n",
    "    # Find the smallest value in the current row\n",
    "    min_val = round(row[['UACQR-P','UACQR-S','CQR','CQR-r']].min(),3)\n",
    "\n",
    "    series = row.copy()\n",
    "    main_series = series[~series.index.str.contains(\" SE\")]\n",
    "    se_series = series[series.index.str.contains(\" SE\")].rename(lambda x: x.replace(\" SE\", \"\"))\n",
    "    \n",
    "    # Combine into a DataFrame\n",
    "    reshaped_df = pd.DataFrame({\n",
    "        \"Value\": main_series.astype(float),\n",
    "        \"SE\": se_series.astype(float)\n",
    "    })\n",
    "    \n",
    "    two_smallest_vals = reshaped_df.nsmallest(2, 'Value')\n",
    "\n",
    "    min_val_significant = two_smallest_vals.iloc[0,0]+t.ppf(0.975, 2*n-2)*(two_smallest_vals.iloc[0,1]**2+two_smallest_vals.iloc[1,1]**2)**0.5 < two_smallest_vals.iloc[1,0]\n",
    "    \n",
    "    for i in range(len(row)):\n",
    "        x = row[i]\n",
    "        row[i] = f'\\\\textbf{{{x:.3f}}}' if round(x,3) == min_val else f'{x:.3f}'\n",
    "        row[i] = f'\\\\underline{{{row[i]}}}' if min_val_significant and (round(x,3) == min_val) else row[i]\n",
    "    \n",
    "    return row\n",
    "\n",
    "\n"
   ]
  },
  {
   "cell_type": "code",
   "execution_count": 16,
   "id": "e0fceef4-52cd-4a97-b0f5-fcb895936dbd",
   "metadata": {},
   "outputs": [],
   "source": [
    "output = output.apply(bold_underline_row, axis=1)"
   ]
  },
  {
   "cell_type": "code",
   "execution_count": 17,
   "id": "7d78b4de",
   "metadata": {},
   "outputs": [],
   "source": [
    "def format_fig_and_se(row, method='CQR'):\n",
    "    fig = row[method]\n",
    "    se = row[method+' SE']\n",
    "    return f\"{fig} ({se})\""
   ]
  },
  {
   "cell_type": "code",
   "execution_count": 18,
   "id": "8eb61bce",
   "metadata": {},
   "outputs": [],
   "source": [
    "drop_columns = [c for c in output.columns if 'SE' in c]"
   ]
  },
  {
   "cell_type": "code",
   "execution_count": 19,
   "id": "e30b2594",
   "metadata": {},
   "outputs": [],
   "source": [
    "from functools import partial"
   ]
  },
  {
   "cell_type": "code",
   "execution_count": 20,
   "id": "5bdfb808",
   "metadata": {},
   "outputs": [],
   "source": [
    "output['CQR'] = output.apply(partial(format_fig_and_se, method='CQR'), axis=1)\n",
    "output['UACQR-S'] = output.apply(partial(format_fig_and_se, method='UACQR-S'), axis=1)\n",
    "output['UACQR-P'] = output.apply(partial(format_fig_and_se, method='UACQR-P'), axis=1)\n",
    "output['CQR-r'] = output.apply(partial(format_fig_and_se, method='CQR-r'), axis=1)"
   ]
  },
  {
   "cell_type": "code",
   "execution_count": 21,
   "id": "de2f02ca",
   "metadata": {},
   "outputs": [],
   "source": [
    "output.drop(columns=drop_columns, inplace=True)"
   ]
  },
  {
   "cell_type": "code",
   "execution_count": 22,
   "id": "0dbb1469",
   "metadata": {
    "scrolled": true
   },
   "outputs": [
    {
     "name": "stdout",
     "output_type": "stream",
     "text": [
      "\\begin{tabular}{lllll}\n",
      " & UACQR-P & UACQR-S & CQR & CQR-r \\\\\n",
      "\\texttt{bike} & \\underline{\\textbf{2.048}} (0.012) & 2.212 (0.009) & 2.224 (0.009) & 2.201 (0.010) \\\\\n",
      "\\texttt{bio} & \\underline{\\textbf{1.843}} (0.014) & 1.880 (0.008) & 1.879 (0.008) & 1.879 (0.008) \\\\\n",
      "\\texttt{cbc} & \\textbf{1.582} (0.051) & 1.602 (0.034) & 1.599 (0.034) & 1.598 (0.033) \\\\\n",
      "\\texttt{community} & \\textbf{0.378} (0.006) & 0.379 (0.005) & 0.379 (0.005) & 0.379 (0.005) \\\\\n",
      "\\texttt{concrete} & \\textbf{0.984} (0.019) & 1.027 (0.024) & 1.035 (0.021) & 1.021 (0.025) \\\\\n",
      "\\texttt{forest} & \\underline{\\textbf{0.649}} (0.002) & 0.656 (0.001) & 0.656 (0.001) & 0.656 (0.001) \\\\\n",
      "\\texttt{homes} & \\underline{\\textbf{0.829}} (0.005) & 0.851 (0.005) & 0.855 (0.004) & 0.846 (0.005) \\\\\n",
      "\\texttt{imdb\\_wiki} & 3.409 (0.061) & 3.393 (0.032) & 3.394 (0.032) & \\textbf{3.392} (0.032) \\\\\n",
      "\\texttt{star} & 0.212 (0.001) & \\textbf{0.211} (0.001) & \\textbf{0.211} (0.001) & \\textbf{0.211} (0.001) \\\\\n",
      "\\end{tabular}\n",
      "\n"
     ]
    }
   ],
   "source": [
    "# Export to LaTeX\n",
    "latex_table = output.sort_index().rename(index=lambda x: f'\\\\texttt{{{x}}}').style.to_latex()\n",
    "\n",
    "\n",
    "print('\\_'.join(latex_table.split('_')))"
   ]
  },
  {
   "cell_type": "code",
   "execution_count": null,
   "id": "839a2db9",
   "metadata": {},
   "outputs": [],
   "source": []
  },
  {
   "cell_type": "code",
   "execution_count": null,
   "id": "61496b9b",
   "metadata": {},
   "outputs": [],
   "source": []
  },
  {
   "cell_type": "code",
   "execution_count": null,
   "id": "2e9259bb-4cb3-4797-a1b5-be9eee9f961e",
   "metadata": {},
   "outputs": [],
   "source": []
  },
  {
   "cell_type": "code",
   "execution_count": null,
   "id": "6fa45c35-d92b-4d14-a7be-b0a20e3276d2",
   "metadata": {},
   "outputs": [],
   "source": []
  }
 ],
 "metadata": {
  "kernelspec": {
   "display_name": "Python 3",
   "language": "python",
   "name": "python3"
  },
  "language_info": {
   "codemirror_mode": {
    "name": "ipython",
    "version": 3
   },
   "file_extension": ".py",
   "mimetype": "text/x-python",
   "name": "python",
   "nbconvert_exporter": "python",
   "pygments_lexer": "ipython3",
   "version": "3.8.5"
  }
 },
 "nbformat": 4,
 "nbformat_minor": 5
}
