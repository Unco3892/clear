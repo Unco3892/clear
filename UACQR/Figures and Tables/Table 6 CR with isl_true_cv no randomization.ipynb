{
 "cells": [
  {
   "cell_type": "code",
   "execution_count": 1,
   "id": "f33b6862",
   "metadata": {},
   "outputs": [],
   "source": [
    "%load_ext autoreload\n",
    "\n",
    "%autoreload 2"
   ]
  },
  {
   "cell_type": "code",
   "execution_count": 2,
   "id": "8119c3a6",
   "metadata": {},
   "outputs": [],
   "source": [
    "import os"
   ]
  },
  {
   "cell_type": "code",
   "execution_count": 3,
   "id": "017a204e",
   "metadata": {},
   "outputs": [],
   "source": [
    "import pandas as pd"
   ]
  },
  {
   "cell_type": "code",
   "execution_count": 4,
   "id": "d57a8f23",
   "metadata": {},
   "outputs": [],
   "source": [
    "results = os.listdir('results')"
   ]
  },
  {
   "cell_type": "code",
   "execution_count": 5,
   "id": "4d198d3e",
   "metadata": {},
   "outputs": [],
   "source": [
    "results = [result for result in results if result.endswith('.pkl') and (\"2.28.2024\" in result or \"2.27.2024\" in result) and \"rfqr\" in result and \"std\" in result and 'true_cv' in result and \"isl\" in result and \"randomizedconformalFalse\" in result and \"recordCoverageFalse\" in result and \"logFalse\" in result]"
   ]
  },
  {
   "cell_type": "code",
   "execution_count": 6,
   "id": "e023877d",
   "metadata": {},
   "outputs": [
    {
     "data": {
      "text/plain": [
       "['star_rfqr_experiment_isl_true_cv_std_randomizedconformalFalse_logFalse_recordCoverageFalse_02.27.2024.pkl',\n",
       " 'homes_rfqr_experiment_isl_true_cv_std_randomizedconformalFalse_logFalse_recordCoverageFalse_02.27.2024.pkl',\n",
       " 'imdb_wiki_18_rfqr_experiment_isl_true_cv_std_randomizedconformalFalse_logFalse_recordCoverageFalse_02.27.2024.pkl',\n",
       " 'concrete_rfqr_experiment_isl_true_cv_std_randomizedconformalFalse_logFalse_recordCoverageFalse_02.27.2024.pkl',\n",
       " 'bike_rfqr_experiment_isl_true_cv_std_randomizedconformalFalse_logFalse_recordCoverageFalse_02.27.2024.pkl',\n",
       " 'community_rfqr_experiment_isl_true_cv_std_randomizedconformalFalse_logFalse_recordCoverageFalse_02.27.2024.pkl',\n",
       " 'bio_rfqr_experiment_isl_true_cv_std_randomizedconformalFalse_logFalse_recordCoverageFalse_02.27.2024.pkl',\n",
       " 'forest_rfqr_experiment_isl_true_cv_std_randomizedconformalFalse_logFalse_recordCoverageFalse_02.27.2024.pkl',\n",
       " 'cbc_rfqr_experiment_isl_true_cv_std_randomizedconformalFalse_logFalse_recordCoverageFalse_02.27.2024.pkl']"
      ]
     },
     "execution_count": 6,
     "metadata": {},
     "output_type": "execute_result"
    }
   ],
   "source": [
    "results"
   ]
  },
  {
   "cell_type": "code",
   "execution_count": 7,
   "id": "b69480f9",
   "metadata": {},
   "outputs": [],
   "source": [
    "output = pd.DataFrame(columns=['UACQR-P','UACQR-S', 'CQR','CQR-r', 'UACQR-P SE', 'UACQR-S SE', 'CQR SE','CQR-r SE'])\n",
    "best_params_dict = dict()\n",
    "for i,result in enumerate(results):\n",
    "    dataset_name = result.split('_nn_experiment')[0]\n",
    "    # title = results[i].split('_')[0] if results[i].split('_')[0] not in [\"facebook\",\"meps\",\"imdb\"] else '_'.join(results[i].split('_')[0:2])\n",
    "    title = results[i].split('_rfqr')[0]\n",
    "    result = pd.read_pickle('results/'+results[i]).drop(['draw'], axis=1)\n",
    "    avg_result = result.mean()\n",
    "    output.loc[title,['UACQR-P','UACQR-S', 'CQR','CQR-r']] = avg_result.to_numpy()\n",
    "    output.loc[title,['UACQR-P SE','UACQR-S SE', 'CQR SE','CQR-r SE']] = result.sem().to_numpy()\n",
    "    n = len(result)\n",
    "    # best_params_dict[dataset_name] = result.loc[result.params.str.contains(\"'epoch_model_tracking': True\")].groupby('params', sort=False).mean().iloc[:25].idxmin().to_dict()\n",
    "    "
   ]
  },
  {
   "cell_type": "code",
   "execution_count": 8,
   "id": "f3249d27-b592-4a7f-9e97-27bf5551f308",
   "metadata": {},
   "outputs": [
    {
     "data": {
      "text/plain": [
       "'cbc'"
      ]
     },
     "execution_count": 8,
     "metadata": {},
     "output_type": "execute_result"
    }
   ],
   "source": [
    "title"
   ]
  },
  {
   "cell_type": "code",
   "execution_count": 9,
   "id": "cd1c2f41-f666-41f6-a126-34b44394a53e",
   "metadata": {},
   "outputs": [],
   "source": [
    "output.rename({'imdb_wiki_18':'imdb_wiki'}, inplace=True)"
   ]
  },
  {
   "cell_type": "code",
   "execution_count": 10,
   "id": "c5d4b804",
   "metadata": {},
   "outputs": [
    {
     "data": {
      "text/html": [
       "<div>\n",
       "<style scoped>\n",
       "    .dataframe tbody tr th:only-of-type {\n",
       "        vertical-align: middle;\n",
       "    }\n",
       "\n",
       "    .dataframe tbody tr th {\n",
       "        vertical-align: top;\n",
       "    }\n",
       "\n",
       "    .dataframe thead th {\n",
       "        text-align: right;\n",
       "    }\n",
       "</style>\n",
       "<table border=\"1\" class=\"dataframe\">\n",
       "  <thead>\n",
       "    <tr style=\"text-align: right;\">\n",
       "      <th></th>\n",
       "      <th>UACQR-P</th>\n",
       "      <th>UACQR-S</th>\n",
       "      <th>CQR</th>\n",
       "      <th>CQR-r</th>\n",
       "      <th>UACQR-P SE</th>\n",
       "      <th>UACQR-S SE</th>\n",
       "      <th>CQR SE</th>\n",
       "      <th>CQR-r SE</th>\n",
       "    </tr>\n",
       "  </thead>\n",
       "  <tbody>\n",
       "    <tr>\n",
       "      <th>cbc</th>\n",
       "      <td>1.277759</td>\n",
       "      <td>1.275132</td>\n",
       "      <td>1.272702</td>\n",
       "      <td>1.273174</td>\n",
       "      <td>0.022506</td>\n",
       "      <td>0.016335</td>\n",
       "      <td>0.016123</td>\n",
       "      <td>0.016005</td>\n",
       "    </tr>\n",
       "    <tr>\n",
       "      <th>forest</th>\n",
       "      <td>2.438649</td>\n",
       "      <td>2.460828</td>\n",
       "      <td>2.461555</td>\n",
       "      <td>2.46139</td>\n",
       "      <td>0.014303</td>\n",
       "      <td>0.009693</td>\n",
       "      <td>0.009691</td>\n",
       "      <td>0.009693</td>\n",
       "    </tr>\n",
       "    <tr>\n",
       "      <th>imdb_wiki</th>\n",
       "      <td>1.840711</td>\n",
       "      <td>1.925684</td>\n",
       "      <td>1.927118</td>\n",
       "      <td>1.926403</td>\n",
       "      <td>0.017655</td>\n",
       "      <td>0.010212</td>\n",
       "      <td>0.01021</td>\n",
       "      <td>0.010132</td>\n",
       "    </tr>\n",
       "  </tbody>\n",
       "</table>\n",
       "</div>"
      ],
      "text/plain": [
       "            UACQR-P   UACQR-S       CQR     CQR-r UACQR-P SE UACQR-S SE  \\\n",
       "cbc        1.277759  1.275132  1.272702  1.273174   0.022506   0.016335   \n",
       "forest     2.438649  2.460828  2.461555   2.46139   0.014303   0.009693   \n",
       "imdb_wiki  1.840711  1.925684  1.927118  1.926403   0.017655   0.010212   \n",
       "\n",
       "             CQR SE  CQR-r SE  \n",
       "cbc        0.016123  0.016005  \n",
       "forest     0.009691  0.009693  \n",
       "imdb_wiki   0.01021  0.010132  "
      ]
     },
     "execution_count": 10,
     "metadata": {},
     "output_type": "execute_result"
    }
   ],
   "source": [
    "output.loc[['cbc','forest','imdb_wiki']].sort_index()"
   ]
  },
  {
   "cell_type": "code",
   "execution_count": 11,
   "id": "5bd11e68",
   "metadata": {},
   "outputs": [],
   "source": [
    "# output.drop(['blog','facebook_1','facebook_2','meps_19','meps_20','meps_21'],inplace=True)\n",
    "output.drop(['blog','facebook_1','facebook_2', 'meps_19', 'meps_20','meps_21'], errors='ignore',inplace=True)"
   ]
  },
  {
   "cell_type": "code",
   "execution_count": 12,
   "id": "58409722",
   "metadata": {},
   "outputs": [
    {
     "data": {
      "text/html": [
       "<div>\n",
       "<style scoped>\n",
       "    .dataframe tbody tr th:only-of-type {\n",
       "        vertical-align: middle;\n",
       "    }\n",
       "\n",
       "    .dataframe tbody tr th {\n",
       "        vertical-align: top;\n",
       "    }\n",
       "\n",
       "    .dataframe thead th {\n",
       "        text-align: right;\n",
       "    }\n",
       "</style>\n",
       "<table border=\"1\" class=\"dataframe\">\n",
       "  <thead>\n",
       "    <tr style=\"text-align: right;\">\n",
       "      <th></th>\n",
       "      <th>UACQR-P</th>\n",
       "      <th>UACQR-S</th>\n",
       "      <th>CQR</th>\n",
       "      <th>CQR-r</th>\n",
       "      <th>UACQR-P SE</th>\n",
       "      <th>UACQR-S SE</th>\n",
       "      <th>CQR SE</th>\n",
       "      <th>CQR-r SE</th>\n",
       "    </tr>\n",
       "  </thead>\n",
       "  <tbody>\n",
       "    <tr>\n",
       "      <th>bike</th>\n",
       "      <td>1.446504</td>\n",
       "      <td>1.573301</td>\n",
       "      <td>1.585772</td>\n",
       "      <td>1.56427</td>\n",
       "      <td>0.013002</td>\n",
       "      <td>0.008254</td>\n",
       "      <td>0.007981</td>\n",
       "      <td>0.008618</td>\n",
       "    </tr>\n",
       "    <tr>\n",
       "      <th>bio</th>\n",
       "      <td>1.8801</td>\n",
       "      <td>1.899619</td>\n",
       "      <td>1.899669</td>\n",
       "      <td>1.899743</td>\n",
       "      <td>0.012167</td>\n",
       "      <td>0.010462</td>\n",
       "      <td>0.0105</td>\n",
       "      <td>0.010552</td>\n",
       "    </tr>\n",
       "    <tr>\n",
       "      <th>cbc</th>\n",
       "      <td>1.277759</td>\n",
       "      <td>1.275132</td>\n",
       "      <td>1.272702</td>\n",
       "      <td>1.273174</td>\n",
       "      <td>0.022506</td>\n",
       "      <td>0.016335</td>\n",
       "      <td>0.016123</td>\n",
       "      <td>0.016005</td>\n",
       "    </tr>\n",
       "    <tr>\n",
       "      <th>community</th>\n",
       "      <td>2.111599</td>\n",
       "      <td>2.155786</td>\n",
       "      <td>2.157009</td>\n",
       "      <td>2.156207</td>\n",
       "      <td>0.041958</td>\n",
       "      <td>0.033183</td>\n",
       "      <td>0.033575</td>\n",
       "      <td>0.033296</td>\n",
       "    </tr>\n",
       "    <tr>\n",
       "      <th>concrete</th>\n",
       "      <td>0.841604</td>\n",
       "      <td>0.8816</td>\n",
       "      <td>0.88147</td>\n",
       "      <td>0.863977</td>\n",
       "      <td>0.018543</td>\n",
       "      <td>0.015471</td>\n",
       "      <td>0.014872</td>\n",
       "      <td>0.015028</td>\n",
       "    </tr>\n",
       "    <tr>\n",
       "      <th>forest</th>\n",
       "      <td>2.438649</td>\n",
       "      <td>2.460828</td>\n",
       "      <td>2.461555</td>\n",
       "      <td>2.46139</td>\n",
       "      <td>0.014303</td>\n",
       "      <td>0.009693</td>\n",
       "      <td>0.009691</td>\n",
       "      <td>0.009693</td>\n",
       "    </tr>\n",
       "    <tr>\n",
       "      <th>homes</th>\n",
       "      <td>0.879636</td>\n",
       "      <td>0.915799</td>\n",
       "      <td>0.929788</td>\n",
       "      <td>0.910603</td>\n",
       "      <td>0.01197</td>\n",
       "      <td>0.010561</td>\n",
       "      <td>0.010006</td>\n",
       "      <td>0.010757</td>\n",
       "    </tr>\n",
       "    <tr>\n",
       "      <th>imdb_wiki</th>\n",
       "      <td>1.840711</td>\n",
       "      <td>1.925684</td>\n",
       "      <td>1.927118</td>\n",
       "      <td>1.926403</td>\n",
       "      <td>0.017655</td>\n",
       "      <td>0.010212</td>\n",
       "      <td>0.01021</td>\n",
       "      <td>0.010132</td>\n",
       "    </tr>\n",
       "    <tr>\n",
       "      <th>star</th>\n",
       "      <td>0.213886</td>\n",
       "      <td>0.212999</td>\n",
       "      <td>0.21269</td>\n",
       "      <td>0.212967</td>\n",
       "      <td>0.001365</td>\n",
       "      <td>0.0014</td>\n",
       "      <td>0.001403</td>\n",
       "      <td>0.001422</td>\n",
       "    </tr>\n",
       "  </tbody>\n",
       "</table>\n",
       "</div>"
      ],
      "text/plain": [
       "            UACQR-P   UACQR-S       CQR     CQR-r UACQR-P SE UACQR-S SE  \\\n",
       "bike       1.446504  1.573301  1.585772   1.56427   0.013002   0.008254   \n",
       "bio          1.8801  1.899619  1.899669  1.899743   0.012167   0.010462   \n",
       "cbc        1.277759  1.275132  1.272702  1.273174   0.022506   0.016335   \n",
       "community  2.111599  2.155786  2.157009  2.156207   0.041958   0.033183   \n",
       "concrete   0.841604    0.8816   0.88147  0.863977   0.018543   0.015471   \n",
       "forest     2.438649  2.460828  2.461555   2.46139   0.014303   0.009693   \n",
       "homes      0.879636  0.915799  0.929788  0.910603    0.01197   0.010561   \n",
       "imdb_wiki  1.840711  1.925684  1.927118  1.926403   0.017655   0.010212   \n",
       "star       0.213886  0.212999   0.21269  0.212967   0.001365     0.0014   \n",
       "\n",
       "             CQR SE  CQR-r SE  \n",
       "bike       0.007981  0.008618  \n",
       "bio          0.0105  0.010552  \n",
       "cbc        0.016123  0.016005  \n",
       "community  0.033575  0.033296  \n",
       "concrete   0.014872  0.015028  \n",
       "forest     0.009691  0.009693  \n",
       "homes      0.010006  0.010757  \n",
       "imdb_wiki   0.01021  0.010132  \n",
       "star       0.001403  0.001422  "
      ]
     },
     "execution_count": 12,
     "metadata": {},
     "output_type": "execute_result"
    }
   ],
   "source": [
    "output.sort_index()"
   ]
  },
  {
   "cell_type": "code",
   "execution_count": 13,
   "id": "a0348d87-3811-4c38-a8c7-aefc9b95d231",
   "metadata": {},
   "outputs": [
    {
     "data": {
      "text/plain": [
       "'\\\\begin{tabular}{lllllllll}\\n & UACQR-P & UACQR-S & CQR & CQR-r & UACQR-P SE & UACQR-S SE & CQR SE & CQR-r SE \\\\\\\\\\nstar & 0.213886 & 0.212999 & 0.212690 & 0.212967 & 0.001365 & 0.001400 & 0.001403 & 0.001422 \\\\\\\\\\nhomes & 0.879636 & 0.915799 & 0.929788 & 0.910603 & 0.011970 & 0.010561 & 0.010006 & 0.010757 \\\\\\\\\\nimdb_wiki & 1.840711 & 1.925684 & 1.927118 & 1.926403 & 0.017655 & 0.010212 & 0.010210 & 0.010132 \\\\\\\\\\nconcrete & 0.841604 & 0.881600 & 0.881470 & 0.863977 & 0.018543 & 0.015471 & 0.014872 & 0.015028 \\\\\\\\\\nbike & 1.446504 & 1.573301 & 1.585772 & 1.564270 & 0.013002 & 0.008254 & 0.007981 & 0.008618 \\\\\\\\\\ncommunity & 2.111599 & 2.155786 & 2.157009 & 2.156207 & 0.041958 & 0.033183 & 0.033575 & 0.033296 \\\\\\\\\\nbio & 1.880100 & 1.899619 & 1.899669 & 1.899743 & 0.012167 & 0.010462 & 0.010500 & 0.010552 \\\\\\\\\\nforest & 2.438649 & 2.460828 & 2.461555 & 2.461390 & 0.014303 & 0.009693 & 0.009691 & 0.009693 \\\\\\\\\\ncbc & 1.277759 & 1.275132 & 1.272702 & 1.273174 & 0.022506 & 0.016335 & 0.016123 & 0.016005 \\\\\\\\\\n\\\\end{tabular}\\n'"
      ]
     },
     "execution_count": 13,
     "metadata": {},
     "output_type": "execute_result"
    }
   ],
   "source": [
    "output.style.to_latex()"
   ]
  },
  {
   "cell_type": "code",
   "execution_count": 14,
   "id": "eb02d97b-b4f6-4c98-bf87-dd162c39be76",
   "metadata": {},
   "outputs": [],
   "source": [
    "def negative_bold(val):\n",
    "\n",
    "\n",
    "    bold = 'bold' if val < 1.8 else ''\n",
    "\n",
    "\n",
    "    return 'font-weight: %s' % bold"
   ]
  },
  {
   "cell_type": "code",
   "execution_count": 15,
   "id": "ed9a1b6e-b258-4a24-94df-90b2c9a16e4a",
   "metadata": {},
   "outputs": [],
   "source": [
    "from scipy.stats import t\n",
    "def bold_underline_row(row):\n",
    "    # Find the smallest value in the current row\n",
    "    min_val = round(row[['UACQR-P','UACQR-S','CQR','CQR-r']].min(),3)\n",
    "\n",
    "    series = row.copy()\n",
    "    main_series = series[~series.index.str.contains(\" SE\")]\n",
    "    se_series = series[series.index.str.contains(\" SE\")].rename(lambda x: x.replace(\" SE\", \"\"))\n",
    "    \n",
    "    # Combine into a DataFrame\n",
    "    reshaped_df = pd.DataFrame({\n",
    "        \"Value\": main_series.astype(float),\n",
    "        \"SE\": se_series.astype(float)\n",
    "    })\n",
    "    \n",
    "    two_smallest_vals = reshaped_df.nsmallest(2, 'Value')\n",
    "\n",
    "    min_val_significant = two_smallest_vals.iloc[0,0]+t.ppf(0.975, 2*n-2)*(two_smallest_vals.iloc[0,1]**2+two_smallest_vals.iloc[1,1]**2)**0.5 < two_smallest_vals.iloc[1,0]\n",
    "    \n",
    "    for i in range(len(row)):\n",
    "        x = row[i]\n",
    "        row[i] = f'\\\\textbf{{{x:.3f}}}' if round(x,3) == min_val else f'{x:.3f}'\n",
    "        row[i] = f'\\\\underline{{{row[i]}}}' if min_val_significant and (round(x,3) == min_val) else row[i]\n",
    "    \n",
    "    return row\n",
    "\n",
    "\n"
   ]
  },
  {
   "cell_type": "code",
   "execution_count": 16,
   "id": "e0fceef4-52cd-4a97-b0f5-fcb895936dbd",
   "metadata": {},
   "outputs": [],
   "source": [
    "output = output.apply(bold_underline_row, axis=1)"
   ]
  },
  {
   "cell_type": "code",
   "execution_count": 17,
   "id": "7d78b4de",
   "metadata": {},
   "outputs": [],
   "source": [
    "def format_fig_and_se(row, method='CQR'):\n",
    "    fig = row[method]\n",
    "    se = row[method+' SE']\n",
    "    return f\"{fig} ({se})\""
   ]
  },
  {
   "cell_type": "code",
   "execution_count": 18,
   "id": "8eb61bce",
   "metadata": {},
   "outputs": [],
   "source": [
    "drop_columns = [c for c in output.columns if 'SE' in c]"
   ]
  },
  {
   "cell_type": "code",
   "execution_count": 19,
   "id": "e30b2594",
   "metadata": {},
   "outputs": [],
   "source": [
    "from functools import partial"
   ]
  },
  {
   "cell_type": "code",
   "execution_count": 20,
   "id": "5bdfb808",
   "metadata": {},
   "outputs": [],
   "source": [
    "output['CQR'] = output.apply(partial(format_fig_and_se, method='CQR'), axis=1)\n",
    "output['UACQR-S'] = output.apply(partial(format_fig_and_se, method='UACQR-S'), axis=1)\n",
    "output['UACQR-P'] = output.apply(partial(format_fig_and_se, method='UACQR-P'), axis=1)\n",
    "output['CQR-r'] = output.apply(partial(format_fig_and_se, method='CQR-r'), axis=1)"
   ]
  },
  {
   "cell_type": "code",
   "execution_count": 21,
   "id": "de2f02ca",
   "metadata": {},
   "outputs": [],
   "source": [
    "output.drop(columns=drop_columns, inplace=True)"
   ]
  },
  {
   "cell_type": "code",
   "execution_count": 22,
   "id": "0dbb1469",
   "metadata": {
    "scrolled": true
   },
   "outputs": [
    {
     "name": "stdout",
     "output_type": "stream",
     "text": [
      "\\begin{tabular}{lllll}\n",
      " & UACQR-P & UACQR-S & CQR & CQR-r \\\\\n",
      "\\texttt{bike} & \\underline{\\textbf{1.447}} (0.013) & 1.573 (0.008) & 1.586 (0.008) & 1.564 (0.009) \\\\\n",
      "\\texttt{bio} & \\textbf{1.880} (0.012) & 1.900 (0.010) & 1.900 (0.010) & 1.900 (0.011) \\\\\n",
      "\\texttt{cbc} & 1.278 (0.023) & 1.275 (0.016) & \\textbf{1.273} (0.016) & \\textbf{1.273} (0.016) \\\\\n",
      "\\texttt{community} & \\textbf{2.112} (0.042) & 2.156 (0.033) & 2.157 (0.034) & 2.156 (0.033) \\\\\n",
      "\\texttt{concrete} & \\textbf{0.842} (0.019) & 0.882 (0.015) & 0.881 (0.015) & 0.864 (0.015) \\\\\n",
      "\\texttt{forest} & \\textbf{2.439} (0.014) & 2.461 (0.010) & 2.462 (0.010) & 2.461 (0.010) \\\\\n",
      "\\texttt{homes} & \\textbf{0.880} (0.012) & 0.916 (0.011) & 0.930 (0.010) & 0.911 (0.011) \\\\\n",
      "\\texttt{imdb\\_wiki} & \\underline{\\textbf{1.841}} (0.018) & 1.926 (0.010) & 1.927 (0.010) & 1.926 (0.010) \\\\\n",
      "\\texttt{star} & 0.214 (0.001) & \\textbf{0.213} (0.001) & \\textbf{0.213} (0.001) & \\textbf{0.213} (0.001) \\\\\n",
      "\\end{tabular}\n",
      "\n"
     ]
    }
   ],
   "source": [
    "# Export to LaTeX\n",
    "latex_table = output.sort_index().rename(index=lambda x: f'\\\\texttt{{{x}}}').style.to_latex()\n",
    "\n",
    "\n",
    "print('\\_'.join(latex_table.split('_')))"
   ]
  },
  {
   "cell_type": "code",
   "execution_count": null,
   "id": "839a2db9",
   "metadata": {},
   "outputs": [],
   "source": []
  },
  {
   "cell_type": "code",
   "execution_count": null,
   "id": "61496b9b",
   "metadata": {},
   "outputs": [],
   "source": []
  },
  {
   "cell_type": "code",
   "execution_count": null,
   "id": "2e9259bb-4cb3-4797-a1b5-be9eee9f961e",
   "metadata": {},
   "outputs": [],
   "source": []
  },
  {
   "cell_type": "code",
   "execution_count": null,
   "id": "6fa45c35-d92b-4d14-a7be-b0a20e3276d2",
   "metadata": {},
   "outputs": [],
   "source": []
  }
 ],
 "metadata": {
  "kernelspec": {
   "display_name": "Python 3",
   "language": "python",
   "name": "python3"
  },
  "language_info": {
   "codemirror_mode": {
    "name": "ipython",
    "version": 3
   },
   "file_extension": ".py",
   "mimetype": "text/x-python",
   "name": "python",
   "nbconvert_exporter": "python",
   "pygments_lexer": "ipython3",
   "version": "3.8.5"
  }
 },
 "nbformat": 4,
 "nbformat_minor": 5
}
